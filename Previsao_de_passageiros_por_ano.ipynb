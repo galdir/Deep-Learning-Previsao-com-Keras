{
  "nbformat": 4,
  "nbformat_minor": 0,
  "metadata": {
    "colab": {
      "name": "Previsao de passageiros por ano.ipynb",
      "provenance": [],
      "collapsed_sections": [
        "k7ouYZsv5W2F",
        "zybqc1BmZKtA",
        "BePFa969Z7-A",
        "oGvXVDsLAV8h",
        "6VO3qXXZKqbz",
        "PAJ2mH-jnym6"
      ],
      "toc_visible": true,
      "include_colab_link": true
    },
    "kernelspec": {
      "name": "python3",
      "display_name": "Python 3"
    }
  },
  "cells": [
    {
      "cell_type": "markdown",
      "metadata": {
        "id": "view-in-github",
        "colab_type": "text"
      },
      "source": [
        "<a href=\"https://colab.research.google.com/github/galdir/Deep-Learning-Previsao-com-Keras/blob/master/Previsao_de_passageiros_por_ano.ipynb\" target=\"_parent\"><img src=\"https://colab.research.google.com/assets/colab-badge.svg\" alt=\"Open In Colab\"/></a>"
      ]
    },
    {
      "cell_type": "markdown",
      "metadata": {
        "id": "2QUxw2rz3IPx"
      },
      "source": [
        "# Aula 1"
      ]
    },
    {
      "cell_type": "markdown",
      "metadata": {
        "id": "nX0NwuaM5P2F"
      },
      "source": [
        "## Carregando os dados"
      ]
    },
    {
      "cell_type": "code",
      "metadata": {
        "id": "wUrtVmuQNHcU"
      },
      "source": [
        "import pandas as pd"
      ],
      "execution_count": 1,
      "outputs": []
    },
    {
      "cell_type": "code",
      "metadata": {
        "id": "y7BfD16WNmeU"
      },
      "source": [
        "passageiros = pd.read_csv('Passageiros.csv')"
      ],
      "execution_count": 2,
      "outputs": []
    },
    {
      "cell_type": "code",
      "metadata": {
        "id": "knNG-o5zPzCF",
        "outputId": "cf36d0db-c6b5-4cdf-da2c-1ecdce03cf2a",
        "colab": {
          "base_uri": "https://localhost:8080/",
          "height": 204
        }
      },
      "source": [
        "passageiros.head()"
      ],
      "execution_count": 3,
      "outputs": [
        {
          "output_type": "execute_result",
          "data": {
            "text/html": [
              "<div>\n",
              "<style scoped>\n",
              "    .dataframe tbody tr th:only-of-type {\n",
              "        vertical-align: middle;\n",
              "    }\n",
              "\n",
              "    .dataframe tbody tr th {\n",
              "        vertical-align: top;\n",
              "    }\n",
              "\n",
              "    .dataframe thead th {\n",
              "        text-align: right;\n",
              "    }\n",
              "</style>\n",
              "<table border=\"1\" class=\"dataframe\">\n",
              "  <thead>\n",
              "    <tr style=\"text-align: right;\">\n",
              "      <th></th>\n",
              "      <th>tempo</th>\n",
              "      <th>passageiros</th>\n",
              "    </tr>\n",
              "  </thead>\n",
              "  <tbody>\n",
              "    <tr>\n",
              "      <th>0</th>\n",
              "      <td>1949.000000</td>\n",
              "      <td>112</td>\n",
              "    </tr>\n",
              "    <tr>\n",
              "      <th>1</th>\n",
              "      <td>1949.083333</td>\n",
              "      <td>118</td>\n",
              "    </tr>\n",
              "    <tr>\n",
              "      <th>2</th>\n",
              "      <td>1949.166667</td>\n",
              "      <td>132</td>\n",
              "    </tr>\n",
              "    <tr>\n",
              "      <th>3</th>\n",
              "      <td>1949.250000</td>\n",
              "      <td>129</td>\n",
              "    </tr>\n",
              "    <tr>\n",
              "      <th>4</th>\n",
              "      <td>1949.333333</td>\n",
              "      <td>121</td>\n",
              "    </tr>\n",
              "  </tbody>\n",
              "</table>\n",
              "</div>"
            ],
            "text/plain": [
              "         tempo  passageiros\n",
              "0  1949.000000          112\n",
              "1  1949.083333          118\n",
              "2  1949.166667          132\n",
              "3  1949.250000          129\n",
              "4  1949.333333          121"
            ]
          },
          "metadata": {
            "tags": []
          },
          "execution_count": 3
        }
      ]
    },
    {
      "cell_type": "code",
      "metadata": {
        "id": "ArMpN38yOgNB"
      },
      "source": [
        "import seaborn as sns"
      ],
      "execution_count": 4,
      "outputs": []
    },
    {
      "cell_type": "code",
      "metadata": {
        "id": "ASPLTeX-OxMB"
      },
      "source": [
        "import matplotlib as mpl\n",
        "mpl.rcParams['figure.figsize'] = (10, 6)\n",
        "mpl.rcParams['font.size'] = 22"
      ],
      "execution_count": 5,
      "outputs": []
    },
    {
      "cell_type": "code",
      "metadata": {
        "id": "jnva3srEPLZh",
        "outputId": "f751a2bf-3803-4348-f573-3d7a761a5d33",
        "colab": {
          "base_uri": "https://localhost:8080/",
          "height": 425
        }
      },
      "source": [
        "sns.lineplot(x='tempo',y='passageiros', data=passageiros,label='dado_completo') "
      ],
      "execution_count": 6,
      "outputs": [
        {
          "output_type": "execute_result",
          "data": {
            "text/plain": [
              "<matplotlib.axes._subplots.AxesSubplot at 0x7f96e0bc1d30>"
            ]
          },
          "metadata": {
            "tags": []
          },
          "execution_count": 6
        },
        {
          "output_type": "display_data",
          "data": {
            "image/png": "[encoded data removed]",
            "text/plain": [
              "<Figure size 720x432 with 1 Axes>"
            ]
          },
          "metadata": {
            "tags": [],
            "needs_background": "light"
          }
        }
      ]
    },
    {
      "cell_type": "markdown",
      "metadata": {
        "id": "2jDTVwgN5lah"
      },
      "source": [
        "## Escalando os dados"
      ]
    },
    {
      "cell_type": "code",
      "metadata": {
        "id": "mE58ekKUBYQD"
      },
      "source": [
        "from sklearn.preprocessing import StandardScaler"
      ],
      "execution_count": 7,
      "outputs": []
    },
    {
      "cell_type": "code",
      "metadata": {
        "id": "FW7yinO3uBQd"
      },
      "source": [
        "sc = StandardScaler()"
      ],
      "execution_count": 8,
      "outputs": []
    },
    {
      "cell_type": "code",
      "metadata": {
        "id": "dYOqNVU5uMSm",
        "outputId": "8e8eefb9-275c-4e00-8c04-21adb3aa1b3e",
        "colab": {
          "base_uri": "https://localhost:8080/",
          "height": 34
        }
      },
      "source": [
        "sc.fit(passageiros)"
      ],
      "execution_count": 9,
      "outputs": [
        {
          "output_type": "execute_result",
          "data": {
            "text/plain": [
              "StandardScaler(copy=True, with_mean=True, with_std=True)"
            ]
          },
          "metadata": {
            "tags": []
          },
          "execution_count": 9
        }
      ]
    },
    {
      "cell_type": "code",
      "metadata": {
        "id": "P5FKYauEuWXL"
      },
      "source": [
        "dado_escalado = sc.transform(passageiros)"
      ],
      "execution_count": 10,
      "outputs": []
    },
    {
      "cell_type": "code",
      "metadata": {
        "id": "DwWHuswQ8zDl"
      },
      "source": [
        "x=dado_escalado[:,0] #Features - Características - Tempo\n",
        "y=dado_escalado[:,1] #Alvo - Número de passageiros"
      ],
      "execution_count": 11,
      "outputs": []
    },
    {
      "cell_type": "code",
      "metadata": {
        "id": "VK1utw3yKsGQ"
      },
      "source": [
        "import matplotlib.pyplot as plt"
      ],
      "execution_count": 12,
      "outputs": []
    },
    {
      "cell_type": "code",
      "metadata": {
        "id": "MN5fJ3sBw02d",
        "outputId": "e8f4c0c2-957d-4ac8-9feb-98bac4cfefd3",
        "colab": {
          "base_uri": "https://localhost:8080/",
          "height": 428
        }
      },
      "source": [
        "sns.lineplot(x=x,y=y,label='dado_escalado') \n",
        "plt.ylabel('Passageiros')\n",
        "plt.xlabel('Data')"
      ],
      "execution_count": 13,
      "outputs": [
        {
          "output_type": "execute_result",
          "data": {
            "text/plain": [
              "Text(0.5, 0, 'Data')"
            ]
          },
          "metadata": {
            "tags": []
          },
          "execution_count": 13
        },
        {
          "output_type": "display_data",
          "data": {
            "image/png": "[encoded data removed]",
            "text/plain": [
              "<Figure size 720x432 with 1 Axes>"
            ]
          },
          "metadata": {
            "tags": [],
            "needs_background": "light"
          }
        }
      ]
    },
    {
      "cell_type": "markdown",
      "metadata": {
        "id": "k7ouYZsv5W2F"
      },
      "source": [
        "## Dividindo em treino e teste"
      ]
    },
    {
      "cell_type": "code",
      "metadata": {
        "id": "dQ1FcF5EQxmG"
      },
      "source": [
        "tamanho_treino = int(len(passageiros)*0.9) #Pegando 90% dos dados para treino\n",
        "tamanho_teste = len(passageiros)-tamanho_treino #O resto vamos reservar para teste"
      ],
      "execution_count": 14,
      "outputs": []
    },
    {
      "cell_type": "code",
      "metadata": {
        "id": "p2YWXWLp-DlG"
      },
      "source": [
        "xtreino = x[0:tamanho_treino]\n",
        "ytreino = y[0:tamanho_treino]"
      ],
      "execution_count": 15,
      "outputs": []
    },
    {
      "cell_type": "code",
      "metadata": {
        "id": "ns6CQGRQETTm"
      },
      "source": [
        "xteste = x[tamanho_treino:len(passageiros)]\n",
        "yteste = y[tamanho_treino:len(passageiros)]"
      ],
      "execution_count": 16,
      "outputs": []
    },
    {
      "cell_type": "code",
      "metadata": {
        "id": "zSiCvx0XRLyY",
        "outputId": "e4b5ed97-501a-4d73-b1e6-3b5a2c504002",
        "colab": {
          "base_uri": "https://localhost:8080/",
          "height": 0
        }
      },
      "source": [
        "sns.lineplot(x=xtreino,y=ytreino,label='treino') \n",
        "sns.lineplot(x=xteste,y=yteste,label='teste') "
      ],
      "execution_count": 17,
      "outputs": [
        {
          "output_type": "execute_result",
          "data": {
            "text/plain": [
              "<matplotlib.axes._subplots.AxesSubplot at 0x7f96defea320>"
            ]
          },
          "metadata": {
            "tags": []
          },
          "execution_count": 17
        },
        {
          "output_type": "display_data",
          "data": {
            "image/png": "[encoded data removed]",
            "text/plain": [
              "<Figure size 720x432 with 1 Axes>"
            ]
          },
          "metadata": {
            "tags": [],
            "needs_background": "light"
          }
        }
      ]
    },
    {
      "cell_type": "markdown",
      "metadata": {
        "id": "LseIFdma5rKN"
      },
      "source": [
        "# Aula 2\n",
        "\n",
        "## Regressão Linear"
      ]
    },
    {
      "cell_type": "code",
      "metadata": {
        "id": "d2rKq_X5F_u9"
      },
      "source": [
        "from tensorflow.keras.models import Sequential\n",
        "from tensorflow.keras.layers import Dense"
      ],
      "execution_count": 18,
      "outputs": []
    },
    {
      "cell_type": "code",
      "metadata": {
        "id": "ru641Txbw-YR"
      },
      "source": [
        "regressor = Sequential()"
      ],
      "execution_count": 19,
      "outputs": []
    },
    {
      "cell_type": "code",
      "metadata": {
        "id": "hQ4BqFity0x-"
      },
      "source": [
        "regressor.add(Dense(1, input_dim=1, kernel_initializer='Ones', \n",
        "                    activation='linear',use_bias=False))"
      ],
      "execution_count": 20,
      "outputs": []
    },
    {
      "cell_type": "code",
      "metadata": {
        "id": "vSeadYSHzzeQ"
      },
      "source": [
        "regressor.compile(loss='mean_squared_error',optimizer='adam')"
      ],
      "execution_count": 21,
      "outputs": []
    },
    {
      "cell_type": "code",
      "metadata": {
        "id": "NVX6hgkz7XRn",
        "outputId": "cd33daab-10e6-4595-e15e-131a713c6149",
        "colab": {
          "base_uri": "https://localhost:8080/",
          "height": 187
        }
      },
      "source": [
        "regressor.summary()"
      ],
      "execution_count": 22,
      "outputs": [
        {
          "output_type": "stream",
          "text": [
            "Model: \"sequential\"\n",
            "_________________________________________________________________\n",
            "Layer (type)                 Output Shape              Param #   \n",
            "=================================================================\n",
            "dense (Dense)                (None, 1)                 1         \n",
            "=================================================================\n",
            "Total params: 1\n",
            "Trainable params: 1\n",
            "Non-trainable params: 0\n",
            "_________________________________________________________________\n"
          ],
          "name": "stdout"
        }
      ]
    },
    {
      "cell_type": "code",
      "metadata": {
        "id": "ku2t83Kfz8yC",
        "outputId": "8bf0882f-9ff4-4d43-de35-2f40a5948482",
        "colab": {
          "base_uri": "https://localhost:8080/",
          "height": 51
        }
      },
      "source": [
        "regressor.fit(xtreino,ytreino)"
      ],
      "execution_count": 23,
      "outputs": [
        {
          "output_type": "stream",
          "text": [
            "5/5 [==============================] - 0s 1ms/step - loss: 0.1285\n"
          ],
          "name": "stdout"
        },
        {
          "output_type": "execute_result",
          "data": {
            "text/plain": [
              "<tensorflow.python.keras.callbacks.History at 0x7f96a8a99550>"
            ]
          },
          "metadata": {
            "tags": []
          },
          "execution_count": 23
        }
      ]
    },
    {
      "cell_type": "code",
      "metadata": {
        "id": "4W6W4BCqxyGk"
      },
      "source": [
        "y_predict= regressor.predict(xtreino) #Prevendo os dados de treino (o ajuste)"
      ],
      "execution_count": 24,
      "outputs": []
    },
    {
      "cell_type": "code",
      "metadata": {
        "id": "qZa_pwq8yOSp",
        "outputId": "464c3431-40a2-4b41-8fd1-522dce7d0cba",
        "colab": {
          "base_uri": "https://localhost:8080/",
          "height": 401
        }
      },
      "source": [
        "sns.lineplot(x=xtreino,y=ytreino,label='treino')\n",
        "sns.lineplot(x=xtreino,y=y_predict[:,0],label='ajuste_treino')"
      ],
      "execution_count": 25,
      "outputs": [
        {
          "output_type": "execute_result",
          "data": {
            "text/plain": [
              "<matplotlib.axes._subplots.AxesSubplot at 0x7f96a68fd7b8>"
            ]
          },
          "metadata": {
            "tags": []
          },
          "execution_count": 25
        },
        {
          "output_type": "display_data",
          "data": {
            "image/png": "[encoded data removed]",
            "text/plain": [
              "<Figure size 720x432 with 1 Axes>"
            ]
          },
          "metadata": {
            "tags": [],
            "needs_background": "light"
          }
        }
      ]
    },
    {
      "cell_type": "code",
      "metadata": {
        "id": "Vvl_QbRFNkrz"
      },
      "source": [
        "d = {'tempo': xtreino, 'passageiros': y_predict[:,0]}\n",
        "resultados = pd.DataFrame(data=d)"
      ],
      "execution_count": 26,
      "outputs": []
    },
    {
      "cell_type": "code",
      "metadata": {
        "id": "K6DF9WFJNopI",
        "outputId": "608b9edb-e79f-4771-b687-0d8ef0a23f10",
        "colab": {
          "base_uri": "https://localhost:8080/",
          "height": 419
        }
      },
      "source": [
        "resultados"
      ],
      "execution_count": 27,
      "outputs": [
        {
          "output_type": "execute_result",
          "data": {
            "text/html": [
              "<div>\n",
              "<style scoped>\n",
              "    .dataframe tbody tr th:only-of-type {\n",
              "        vertical-align: middle;\n",
              "    }\n",
              "\n",
              "    .dataframe tbody tr th {\n",
              "        vertical-align: top;\n",
              "    }\n",
              "\n",
              "    .dataframe thead th {\n",
              "        text-align: right;\n",
              "    }\n",
              "</style>\n",
              "<table border=\"1\" class=\"dataframe\">\n",
              "  <thead>\n",
              "    <tr style=\"text-align: right;\">\n",
              "      <th></th>\n",
              "      <th>tempo</th>\n",
              "      <th>passageiros</th>\n",
              "    </tr>\n",
              "  </thead>\n",
              "  <tbody>\n",
              "    <tr>\n",
              "      <th>0</th>\n",
              "      <td>-1.720064</td>\n",
              "      <td>-1.713287</td>\n",
              "    </tr>\n",
              "    <tr>\n",
              "      <th>1</th>\n",
              "      <td>-1.696007</td>\n",
              "      <td>-1.689325</td>\n",
              "    </tr>\n",
              "    <tr>\n",
              "      <th>2</th>\n",
              "      <td>-1.671950</td>\n",
              "      <td>-1.665363</td>\n",
              "    </tr>\n",
              "    <tr>\n",
              "      <th>3</th>\n",
              "      <td>-1.647894</td>\n",
              "      <td>-1.641401</td>\n",
              "    </tr>\n",
              "    <tr>\n",
              "      <th>4</th>\n",
              "      <td>-1.623837</td>\n",
              "      <td>-1.617439</td>\n",
              "    </tr>\n",
              "    <tr>\n",
              "      <th>...</th>\n",
              "      <td>...</td>\n",
              "      <td>...</td>\n",
              "    </tr>\n",
              "    <tr>\n",
              "      <th>124</th>\n",
              "      <td>1.262984</td>\n",
              "      <td>1.258008</td>\n",
              "    </tr>\n",
              "    <tr>\n",
              "      <th>125</th>\n",
              "      <td>1.287041</td>\n",
              "      <td>1.281970</td>\n",
              "    </tr>\n",
              "    <tr>\n",
              "      <th>126</th>\n",
              "      <td>1.311098</td>\n",
              "      <td>1.305932</td>\n",
              "    </tr>\n",
              "    <tr>\n",
              "      <th>127</th>\n",
              "      <td>1.335155</td>\n",
              "      <td>1.329894</td>\n",
              "    </tr>\n",
              "    <tr>\n",
              "      <th>128</th>\n",
              "      <td>1.359212</td>\n",
              "      <td>1.353857</td>\n",
              "    </tr>\n",
              "  </tbody>\n",
              "</table>\n",
              "<p>129 rows × 2 columns</p>\n",
              "</div>"
            ],
            "text/plain": [
              "        tempo  passageiros\n",
              "0   -1.720064    -1.713287\n",
              "1   -1.696007    -1.689325\n",
              "2   -1.671950    -1.665363\n",
              "3   -1.647894    -1.641401\n",
              "4   -1.623837    -1.617439\n",
              "..        ...          ...\n",
              "124  1.262984     1.258008\n",
              "125  1.287041     1.281970\n",
              "126  1.311098     1.305932\n",
              "127  1.335155     1.329894\n",
              "128  1.359212     1.353857\n",
              "\n",
              "[129 rows x 2 columns]"
            ]
          },
          "metadata": {
            "tags": []
          },
          "execution_count": 27
        }
      ]
    },
    {
      "cell_type": "code",
      "metadata": {
        "id": "BOhyer-uDUm4"
      },
      "source": [
        "resultado_transf = sc.inverse_transform(resultados)"
      ],
      "execution_count": 28,
      "outputs": []
    },
    {
      "cell_type": "code",
      "metadata": {
        "id": "OUK-_yNlWreP"
      },
      "source": [
        "resultado_transf = pd.DataFrame(resultado_transf)\n",
        "resultado_transf.columns = ['tempo','passageiros']"
      ],
      "execution_count": 29,
      "outputs": []
    },
    {
      "cell_type": "code",
      "metadata": {
        "id": "qu26HEWCMpOw",
        "outputId": "87f1a154-ae3c-4ec2-8b05-153c414cf39c",
        "colab": {
          "base_uri": "https://localhost:8080/",
          "height": 425
        }
      },
      "source": [
        "sns.lineplot(x=\"tempo\",y=\"passageiros\",data=passageiros)\n",
        "sns.lineplot(x=\"tempo\",y=\"passageiros\",data=resultado_transf)"
      ],
      "execution_count": 30,
      "outputs": [
        {
          "output_type": "execute_result",
          "data": {
            "text/plain": [
              "<matplotlib.axes._subplots.AxesSubplot at 0x7f96a68c7550>"
            ]
          },
          "metadata": {
            "tags": []
          },
          "execution_count": 30
        },
        {
          "output_type": "display_data",
          "data": {
            "image/png": "[encoded data removed]",
            "text/plain": [
              "<Figure size 720x432 with 1 Axes>"
            ]
          },
          "metadata": {
            "tags": [],
            "needs_background": "light"
          }
        }
      ]
    },
    {
      "cell_type": "code",
      "metadata": {
        "id": "TI0e2Z6vYa-T"
      },
      "source": [
        "y_predict_teste= regressor.predict(xteste) #Prevendo os dados de teste(o futuro)"
      ],
      "execution_count": 31,
      "outputs": []
    },
    {
      "cell_type": "code",
      "metadata": {
        "id": "2oUXkBfE_Ikz"
      },
      "source": [
        "d = {'tempo': xteste, 'passageiros': y_predict_teste[:,0]}\n",
        "resultados_teste = pd.DataFrame(data=d)"
      ],
      "execution_count": 32,
      "outputs": []
    },
    {
      "cell_type": "code",
      "metadata": {
        "id": "GyJw6huHFDHy"
      },
      "source": [
        "resultado_transf_teste = sc.inverse_transform(resultados_teste)"
      ],
      "execution_count": 33,
      "outputs": []
    },
    {
      "cell_type": "code",
      "metadata": {
        "id": "AJjWMD83KLhd"
      },
      "source": [
        "resultado_transf_teste = pd.DataFrame(resultado_transf_teste)\n",
        "resultado_transf_teste.columns = ['tempo','passageiros']"
      ],
      "execution_count": 34,
      "outputs": []
    },
    {
      "cell_type": "code",
      "metadata": {
        "id": "eT2Uj989FTtQ",
        "outputId": "a4228cf9-36b3-4548-e9cc-1b688192cdad",
        "colab": {
          "base_uri": "https://localhost:8080/",
          "height": 425
        }
      },
      "source": [
        "sns.lineplot(x=\"tempo\",y=\"passageiros\",data=passageiros,label='dado_completo')\n",
        "sns.lineplot(x=\"tempo\",y=\"passageiros\",data=resultado_transf,label='ajuste_treino')\n",
        "sns.lineplot(x=\"tempo\",y=\"passageiros\",data=resultado_transf_teste,label='previsão')"
      ],
      "execution_count": 35,
      "outputs": [
        {
          "output_type": "execute_result",
          "data": {
            "text/plain": [
              "<matplotlib.axes._subplots.AxesSubplot at 0x7f96a5fe3b00>"
            ]
          },
          "metadata": {
            "tags": []
          },
          "execution_count": 35
        },
        {
          "output_type": "display_data",
          "data": {
            "image/png": "[encoded data removed]",
            "text/plain": [
              "<Figure size 720x432 with 1 Axes>"
            ]
          },
          "metadata": {
            "tags": [],
            "needs_background": "light"
          }
        }
      ]
    },
    {
      "cell_type": "markdown",
      "metadata": {
        "id": "zybqc1BmZKtA"
      },
      "source": [
        "## Regressão não-linear"
      ]
    },
    {
      "cell_type": "code",
      "metadata": {
        "id": "RtPQd_PrSKKz"
      },
      "source": [
        "regressor2 = Sequential()"
      ],
      "execution_count": 36,
      "outputs": []
    },
    {
      "cell_type": "code",
      "metadata": {
        "id": "enmt_zu8drcO"
      },
      "source": [
        "regressor2.add(Dense(8, input_dim=1, kernel_initializer='random_uniform', \n",
        "                     activation='sigmoid',use_bias=False)) \n",
        "regressor2.add(Dense(8, kernel_initializer='random_uniform', \n",
        "                     activation='sigmoid',use_bias=False))\n",
        "regressor2.add(Dense(1, kernel_initializer='random_uniform', \n",
        "                     activation='linear',use_bias=False))"
      ],
      "execution_count": 37,
      "outputs": []
    },
    {
      "cell_type": "code",
      "metadata": {
        "id": "ShpxsVmHPCFo",
        "outputId": "3c53c02b-825f-41a8-8565-c2a9eee480fa",
        "colab": {
          "base_uri": "https://localhost:8080/",
          "height": 0
        }
      },
      "source": [
        "regressor2.compile(loss='mean_squared_error',optimizer='adam')\n",
        "regressor2.summary()"
      ],
      "execution_count": 38,
      "outputs": [
        {
          "output_type": "stream",
          "text": [
            "Model: \"sequential_1\"\n",
            "_________________________________________________________________\n",
            "Layer (type)                 Output Shape              Param #   \n",
            "=================================================================\n",
            "dense_1 (Dense)              (None, 8)                 8         \n",
            "_________________________________________________________________\n",
            "dense_2 (Dense)              (None, 8)                 64        \n",
            "_________________________________________________________________\n",
            "dense_3 (Dense)              (None, 1)                 8         \n",
            "=================================================================\n",
            "Total params: 80\n",
            "Trainable params: 80\n",
            "Non-trainable params: 0\n",
            "_________________________________________________________________\n"
          ],
          "name": "stdout"
        }
      ]
    },
    {
      "cell_type": "code",
      "metadata": {
        "id": "ksn7mnHrl7KE",
        "outputId": "fdaf45eb-004b-4c80-d4a4-0d8fd7d1a49a",
        "colab": {
          "base_uri": "https://localhost:8080/",
          "height": 0
        }
      },
      "source": [
        "regressor2.fit(xtreino,ytreino,epochs =500)"
      ],
      "execution_count": 39,
      "outputs": [
        {
          "output_type": "stream",
          "text": [
            "Epoch 1/500\n",
            "5/5 [==============================] - 0s 2ms/step - loss: 0.7925\n",
            "Epoch 2/500\n",
            "5/5 [==============================] - 0s 1ms/step - loss: 0.7910\n",
            "Epoch 3/500\n",
            "5/5 [==============================] - 0s 1ms/step - loss: 0.7917\n",
            "Epoch 4/500\n",
            "5/5 [==============================] - 0s 1ms/step - loss: 0.7922\n",
            "Epoch 5/500\n",
            "5/5 [==============================] - 0s 1ms/step - loss: 0.7912\n",
            "Epoch 6/500\n",
            "5/5 [==============================] - 0s 1ms/step - loss: 0.7904\n",
            "Epoch 7/500\n",
            "5/5 [==============================] - 0s 1ms/step - loss: 0.7884\n",
            "Epoch 8/500\n",
            "5/5 [==============================] - 0s 1ms/step - loss: 0.7878\n",
            "Epoch 9/500\n",
            "5/5 [==============================] - 0s 1ms/step - loss: 0.7874\n",
            "Epoch 10/500\n",
            "5/5 [==============================] - 0s 2ms/step - loss: 0.7870\n",
            "Epoch 11/500\n",
            "5/5 [==============================] - 0s 1ms/step - loss: 0.7861\n",
            "Epoch 12/500\n",
            "5/5 [==============================] - 0s 1ms/step - loss: 0.7848\n",
            "Epoch 13/500\n",
            "5/5 [==============================] - 0s 1ms/step - loss: 0.7841\n",
            "Epoch 14/500\n",
            "5/5 [==============================] - 0s 1ms/step - loss: 0.7835\n",
            "Epoch 15/500\n",
            "5/5 [==============================] - 0s 1ms/step - loss: 0.7833\n",
            "Epoch 16/500\n",
            "5/5 [==============================] - 0s 1ms/step - loss: 0.7838\n",
            "Epoch 17/500\n",
            "5/5 [==============================] - 0s 1ms/step - loss: 0.7837\n",
            "Epoch 18/500\n",
            "5/5 [==============================] - 0s 2ms/step - loss: 0.7831\n",
            "Epoch 19/500\n",
            "5/5 [==============================] - 0s 1ms/step - loss: 0.7822\n",
            "Epoch 20/500\n",
            "5/5 [==============================] - 0s 1ms/step - loss: 0.7821\n",
            "Epoch 21/500\n",
            "5/5 [==============================] - 0s 2ms/step - loss: 0.7820\n",
            "Epoch 22/500\n",
            "5/5 [==============================] - 0s 3ms/step - loss: 0.7820\n",
            "Epoch 23/500\n",
            "5/5 [==============================] - 0s 1ms/step - loss: 0.7809\n",
            "Epoch 24/500\n",
            "5/5 [==============================] - 0s 1ms/step - loss: 0.7803\n",
            "Epoch 25/500\n",
            "5/5 [==============================] - 0s 2ms/step - loss: 0.7799\n",
            "Epoch 26/500\n",
            "5/5 [==============================] - 0s 1ms/step - loss: 0.7797\n",
            "Epoch 27/500\n",
            "5/5 [==============================] - 0s 1ms/step - loss: 0.7795\n",
            "Epoch 28/500\n",
            "5/5 [==============================] - 0s 1ms/step - loss: 0.7792\n",
            "Epoch 29/500\n",
            "5/5 [==============================] - 0s 1ms/step - loss: 0.7792\n",
            "Epoch 30/500\n",
            "5/5 [==============================] - 0s 3ms/step - loss: 0.7791\n",
            "Epoch 31/500\n",
            "5/5 [==============================] - 0s 1ms/step - loss: 0.7792\n",
            "Epoch 32/500\n",
            "5/5 [==============================] - 0s 1ms/step - loss: 0.7792\n",
            "Epoch 33/500\n",
            "5/5 [==============================] - 0s 1ms/step - loss: 0.7794\n",
            "Epoch 34/500\n",
            "5/5 [==============================] - 0s 1ms/step - loss: 0.7791\n",
            "Epoch 35/500\n",
            "5/5 [==============================] - 0s 1ms/step - loss: 0.7786\n",
            "Epoch 36/500\n",
            "5/5 [==============================] - 0s 1ms/step - loss: 0.7787\n",
            "Epoch 37/500\n",
            "5/5 [==============================] - 0s 1ms/step - loss: 0.7793\n",
            "Epoch 38/500\n",
            "5/5 [==============================] - 0s 1ms/step - loss: 0.7799\n",
            "Epoch 39/500\n",
            "5/5 [==============================] - 0s 1ms/step - loss: 0.7801\n",
            "Epoch 40/500\n",
            "5/5 [==============================] - 0s 1ms/step - loss: 0.7809\n",
            "Epoch 41/500\n",
            "5/5 [==============================] - 0s 1ms/step - loss: 0.7811\n",
            "Epoch 42/500\n",
            "5/5 [==============================] - 0s 1ms/step - loss: 0.7811\n",
            "Epoch 43/500\n",
            "5/5 [==============================] - 0s 1ms/step - loss: 0.7812\n",
            "Epoch 44/500\n",
            "5/5 [==============================] - 0s 2ms/step - loss: 0.7815\n",
            "Epoch 45/500\n",
            "5/5 [==============================] - 0s 1ms/step - loss: 0.7813\n",
            "Epoch 46/500\n",
            "5/5 [==============================] - 0s 1ms/step - loss: 0.7807\n",
            "Epoch 47/500\n",
            "5/5 [==============================] - 0s 1ms/step - loss: 0.7802\n",
            "Epoch 48/500\n",
            "5/5 [==============================] - 0s 2ms/step - loss: 0.7791\n",
            "Epoch 49/500\n",
            "5/5 [==============================] - 0s 2ms/step - loss: 0.7785\n",
            "Epoch 50/500\n",
            "5/5 [==============================] - 0s 1ms/step - loss: 0.7776\n",
            "Epoch 51/500\n",
            "5/5 [==============================] - 0s 2ms/step - loss: 0.7769\n",
            "Epoch 52/500\n",
            "5/5 [==============================] - 0s 1ms/step - loss: 0.7774\n",
            "Epoch 53/500\n",
            "5/5 [==============================] - 0s 1ms/step - loss: 0.7755\n",
            "Epoch 54/500\n",
            "5/5 [==============================] - 0s 1ms/step - loss: 0.7753\n",
            "Epoch 55/500\n",
            "5/5 [==============================] - 0s 1ms/step - loss: 0.7749\n",
            "Epoch 56/500\n",
            "5/5 [==============================] - 0s 1ms/step - loss: 0.7745\n",
            "Epoch 57/500\n",
            "5/5 [==============================] - 0s 1ms/step - loss: 0.7743\n",
            "Epoch 58/500\n",
            "5/5 [==============================] - 0s 1ms/step - loss: 0.7740\n",
            "Epoch 59/500\n",
            "5/5 [==============================] - 0s 1ms/step - loss: 0.7737\n",
            "Epoch 60/500\n",
            "5/5 [==============================] - 0s 1ms/step - loss: 0.7736\n",
            "Epoch 61/500\n",
            "5/5 [==============================] - 0s 1ms/step - loss: 0.7732\n",
            "Epoch 62/500\n",
            "5/5 [==============================] - 0s 1ms/step - loss: 0.7727\n",
            "Epoch 63/500\n",
            "5/5 [==============================] - 0s 2ms/step - loss: 0.7722\n",
            "Epoch 64/500\n",
            "5/5 [==============================] - 0s 1ms/step - loss: 0.7718\n",
            "Epoch 65/500\n",
            "5/5 [==============================] - 0s 1ms/step - loss: 0.7713\n",
            "Epoch 66/500\n",
            "5/5 [==============================] - 0s 1ms/step - loss: 0.7707\n",
            "Epoch 67/500\n",
            "5/5 [==============================] - 0s 1ms/step - loss: 0.7707\n",
            "Epoch 68/500\n",
            "5/5 [==============================] - 0s 1ms/step - loss: 0.7704\n",
            "Epoch 69/500\n",
            "5/5 [==============================] - 0s 1ms/step - loss: 0.7700\n",
            "Epoch 70/500\n",
            "5/5 [==============================] - 0s 1ms/step - loss: 0.7695\n",
            "Epoch 71/500\n",
            "5/5 [==============================] - 0s 1ms/step - loss: 0.7689\n",
            "Epoch 72/500\n",
            "5/5 [==============================] - 0s 1ms/step - loss: 0.7686\n",
            "Epoch 73/500\n",
            "5/5 [==============================] - 0s 1ms/step - loss: 0.7683\n",
            "Epoch 74/500\n",
            "5/5 [==============================] - 0s 1ms/step - loss: 0.7677\n",
            "Epoch 75/500\n",
            "5/5 [==============================] - 0s 1ms/step - loss: 0.7674\n",
            "Epoch 76/500\n",
            "5/5 [==============================] - 0s 2ms/step - loss: 0.7671\n",
            "Epoch 77/500\n",
            "5/5 [==============================] - 0s 1ms/step - loss: 0.7669\n",
            "Epoch 78/500\n",
            "5/5 [==============================] - 0s 1ms/step - loss: 0.7663\n",
            "Epoch 79/500\n",
            "5/5 [==============================] - 0s 1ms/step - loss: 0.7657\n",
            "Epoch 80/500\n",
            "5/5 [==============================] - 0s 2ms/step - loss: 0.7649\n",
            "Epoch 81/500\n",
            "5/5 [==============================] - 0s 1ms/step - loss: 0.7642\n",
            "Epoch 82/500\n",
            "5/5 [==============================] - 0s 1ms/step - loss: 0.7635\n",
            "Epoch 83/500\n",
            "5/5 [==============================] - 0s 1ms/step - loss: 0.7631\n",
            "Epoch 84/500\n",
            "5/5 [==============================] - 0s 1ms/step - loss: 0.7624\n",
            "Epoch 85/500\n",
            "5/5 [==============================] - 0s 2ms/step - loss: 0.7618\n",
            "Epoch 86/500\n",
            "5/5 [==============================] - 0s 1ms/step - loss: 0.7612\n",
            "Epoch 87/500\n",
            "5/5 [==============================] - 0s 1ms/step - loss: 0.7600\n",
            "Epoch 88/500\n",
            "5/5 [==============================] - 0s 1ms/step - loss: 0.7593\n",
            "Epoch 89/500\n",
            "5/5 [==============================] - 0s 1ms/step - loss: 0.7588\n",
            "Epoch 90/500\n",
            "5/5 [==============================] - 0s 1ms/step - loss: 0.7569\n",
            "Epoch 91/500\n",
            "5/5 [==============================] - 0s 1ms/step - loss: 0.7568\n",
            "Epoch 92/500\n",
            "5/5 [==============================] - 0s 1ms/step - loss: 0.7569\n",
            "Epoch 93/500\n",
            "5/5 [==============================] - 0s 1ms/step - loss: 0.7568\n",
            "Epoch 94/500\n",
            "5/5 [==============================] - 0s 2ms/step - loss: 0.7563\n",
            "Epoch 95/500\n",
            "5/5 [==============================] - 0s 1ms/step - loss: 0.7562\n",
            "Epoch 96/500\n",
            "5/5 [==============================] - 0s 1ms/step - loss: 0.7556\n",
            "Epoch 97/500\n",
            "5/5 [==============================] - 0s 3ms/step - loss: 0.7552\n",
            "Epoch 98/500\n",
            "5/5 [==============================] - 0s 2ms/step - loss: 0.7549\n",
            "Epoch 99/500\n",
            "5/5 [==============================] - 0s 1ms/step - loss: 0.7545\n",
            "Epoch 100/500\n",
            "5/5 [==============================] - 0s 1ms/step - loss: 0.7539\n",
            "Epoch 101/500\n",
            "5/5 [==============================] - 0s 2ms/step - loss: 0.7531\n",
            "Epoch 102/500\n",
            "5/5 [==============================] - 0s 2ms/step - loss: 0.7511\n",
            "Epoch 103/500\n",
            "5/5 [==============================] - 0s 2ms/step - loss: 0.7494\n",
            "Epoch 104/500\n",
            "5/5 [==============================] - 0s 2ms/step - loss: 0.7484\n",
            "Epoch 105/500\n",
            "5/5 [==============================] - 0s 1ms/step - loss: 0.7475\n",
            "Epoch 106/500\n",
            "5/5 [==============================] - 0s 2ms/step - loss: 0.7465\n",
            "Epoch 107/500\n",
            "5/5 [==============================] - 0s 1ms/step - loss: 0.7454\n",
            "Epoch 108/500\n",
            "5/5 [==============================] - 0s 2ms/step - loss: 0.7441\n",
            "Epoch 109/500\n",
            "5/5 [==============================] - 0s 1ms/step - loss: 0.7425\n",
            "Epoch 110/500\n",
            "5/5 [==============================] - 0s 1ms/step - loss: 0.7413\n",
            "Epoch 111/500\n",
            "5/5 [==============================] - 0s 1ms/step - loss: 0.7401\n",
            "Epoch 112/500\n",
            "5/5 [==============================] - 0s 1ms/step - loss: 0.7388\n",
            "Epoch 113/500\n",
            "5/5 [==============================] - 0s 2ms/step - loss: 0.7377\n",
            "Epoch 114/500\n",
            "5/5 [==============================] - 0s 1ms/step - loss: 0.7362\n",
            "Epoch 115/500\n",
            "5/5 [==============================] - 0s 1ms/step - loss: 0.7350\n",
            "Epoch 116/500\n",
            "5/5 [==============================] - 0s 1ms/step - loss: 0.7338\n",
            "Epoch 117/500\n",
            "5/5 [==============================] - 0s 1ms/step - loss: 0.7323\n",
            "Epoch 118/500\n",
            "5/5 [==============================] - 0s 1ms/step - loss: 0.7306\n",
            "Epoch 119/500\n",
            "5/5 [==============================] - 0s 1ms/step - loss: 0.7291\n",
            "Epoch 120/500\n",
            "5/5 [==============================] - 0s 1ms/step - loss: 0.7272\n",
            "Epoch 121/500\n",
            "5/5 [==============================] - 0s 2ms/step - loss: 0.7253\n",
            "Epoch 122/500\n",
            "5/5 [==============================] - 0s 1ms/step - loss: 0.7251\n",
            "Epoch 123/500\n",
            "5/5 [==============================] - 0s 1ms/step - loss: 0.7241\n",
            "Epoch 124/500\n",
            "5/5 [==============================] - 0s 1ms/step - loss: 0.7229\n",
            "Epoch 125/500\n",
            "5/5 [==============================] - 0s 2ms/step - loss: 0.7209\n",
            "Epoch 126/500\n",
            "5/5 [==============================] - 0s 2ms/step - loss: 0.7187\n",
            "Epoch 127/500\n",
            "5/5 [==============================] - 0s 1ms/step - loss: 0.7167\n",
            "Epoch 128/500\n",
            "5/5 [==============================] - 0s 1ms/step - loss: 0.7144\n",
            "Epoch 129/500\n",
            "5/5 [==============================] - 0s 1ms/step - loss: 0.7119\n",
            "Epoch 130/500\n",
            "5/5 [==============================] - 0s 1ms/step - loss: 0.7093\n",
            "Epoch 131/500\n",
            "5/5 [==============================] - 0s 1ms/step - loss: 0.7055\n",
            "Epoch 132/500\n",
            "5/5 [==============================] - 0s 1ms/step - loss: 0.7038\n",
            "Epoch 133/500\n",
            "5/5 [==============================] - 0s 1ms/step - loss: 0.7019\n",
            "Epoch 134/500\n",
            "5/5 [==============================] - 0s 1ms/step - loss: 0.6995\n",
            "Epoch 135/500\n",
            "5/5 [==============================] - 0s 1ms/step - loss: 0.6972\n",
            "Epoch 136/500\n",
            "5/5 [==============================] - 0s 1ms/step - loss: 0.6949\n",
            "Epoch 137/500\n",
            "5/5 [==============================] - 0s 1ms/step - loss: 0.6926\n",
            "Epoch 138/500\n",
            "5/5 [==============================] - 0s 2ms/step - loss: 0.6902\n",
            "Epoch 139/500\n",
            "5/5 [==============================] - 0s 1ms/step - loss: 0.6880\n",
            "Epoch 140/500\n",
            "5/5 [==============================] - 0s 1ms/step - loss: 0.6852\n",
            "Epoch 141/500\n",
            "5/5 [==============================] - 0s 2ms/step - loss: 0.6829\n",
            "Epoch 142/500\n",
            "5/5 [==============================] - 0s 2ms/step - loss: 0.6800\n",
            "Epoch 143/500\n",
            "5/5 [==============================] - 0s 1ms/step - loss: 0.6770\n",
            "Epoch 144/500\n",
            "5/5 [==============================] - 0s 1ms/step - loss: 0.6742\n",
            "Epoch 145/500\n",
            "5/5 [==============================] - 0s 2ms/step - loss: 0.6715\n",
            "Epoch 146/500\n",
            "5/5 [==============================] - 0s 2ms/step - loss: 0.6684\n",
            "Epoch 147/500\n",
            "5/5 [==============================] - 0s 1ms/step - loss: 0.6657\n",
            "Epoch 148/500\n",
            "5/5 [==============================] - 0s 1ms/step - loss: 0.6632\n",
            "Epoch 149/500\n",
            "5/5 [==============================] - 0s 1ms/step - loss: 0.6601\n",
            "Epoch 150/500\n",
            "5/5 [==============================] - 0s 1ms/step - loss: 0.6570\n",
            "Epoch 151/500\n",
            "5/5 [==============================] - 0s 1ms/step - loss: 0.6533\n",
            "Epoch 152/500\n",
            "5/5 [==============================] - 0s 1ms/step - loss: 0.6498\n",
            "Epoch 153/500\n",
            "5/5 [==============================] - 0s 1ms/step - loss: 0.6456\n",
            "Epoch 154/500\n",
            "5/5 [==============================] - 0s 1ms/step - loss: 0.6421\n",
            "Epoch 155/500\n",
            "5/5 [==============================] - 0s 1ms/step - loss: 0.6387\n",
            "Epoch 156/500\n",
            "5/5 [==============================] - 0s 1ms/step - loss: 0.6350\n",
            "Epoch 157/500\n",
            "5/5 [==============================] - 0s 1ms/step - loss: 0.6319\n",
            "Epoch 158/500\n",
            "5/5 [==============================] - 0s 1ms/step - loss: 0.6286\n",
            "Epoch 159/500\n",
            "5/5 [==============================] - 0s 2ms/step - loss: 0.6251\n",
            "Epoch 160/500\n",
            "5/5 [==============================] - 0s 1ms/step - loss: 0.6204\n",
            "Epoch 161/500\n",
            "5/5 [==============================] - 0s 1ms/step - loss: 0.6171\n",
            "Epoch 162/500\n",
            "5/5 [==============================] - 0s 2ms/step - loss: 0.6132\n",
            "Epoch 163/500\n",
            "5/5 [==============================] - 0s 1ms/step - loss: 0.6092\n",
            "Epoch 164/500\n",
            "5/5 [==============================] - 0s 2ms/step - loss: 0.6053\n",
            "Epoch 165/500\n",
            "5/5 [==============================] - 0s 3ms/step - loss: 0.6015\n",
            "Epoch 166/500\n",
            "5/5 [==============================] - 0s 2ms/step - loss: 0.5977\n",
            "Epoch 167/500\n",
            "5/5 [==============================] - 0s 1ms/step - loss: 0.5937\n",
            "Epoch 168/500\n",
            "5/5 [==============================] - 0s 1ms/step - loss: 0.5908\n",
            "Epoch 169/500\n",
            "5/5 [==============================] - 0s 2ms/step - loss: 0.5868\n",
            "Epoch 170/500\n",
            "5/5 [==============================] - 0s 2ms/step - loss: 0.5827\n",
            "Epoch 171/500\n",
            "5/5 [==============================] - 0s 1ms/step - loss: 0.5784\n",
            "Epoch 172/500\n",
            "5/5 [==============================] - 0s 2ms/step - loss: 0.5734\n",
            "Epoch 173/500\n",
            "5/5 [==============================] - 0s 1ms/step - loss: 0.5687\n",
            "Epoch 174/500\n",
            "5/5 [==============================] - 0s 1ms/step - loss: 0.5646\n",
            "Epoch 175/500\n",
            "5/5 [==============================] - 0s 1ms/step - loss: 0.5605\n",
            "Epoch 176/500\n",
            "5/5 [==============================] - 0s 1ms/step - loss: 0.5560\n",
            "Epoch 177/500\n",
            "5/5 [==============================] - 0s 1ms/step - loss: 0.5513\n",
            "Epoch 178/500\n",
            "5/5 [==============================] - 0s 1ms/step - loss: 0.5471\n",
            "Epoch 179/500\n",
            "5/5 [==============================] - 0s 2ms/step - loss: 0.5429\n",
            "Epoch 180/500\n",
            "5/5 [==============================] - 0s 2ms/step - loss: 0.5389\n",
            "Epoch 181/500\n",
            "5/5 [==============================] - 0s 2ms/step - loss: 0.5353\n",
            "Epoch 182/500\n",
            "5/5 [==============================] - 0s 2ms/step - loss: 0.5315\n",
            "Epoch 183/500\n",
            "5/5 [==============================] - 0s 3ms/step - loss: 0.5279\n",
            "Epoch 184/500\n",
            "5/5 [==============================] - 0s 2ms/step - loss: 0.5241\n",
            "Epoch 185/500\n",
            "5/5 [==============================] - 0s 2ms/step - loss: 0.5201\n",
            "Epoch 186/500\n",
            "5/5 [==============================] - 0s 2ms/step - loss: 0.5166\n",
            "Epoch 187/500\n",
            "5/5 [==============================] - 0s 2ms/step - loss: 0.5126\n",
            "Epoch 188/500\n",
            "5/5 [==============================] - 0s 1ms/step - loss: 0.5090\n",
            "Epoch 189/500\n",
            "5/5 [==============================] - 0s 2ms/step - loss: 0.5052\n",
            "Epoch 190/500\n",
            "5/5 [==============================] - 0s 2ms/step - loss: 0.5011\n",
            "Epoch 191/500\n",
            "5/5 [==============================] - 0s 1ms/step - loss: 0.4968\n",
            "Epoch 192/500\n",
            "5/5 [==============================] - 0s 1ms/step - loss: 0.4926\n",
            "Epoch 193/500\n",
            "5/5 [==============================] - 0s 2ms/step - loss: 0.4889\n",
            "Epoch 194/500\n",
            "5/5 [==============================] - 0s 2ms/step - loss: 0.4853\n",
            "Epoch 195/500\n",
            "5/5 [==============================] - 0s 2ms/step - loss: 0.4812\n",
            "Epoch 196/500\n",
            "5/5 [==============================] - 0s 2ms/step - loss: 0.4775\n",
            "Epoch 197/500\n",
            "5/5 [==============================] - 0s 2ms/step - loss: 0.4738\n",
            "Epoch 198/500\n",
            "5/5 [==============================] - 0s 1ms/step - loss: 0.4703\n",
            "Epoch 199/500\n",
            "5/5 [==============================] - 0s 1ms/step - loss: 0.4663\n",
            "Epoch 200/500\n",
            "5/5 [==============================] - 0s 1ms/step - loss: 0.4620\n",
            "Epoch 201/500\n",
            "5/5 [==============================] - 0s 1ms/step - loss: 0.4564\n",
            "Epoch 202/500\n",
            "5/5 [==============================] - 0s 1ms/step - loss: 0.4522\n",
            "Epoch 203/500\n",
            "5/5 [==============================] - 0s 2ms/step - loss: 0.4482\n",
            "Epoch 204/500\n",
            "5/5 [==============================] - 0s 1ms/step - loss: 0.4443\n",
            "Epoch 205/500\n",
            "5/5 [==============================] - 0s 1ms/step - loss: 0.4412\n",
            "Epoch 206/500\n",
            "5/5 [==============================] - 0s 1ms/step - loss: 0.4374\n",
            "Epoch 207/500\n",
            "5/5 [==============================] - 0s 2ms/step - loss: 0.4340\n",
            "Epoch 208/500\n",
            "5/5 [==============================] - 0s 1ms/step - loss: 0.4306\n",
            "Epoch 209/500\n",
            "5/5 [==============================] - 0s 1ms/step - loss: 0.4270\n",
            "Epoch 210/500\n",
            "5/5 [==============================] - 0s 1ms/step - loss: 0.4234\n",
            "Epoch 211/500\n",
            "5/5 [==============================] - 0s 2ms/step - loss: 0.4197\n",
            "Epoch 212/500\n",
            "5/5 [==============================] - 0s 2ms/step - loss: 0.4159\n",
            "Epoch 213/500\n",
            "5/5 [==============================] - 0s 1ms/step - loss: 0.4113\n",
            "Epoch 214/500\n",
            "5/5 [==============================] - 0s 2ms/step - loss: 0.4070\n",
            "Epoch 215/500\n",
            "5/5 [==============================] - 0s 2ms/step - loss: 0.4027\n",
            "Epoch 216/500\n",
            "5/5 [==============================] - 0s 2ms/step - loss: 0.3988\n",
            "Epoch 217/500\n",
            "5/5 [==============================] - 0s 1ms/step - loss: 0.3945\n",
            "Epoch 218/500\n",
            "5/5 [==============================] - 0s 2ms/step - loss: 0.3905\n",
            "Epoch 219/500\n",
            "5/5 [==============================] - 0s 1ms/step - loss: 0.3868\n",
            "Epoch 220/500\n",
            "5/5 [==============================] - 0s 2ms/step - loss: 0.3829\n",
            "Epoch 221/500\n",
            "5/5 [==============================] - 0s 1ms/step - loss: 0.3793\n",
            "Epoch 222/500\n",
            "5/5 [==============================] - 0s 1ms/step - loss: 0.3757\n",
            "Epoch 223/500\n",
            "5/5 [==============================] - 0s 2ms/step - loss: 0.3720\n",
            "Epoch 224/500\n",
            "5/5 [==============================] - 0s 1ms/step - loss: 0.3686\n",
            "Epoch 225/500\n",
            "5/5 [==============================] - 0s 2ms/step - loss: 0.3654\n",
            "Epoch 226/500\n",
            "5/5 [==============================] - 0s 1ms/step - loss: 0.3618\n",
            "Epoch 227/500\n",
            "5/5 [==============================] - 0s 1ms/step - loss: 0.3584\n",
            "Epoch 228/500\n",
            "5/5 [==============================] - 0s 1ms/step - loss: 0.3552\n",
            "Epoch 229/500\n",
            "5/5 [==============================] - 0s 1ms/step - loss: 0.3511\n",
            "Epoch 230/500\n",
            "5/5 [==============================] - 0s 1ms/step - loss: 0.3472\n",
            "Epoch 231/500\n",
            "5/5 [==============================] - 0s 1ms/step - loss: 0.3436\n",
            "Epoch 232/500\n",
            "5/5 [==============================] - 0s 1ms/step - loss: 0.3404\n",
            "Epoch 233/500\n",
            "5/5 [==============================] - 0s 1ms/step - loss: 0.3377\n",
            "Epoch 234/500\n",
            "5/5 [==============================] - 0s 1ms/step - loss: 0.3346\n",
            "Epoch 235/500\n",
            "5/5 [==============================] - 0s 1ms/step - loss: 0.3319\n",
            "Epoch 236/500\n",
            "5/5 [==============================] - 0s 1ms/step - loss: 0.3287\n",
            "Epoch 237/500\n",
            "5/5 [==============================] - 0s 1ms/step - loss: 0.3247\n",
            "Epoch 238/500\n",
            "5/5 [==============================] - 0s 1ms/step - loss: 0.3216\n",
            "Epoch 239/500\n",
            "5/5 [==============================] - 0s 1ms/step - loss: 0.3187\n",
            "Epoch 240/500\n",
            "5/5 [==============================] - 0s 1ms/step - loss: 0.3154\n",
            "Epoch 241/500\n",
            "5/5 [==============================] - 0s 1ms/step - loss: 0.3115\n",
            "Epoch 242/500\n",
            "5/5 [==============================] - 0s 1ms/step - loss: 0.3084\n",
            "Epoch 243/500\n",
            "5/5 [==============================] - 0s 1ms/step - loss: 0.3053\n",
            "Epoch 244/500\n",
            "5/5 [==============================] - 0s 2ms/step - loss: 0.3022\n",
            "Epoch 245/500\n",
            "5/5 [==============================] - 0s 1ms/step - loss: 0.2992\n",
            "Epoch 246/500\n",
            "5/5 [==============================] - 0s 2ms/step - loss: 0.2966\n",
            "Epoch 247/500\n",
            "5/5 [==============================] - 0s 1ms/step - loss: 0.2939\n",
            "Epoch 248/500\n",
            "5/5 [==============================] - 0s 2ms/step - loss: 0.2911\n",
            "Epoch 249/500\n",
            "5/5 [==============================] - 0s 1ms/step - loss: 0.2887\n",
            "Epoch 250/500\n",
            "5/5 [==============================] - 0s 1ms/step - loss: 0.2862\n",
            "Epoch 251/500\n",
            "5/5 [==============================] - 0s 1ms/step - loss: 0.2841\n",
            "Epoch 252/500\n",
            "5/5 [==============================] - 0s 1ms/step - loss: 0.2820\n",
            "Epoch 253/500\n",
            "5/5 [==============================] - 0s 1ms/step - loss: 0.2798\n",
            "Epoch 254/500\n",
            "5/5 [==============================] - 0s 2ms/step - loss: 0.2777\n",
            "Epoch 255/500\n",
            "5/5 [==============================] - 0s 1ms/step - loss: 0.2754\n",
            "Epoch 256/500\n",
            "5/5 [==============================] - 0s 2ms/step - loss: 0.2736\n",
            "Epoch 257/500\n",
            "5/5 [==============================] - 0s 2ms/step - loss: 0.2714\n",
            "Epoch 258/500\n",
            "5/5 [==============================] - 0s 2ms/step - loss: 0.2696\n",
            "Epoch 259/500\n",
            "5/5 [==============================] - 0s 1ms/step - loss: 0.2673\n",
            "Epoch 260/500\n",
            "5/5 [==============================] - 0s 1ms/step - loss: 0.2646\n",
            "Epoch 261/500\n",
            "5/5 [==============================] - 0s 2ms/step - loss: 0.2622\n",
            "Epoch 262/500\n",
            "5/5 [==============================] - 0s 2ms/step - loss: 0.2600\n",
            "Epoch 263/500\n",
            "5/5 [==============================] - 0s 1ms/step - loss: 0.2580\n",
            "Epoch 264/500\n",
            "5/5 [==============================] - 0s 2ms/step - loss: 0.2562\n",
            "Epoch 265/500\n",
            "5/5 [==============================] - 0s 1ms/step - loss: 0.2540\n",
            "Epoch 266/500\n",
            "5/5 [==============================] - 0s 1ms/step - loss: 0.2514\n",
            "Epoch 267/500\n",
            "5/5 [==============================] - 0s 1ms/step - loss: 0.2491\n",
            "Epoch 268/500\n",
            "5/5 [==============================] - 0s 2ms/step - loss: 0.2471\n",
            "Epoch 269/500\n",
            "5/5 [==============================] - 0s 1ms/step - loss: 0.2452\n",
            "Epoch 270/500\n",
            "5/5 [==============================] - 0s 1ms/step - loss: 0.2435\n",
            "Epoch 271/500\n",
            "5/5 [==============================] - 0s 1ms/step - loss: 0.2417\n",
            "Epoch 272/500\n",
            "5/5 [==============================] - 0s 1ms/step - loss: 0.2402\n",
            "Epoch 273/500\n",
            "5/5 [==============================] - 0s 2ms/step - loss: 0.2388\n",
            "Epoch 274/500\n",
            "5/5 [==============================] - 0s 1ms/step - loss: 0.2375\n",
            "Epoch 275/500\n",
            "5/5 [==============================] - 0s 2ms/step - loss: 0.2356\n",
            "Epoch 276/500\n",
            "5/5 [==============================] - 0s 1ms/step - loss: 0.2335\n",
            "Epoch 277/500\n",
            "5/5 [==============================] - 0s 1ms/step - loss: 0.2321\n",
            "Epoch 278/500\n",
            "5/5 [==============================] - 0s 1ms/step - loss: 0.2303\n",
            "Epoch 279/500\n",
            "5/5 [==============================] - 0s 1ms/step - loss: 0.2287\n",
            "Epoch 280/500\n",
            "5/5 [==============================] - 0s 1ms/step - loss: 0.2270\n",
            "Epoch 281/500\n",
            "5/5 [==============================] - 0s 1ms/step - loss: 0.2257\n",
            "Epoch 282/500\n",
            "5/5 [==============================] - 0s 1ms/step - loss: 0.2244\n",
            "Epoch 283/500\n",
            "5/5 [==============================] - 0s 1ms/step - loss: 0.2231\n",
            "Epoch 284/500\n",
            "5/5 [==============================] - 0s 1ms/step - loss: 0.2219\n",
            "Epoch 285/500\n",
            "5/5 [==============================] - 0s 1ms/step - loss: 0.2208\n",
            "Epoch 286/500\n",
            "5/5 [==============================] - 0s 1ms/step - loss: 0.2196\n",
            "Epoch 287/500\n",
            "5/5 [==============================] - 0s 2ms/step - loss: 0.2184\n",
            "Epoch 288/500\n",
            "5/5 [==============================] - 0s 1ms/step - loss: 0.2173\n",
            "Epoch 289/500\n",
            "5/5 [==============================] - 0s 1ms/step - loss: 0.2164\n",
            "Epoch 290/500\n",
            "5/5 [==============================] - 0s 2ms/step - loss: 0.2153\n",
            "Epoch 291/500\n",
            "5/5 [==============================] - 0s 2ms/step - loss: 0.2142\n",
            "Epoch 292/500\n",
            "5/5 [==============================] - 0s 2ms/step - loss: 0.2132\n",
            "Epoch 293/500\n",
            "5/5 [==============================] - 0s 1ms/step - loss: 0.2123\n",
            "Epoch 294/500\n",
            "5/5 [==============================] - 0s 2ms/step - loss: 0.2114\n",
            "Epoch 295/500\n",
            "5/5 [==============================] - 0s 2ms/step - loss: 0.2104\n",
            "Epoch 296/500\n",
            "5/5 [==============================] - 0s 3ms/step - loss: 0.2097\n",
            "Epoch 297/500\n",
            "5/5 [==============================] - 0s 1ms/step - loss: 0.2087\n",
            "Epoch 298/500\n",
            "5/5 [==============================] - 0s 1ms/step - loss: 0.2075\n",
            "Epoch 299/500\n",
            "5/5 [==============================] - 0s 2ms/step - loss: 0.2064\n",
            "Epoch 300/500\n",
            "5/5 [==============================] - 0s 2ms/step - loss: 0.2054\n",
            "Epoch 301/500\n",
            "5/5 [==============================] - 0s 2ms/step - loss: 0.2044\n",
            "Epoch 302/500\n",
            "5/5 [==============================] - 0s 2ms/step - loss: 0.2030\n",
            "Epoch 303/500\n",
            "5/5 [==============================] - 0s 1ms/step - loss: 0.2020\n",
            "Epoch 304/500\n",
            "5/5 [==============================] - 0s 1ms/step - loss: 0.2012\n",
            "Epoch 305/500\n",
            "5/5 [==============================] - 0s 2ms/step - loss: 0.2004\n",
            "Epoch 306/500\n",
            "5/5 [==============================] - 0s 2ms/step - loss: 0.1996\n",
            "Epoch 307/500\n",
            "5/5 [==============================] - 0s 1ms/step - loss: 0.1987\n",
            "Epoch 308/500\n",
            "5/5 [==============================] - 0s 1ms/step - loss: 0.1980\n",
            "Epoch 309/500\n",
            "5/5 [==============================] - 0s 1ms/step - loss: 0.1973\n",
            "Epoch 310/500\n",
            "5/5 [==============================] - 0s 1ms/step - loss: 0.1966\n",
            "Epoch 311/500\n",
            "5/5 [==============================] - 0s 1ms/step - loss: 0.1961\n",
            "Epoch 312/500\n",
            "5/5 [==============================] - 0s 1ms/step - loss: 0.1955\n",
            "Epoch 313/500\n",
            "5/5 [==============================] - 0s 1ms/step - loss: 0.1948\n",
            "Epoch 314/500\n",
            "5/5 [==============================] - 0s 2ms/step - loss: 0.1940\n",
            "Epoch 315/500\n",
            "5/5 [==============================] - 0s 1ms/step - loss: 0.1933\n",
            "Epoch 316/500\n",
            "5/5 [==============================] - 0s 1ms/step - loss: 0.1924\n",
            "Epoch 317/500\n",
            "5/5 [==============================] - 0s 1ms/step - loss: 0.1916\n",
            "Epoch 318/500\n",
            "5/5 [==============================] - 0s 2ms/step - loss: 0.1906\n",
            "Epoch 319/500\n",
            "5/5 [==============================] - 0s 2ms/step - loss: 0.1900\n",
            "Epoch 320/500\n",
            "5/5 [==============================] - 0s 2ms/step - loss: 0.1891\n",
            "Epoch 321/500\n",
            "5/5 [==============================] - 0s 2ms/step - loss: 0.1881\n",
            "Epoch 322/500\n",
            "5/5 [==============================] - 0s 2ms/step - loss: 0.1871\n",
            "Epoch 323/500\n",
            "5/5 [==============================] - 0s 1ms/step - loss: 0.1860\n",
            "Epoch 324/500\n",
            "5/5 [==============================] - 0s 1ms/step - loss: 0.1848\n",
            "Epoch 325/500\n",
            "5/5 [==============================] - 0s 1ms/step - loss: 0.1845\n",
            "Epoch 326/500\n",
            "5/5 [==============================] - 0s 2ms/step - loss: 0.1841\n",
            "Epoch 327/500\n",
            "5/5 [==============================] - 0s 2ms/step - loss: 0.1833\n",
            "Epoch 328/500\n",
            "5/5 [==============================] - 0s 2ms/step - loss: 0.1821\n",
            "Epoch 329/500\n",
            "5/5 [==============================] - 0s 1ms/step - loss: 0.1810\n",
            "Epoch 330/500\n",
            "5/5 [==============================] - 0s 1ms/step - loss: 0.1800\n",
            "Epoch 331/500\n",
            "5/5 [==============================] - 0s 1ms/step - loss: 0.1793\n",
            "Epoch 332/500\n",
            "5/5 [==============================] - 0s 1ms/step - loss: 0.1787\n",
            "Epoch 333/500\n",
            "5/5 [==============================] - 0s 1ms/step - loss: 0.1781\n",
            "Epoch 334/500\n",
            "5/5 [==============================] - 0s 1ms/step - loss: 0.1776\n",
            "Epoch 335/500\n",
            "5/5 [==============================] - 0s 2ms/step - loss: 0.1768\n",
            "Epoch 336/500\n",
            "5/5 [==============================] - 0s 1ms/step - loss: 0.1763\n",
            "Epoch 337/500\n",
            "5/5 [==============================] - 0s 1ms/step - loss: 0.1757\n",
            "Epoch 338/500\n",
            "5/5 [==============================] - 0s 1ms/step - loss: 0.1749\n",
            "Epoch 339/500\n",
            "5/5 [==============================] - 0s 2ms/step - loss: 0.1743\n",
            "Epoch 340/500\n",
            "5/5 [==============================] - 0s 1ms/step - loss: 0.1738\n",
            "Epoch 341/500\n",
            "5/5 [==============================] - 0s 2ms/step - loss: 0.1730\n",
            "Epoch 342/500\n",
            "5/5 [==============================] - 0s 2ms/step - loss: 0.1721\n",
            "Epoch 343/500\n",
            "5/5 [==============================] - 0s 2ms/step - loss: 0.1713\n",
            "Epoch 344/500\n",
            "5/5 [==============================] - 0s 1ms/step - loss: 0.1706\n",
            "Epoch 345/500\n",
            "5/5 [==============================] - 0s 1ms/step - loss: 0.1701\n",
            "Epoch 346/500\n",
            "5/5 [==============================] - 0s 2ms/step - loss: 0.1698\n",
            "Epoch 347/500\n",
            "5/5 [==============================] - 0s 1ms/step - loss: 0.1694\n",
            "Epoch 348/500\n",
            "5/5 [==============================] - 0s 1ms/step - loss: 0.1689\n",
            "Epoch 349/500\n",
            "5/5 [==============================] - 0s 2ms/step - loss: 0.1686\n",
            "Epoch 350/500\n",
            "5/5 [==============================] - 0s 1ms/step - loss: 0.1682\n",
            "Epoch 351/500\n",
            "5/5 [==============================] - 0s 1ms/step - loss: 0.1678\n",
            "Epoch 352/500\n",
            "5/5 [==============================] - 0s 1ms/step - loss: 0.1674\n",
            "Epoch 353/500\n",
            "5/5 [==============================] - 0s 1ms/step - loss: 0.1671\n",
            "Epoch 354/500\n",
            "5/5 [==============================] - 0s 1ms/step - loss: 0.1667\n",
            "Epoch 355/500\n",
            "5/5 [==============================] - 0s 1ms/step - loss: 0.1664\n",
            "Epoch 356/500\n",
            "5/5 [==============================] - 0s 1ms/step - loss: 0.1660\n",
            "Epoch 357/500\n",
            "5/5 [==============================] - 0s 1ms/step - loss: 0.1654\n",
            "Epoch 358/500\n",
            "5/5 [==============================] - 0s 1ms/step - loss: 0.1645\n",
            "Epoch 359/500\n",
            "5/5 [==============================] - 0s 1ms/step - loss: 0.1640\n",
            "Epoch 360/500\n",
            "5/5 [==============================] - 0s 1ms/step - loss: 0.1636\n",
            "Epoch 361/500\n",
            "5/5 [==============================] - 0s 1ms/step - loss: 0.1632\n",
            "Epoch 362/500\n",
            "5/5 [==============================] - 0s 1ms/step - loss: 0.1629\n",
            "Epoch 363/500\n",
            "5/5 [==============================] - 0s 1ms/step - loss: 0.1627\n",
            "Epoch 364/500\n",
            "5/5 [==============================] - 0s 1ms/step - loss: 0.1626\n",
            "Epoch 365/500\n",
            "5/5 [==============================] - 0s 1ms/step - loss: 0.1622\n",
            "Epoch 366/500\n",
            "5/5 [==============================] - 0s 1ms/step - loss: 0.1618\n",
            "Epoch 367/500\n",
            "5/5 [==============================] - 0s 1ms/step - loss: 0.1613\n",
            "Epoch 368/500\n",
            "5/5 [==============================] - 0s 1ms/step - loss: 0.1609\n",
            "Epoch 369/500\n",
            "5/5 [==============================] - 0s 1ms/step - loss: 0.1604\n",
            "Epoch 370/500\n",
            "5/5 [==============================] - 0s 1ms/step - loss: 0.1601\n",
            "Epoch 371/500\n",
            "5/5 [==============================] - 0s 4ms/step - loss: 0.1597\n",
            "Epoch 372/500\n",
            "5/5 [==============================] - 0s 1ms/step - loss: 0.1594\n",
            "Epoch 373/500\n",
            "5/5 [==============================] - 0s 1ms/step - loss: 0.1591\n",
            "Epoch 374/500\n",
            "5/5 [==============================] - 0s 1ms/step - loss: 0.1586\n",
            "Epoch 375/500\n",
            "5/5 [==============================] - 0s 1ms/step - loss: 0.1582\n",
            "Epoch 376/500\n",
            "5/5 [==============================] - 0s 1ms/step - loss: 0.1579\n",
            "Epoch 377/500\n",
            "5/5 [==============================] - 0s 1ms/step - loss: 0.1575\n",
            "Epoch 378/500\n",
            "5/5 [==============================] - 0s 2ms/step - loss: 0.1572\n",
            "Epoch 379/500\n",
            "5/5 [==============================] - 0s 2ms/step - loss: 0.1571\n",
            "Epoch 380/500\n",
            "5/5 [==============================] - 0s 2ms/step - loss: 0.1567\n",
            "Epoch 381/500\n",
            "5/5 [==============================] - 0s 1ms/step - loss: 0.1565\n",
            "Epoch 382/500\n",
            "5/5 [==============================] - 0s 1ms/step - loss: 0.1563\n",
            "Epoch 383/500\n",
            "5/5 [==============================] - 0s 2ms/step - loss: 0.1561\n",
            "Epoch 384/500\n",
            "5/5 [==============================] - 0s 2ms/step - loss: 0.1559\n",
            "Epoch 385/500\n",
            "5/5 [==============================] - 0s 1ms/step - loss: 0.1553\n",
            "Epoch 386/500\n",
            "5/5 [==============================] - 0s 1ms/step - loss: 0.1552\n",
            "Epoch 387/500\n",
            "5/5 [==============================] - 0s 1ms/step - loss: 0.1549\n",
            "Epoch 388/500\n",
            "5/5 [==============================] - 0s 1ms/step - loss: 0.1548\n",
            "Epoch 389/500\n",
            "5/5 [==============================] - 0s 1ms/step - loss: 0.1547\n",
            "Epoch 390/500\n",
            "5/5 [==============================] - 0s 1ms/step - loss: 0.1549\n",
            "Epoch 391/500\n",
            "5/5 [==============================] - 0s 1ms/step - loss: 0.1548\n",
            "Epoch 392/500\n",
            "5/5 [==============================] - 0s 1ms/step - loss: 0.1550\n",
            "Epoch 393/500\n",
            "5/5 [==============================] - 0s 1ms/step - loss: 0.1546\n",
            "Epoch 394/500\n",
            "5/5 [==============================] - 0s 2ms/step - loss: 0.1543\n",
            "Epoch 395/500\n",
            "5/5 [==============================] - 0s 2ms/step - loss: 0.1541\n",
            "Epoch 396/500\n",
            "5/5 [==============================] - 0s 2ms/step - loss: 0.1539\n",
            "Epoch 397/500\n",
            "5/5 [==============================] - 0s 2ms/step - loss: 0.1536\n",
            "Epoch 398/500\n",
            "5/5 [==============================] - 0s 1ms/step - loss: 0.1533\n",
            "Epoch 399/500\n",
            "5/5 [==============================] - 0s 1ms/step - loss: 0.1532\n",
            "Epoch 400/500\n",
            "5/5 [==============================] - 0s 2ms/step - loss: 0.1531\n",
            "Epoch 401/500\n",
            "5/5 [==============================] - 0s 1ms/step - loss: 0.1530\n",
            "Epoch 402/500\n",
            "5/5 [==============================] - 0s 1ms/step - loss: 0.1529\n",
            "Epoch 403/500\n",
            "5/5 [==============================] - 0s 2ms/step - loss: 0.1528\n",
            "Epoch 404/500\n",
            "5/5 [==============================] - 0s 3ms/step - loss: 0.1527\n",
            "Epoch 405/500\n",
            "5/5 [==============================] - 0s 1ms/step - loss: 0.1527\n",
            "Epoch 406/500\n",
            "5/5 [==============================] - 0s 1ms/step - loss: 0.1527\n",
            "Epoch 407/500\n",
            "5/5 [==============================] - 0s 1ms/step - loss: 0.1527\n",
            "Epoch 408/500\n",
            "5/5 [==============================] - 0s 1ms/step - loss: 0.1525\n",
            "Epoch 409/500\n",
            "5/5 [==============================] - 0s 1ms/step - loss: 0.1522\n",
            "Epoch 410/500\n",
            "5/5 [==============================] - 0s 1ms/step - loss: 0.1520\n",
            "Epoch 411/500\n",
            "5/5 [==============================] - 0s 1ms/step - loss: 0.1518\n",
            "Epoch 412/500\n",
            "5/5 [==============================] - 0s 1ms/step - loss: 0.1514\n",
            "Epoch 413/500\n",
            "5/5 [==============================] - 0s 1ms/step - loss: 0.1513\n",
            "Epoch 414/500\n",
            "5/5 [==============================] - 0s 1ms/step - loss: 0.1512\n",
            "Epoch 415/500\n",
            "5/5 [==============================] - 0s 1ms/step - loss: 0.1511\n",
            "Epoch 416/500\n",
            "5/5 [==============================] - 0s 1ms/step - loss: 0.1510\n",
            "Epoch 417/500\n",
            "5/5 [==============================] - 0s 1ms/step - loss: 0.1509\n",
            "Epoch 418/500\n",
            "5/5 [==============================] - 0s 1ms/step - loss: 0.1507\n",
            "Epoch 419/500\n",
            "5/5 [==============================] - 0s 1ms/step - loss: 0.1509\n",
            "Epoch 420/500\n",
            "5/5 [==============================] - 0s 1ms/step - loss: 0.1509\n",
            "Epoch 421/500\n",
            "5/5 [==============================] - 0s 1ms/step - loss: 0.1511\n",
            "Epoch 422/500\n",
            "5/5 [==============================] - 0s 1ms/step - loss: 0.1511\n",
            "Epoch 423/500\n",
            "5/5 [==============================] - 0s 1ms/step - loss: 0.1511\n",
            "Epoch 424/500\n",
            "5/5 [==============================] - 0s 1ms/step - loss: 0.1508\n",
            "Epoch 425/500\n",
            "5/5 [==============================] - 0s 2ms/step - loss: 0.1507\n",
            "Epoch 426/500\n",
            "5/5 [==============================] - 0s 3ms/step - loss: 0.1506\n",
            "Epoch 427/500\n",
            "5/5 [==============================] - 0s 2ms/step - loss: 0.1506\n",
            "Epoch 428/500\n",
            "5/5 [==============================] - 0s 1ms/step - loss: 0.1505\n",
            "Epoch 429/500\n",
            "5/5 [==============================] - 0s 1ms/step - loss: 0.1505\n",
            "Epoch 430/500\n",
            "5/5 [==============================] - 0s 1ms/step - loss: 0.1503\n",
            "Epoch 431/500\n",
            "5/5 [==============================] - 0s 1ms/step - loss: 0.1502\n",
            "Epoch 432/500\n",
            "5/5 [==============================] - 0s 3ms/step - loss: 0.1500\n",
            "Epoch 433/500\n",
            "5/5 [==============================] - 0s 1ms/step - loss: 0.1499\n",
            "Epoch 434/500\n",
            "5/5 [==============================] - 0s 2ms/step - loss: 0.1497\n",
            "Epoch 435/500\n",
            "5/5 [==============================] - 0s 1ms/step - loss: 0.1496\n",
            "Epoch 436/500\n",
            "5/5 [==============================] - 0s 1ms/step - loss: 0.1495\n",
            "Epoch 437/500\n",
            "5/5 [==============================] - 0s 1ms/step - loss: 0.1496\n",
            "Epoch 438/500\n",
            "5/5 [==============================] - 0s 1ms/step - loss: 0.1497\n",
            "Epoch 439/500\n",
            "5/5 [==============================] - 0s 2ms/step - loss: 0.1499\n",
            "Epoch 440/500\n",
            "5/5 [==============================] - 0s 1ms/step - loss: 0.1501\n",
            "Epoch 441/500\n",
            "5/5 [==============================] - 0s 1ms/step - loss: 0.1500\n",
            "Epoch 442/500\n",
            "5/5 [==============================] - 0s 1ms/step - loss: 0.1498\n",
            "Epoch 443/500\n",
            "5/5 [==============================] - 0s 1ms/step - loss: 0.1493\n",
            "Epoch 444/500\n",
            "5/5 [==============================] - 0s 1ms/step - loss: 0.1491\n",
            "Epoch 445/500\n",
            "5/5 [==============================] - 0s 1ms/step - loss: 0.1492\n",
            "Epoch 446/500\n",
            "5/5 [==============================] - 0s 1ms/step - loss: 0.1492\n",
            "Epoch 447/500\n",
            "5/5 [==============================] - 0s 2ms/step - loss: 0.1490\n",
            "Epoch 448/500\n",
            "5/5 [==============================] - 0s 1ms/step - loss: 0.1491\n",
            "Epoch 449/500\n",
            "5/5 [==============================] - 0s 1ms/step - loss: 0.1491\n",
            "Epoch 450/500\n",
            "5/5 [==============================] - 0s 1ms/step - loss: 0.1490\n",
            "Epoch 451/500\n",
            "5/5 [==============================] - 0s 2ms/step - loss: 0.1489\n",
            "Epoch 452/500\n",
            "5/5 [==============================] - 0s 1ms/step - loss: 0.1488\n",
            "Epoch 453/500\n",
            "5/5 [==============================] - 0s 1ms/step - loss: 0.1487\n",
            "Epoch 454/500\n",
            "5/5 [==============================] - 0s 2ms/step - loss: 0.1487\n",
            "Epoch 455/500\n",
            "5/5 [==============================] - 0s 2ms/step - loss: 0.1486\n",
            "Epoch 456/500\n",
            "5/5 [==============================] - 0s 1ms/step - loss: 0.1485\n",
            "Epoch 457/500\n",
            "5/5 [==============================] - 0s 1ms/step - loss: 0.1485\n",
            "Epoch 458/500\n",
            "5/5 [==============================] - 0s 1ms/step - loss: 0.1485\n",
            "Epoch 459/500\n",
            "5/5 [==============================] - 0s 1ms/step - loss: 0.1484\n",
            "Epoch 460/500\n",
            "5/5 [==============================] - 0s 1ms/step - loss: 0.1484\n",
            "Epoch 461/500\n",
            "5/5 [==============================] - 0s 1ms/step - loss: 0.1483\n",
            "Epoch 462/500\n",
            "5/5 [==============================] - 0s 1ms/step - loss: 0.1481\n",
            "Epoch 463/500\n",
            "5/5 [==============================] - 0s 1ms/step - loss: 0.1482\n",
            "Epoch 464/500\n",
            "5/5 [==============================] - 0s 1ms/step - loss: 0.1482\n",
            "Epoch 465/500\n",
            "5/5 [==============================] - 0s 1ms/step - loss: 0.1482\n",
            "Epoch 466/500\n",
            "5/5 [==============================] - 0s 1ms/step - loss: 0.1481\n",
            "Epoch 467/500\n",
            "5/5 [==============================] - 0s 1ms/step - loss: 0.1480\n",
            "Epoch 468/500\n",
            "5/5 [==============================] - 0s 1ms/step - loss: 0.1481\n",
            "Epoch 469/500\n",
            "5/5 [==============================] - 0s 1ms/step - loss: 0.1482\n",
            "Epoch 470/500\n",
            "5/5 [==============================] - 0s 1ms/step - loss: 0.1481\n",
            "Epoch 471/500\n",
            "5/5 [==============================] - 0s 1ms/step - loss: 0.1480\n",
            "Epoch 472/500\n",
            "5/5 [==============================] - 0s 1ms/step - loss: 0.1479\n",
            "Epoch 473/500\n",
            "5/5 [==============================] - 0s 1ms/step - loss: 0.1476\n",
            "Epoch 474/500\n",
            "5/5 [==============================] - 0s 1ms/step - loss: 0.1476\n",
            "Epoch 475/500\n",
            "5/5 [==============================] - 0s 1ms/step - loss: 0.1476\n",
            "Epoch 476/500\n",
            "5/5 [==============================] - 0s 1ms/step - loss: 0.1476\n",
            "Epoch 477/500\n",
            "5/5 [==============================] - 0s 1ms/step - loss: 0.1474\n",
            "Epoch 478/500\n",
            "5/5 [==============================] - 0s 1ms/step - loss: 0.1474\n",
            "Epoch 479/500\n",
            "5/5 [==============================] - 0s 1ms/step - loss: 0.1474\n",
            "Epoch 480/500\n",
            "5/5 [==============================] - 0s 1ms/step - loss: 0.1473\n",
            "Epoch 481/500\n",
            "5/5 [==============================] - 0s 2ms/step - loss: 0.1473\n",
            "Epoch 482/500\n",
            "5/5 [==============================] - 0s 1ms/step - loss: 0.1473\n",
            "Epoch 483/500\n",
            "5/5 [==============================] - 0s 2ms/step - loss: 0.1472\n",
            "Epoch 484/500\n",
            "5/5 [==============================] - 0s 1ms/step - loss: 0.1471\n",
            "Epoch 485/500\n",
            "5/5 [==============================] - 0s 1ms/step - loss: 0.1470\n",
            "Epoch 486/500\n",
            "5/5 [==============================] - 0s 1ms/step - loss: 0.1471\n",
            "Epoch 487/500\n",
            "5/5 [==============================] - 0s 2ms/step - loss: 0.1470\n",
            "Epoch 488/500\n",
            "5/5 [==============================] - 0s 1ms/step - loss: 0.1470\n",
            "Epoch 489/500\n",
            "5/5 [==============================] - 0s 1ms/step - loss: 0.1469\n",
            "Epoch 490/500\n",
            "5/5 [==============================] - 0s 1ms/step - loss: 0.1467\n",
            "Epoch 491/500\n",
            "5/5 [==============================] - 0s 1ms/step - loss: 0.1466\n",
            "Epoch 492/500\n",
            "5/5 [==============================] - 0s 1ms/step - loss: 0.1466\n",
            "Epoch 493/500\n",
            "5/5 [==============================] - 0s 1ms/step - loss: 0.1466\n",
            "Epoch 494/500\n",
            "5/5 [==============================] - 0s 1ms/step - loss: 0.1465\n",
            "Epoch 495/500\n",
            "5/5 [==============================] - 0s 1ms/step - loss: 0.1466\n",
            "Epoch 496/500\n",
            "5/5 [==============================] - 0s 1ms/step - loss: 0.1467\n",
            "Epoch 497/500\n",
            "5/5 [==============================] - 0s 1ms/step - loss: 0.1466\n",
            "Epoch 498/500\n",
            "5/5 [==============================] - 0s 2ms/step - loss: 0.1466\n",
            "Epoch 499/500\n",
            "5/5 [==============================] - 0s 1ms/step - loss: 0.1466\n",
            "Epoch 500/500\n",
            "5/5 [==============================] - 0s 1ms/step - loss: 0.1468\n"
          ],
          "name": "stdout"
        },
        {
          "output_type": "execute_result",
          "data": {
            "text/plain": [
              "<tensorflow.python.keras.callbacks.History at 0x7f96a5fbd550>"
            ]
          },
          "metadata": {
            "tags": []
          },
          "execution_count": 39
        }
      ]
    },
    {
      "cell_type": "code",
      "metadata": {
        "id": "CAUKfJYujjGx"
      },
      "source": [
        "y_predict= regressor2.predict(xtreino) #Prevendo os dados de treino (o ajuste)"
      ],
      "execution_count": 40,
      "outputs": []
    },
    {
      "cell_type": "code",
      "metadata": {
        "id": "3hHowCayIsjn"
      },
      "source": [
        "y_predict_teste= regressor2.predict(xteste) #Prevendo os dados de teste(o futuro)"
      ],
      "execution_count": 41,
      "outputs": []
    },
    {
      "cell_type": "code",
      "metadata": {
        "id": "2b5XGpV7f8c0",
        "outputId": "8ff25173-8af8-4b8a-b59a-f35f6e6e7481",
        "colab": {
          "base_uri": "https://localhost:8080/",
          "height": 0
        }
      },
      "source": [
        "sns.lineplot(x=xtreino,y=ytreino,label='treino')\n",
        "sns.lineplot(x=xteste,y=yteste,label='teste')\n",
        "sns.lineplot(x=xtreino,y=y_predict[:,0],label='ajuste_treino')\n",
        "sns.lineplot(x=xteste,y=y_predict_teste[:,0],label='previsão')"
      ],
      "execution_count": 42,
      "outputs": [
        {
          "output_type": "execute_result",
          "data": {
            "text/plain": [
              "<matplotlib.axes._subplots.AxesSubplot at 0x7f96a4915f98>"
            ]
          },
          "metadata": {
            "tags": []
          },
          "execution_count": 42
        },
        {
          "output_type": "display_data",
          "data": {
            "image/png": "[encoded data removed]",
            "text/plain": [
              "<Figure size 720x432 with 1 Axes>"
            ]
          },
          "metadata": {
            "tags": [],
            "needs_background": "light"
          }
        }
      ]
    },
    {
      "cell_type": "markdown",
      "metadata": {
        "id": "NhBEyHb9Z0OK"
      },
      "source": [
        "# Aula 3"
      ]
    },
    {
      "cell_type": "markdown",
      "metadata": {
        "id": "BePFa969Z7-A"
      },
      "source": [
        "## Alterando a forma como passamos os dados\n",
        "\n",
        "Agora x e y vão valores diferentes. X vai conter o número de passageiros em um tempo anterior e y vai conter o número de passageiros em t+1, por exemplo. "
      ]
    },
    {
      "cell_type": "code",
      "metadata": {
        "id": "5lB0YhQOllRj"
      },
      "source": [
        "vetor = pd.DataFrame(ytreino)[0]"
      ],
      "execution_count": 43,
      "outputs": []
    },
    {
      "cell_type": "code",
      "metadata": {
        "id": "h-8ORPL81e6Y"
      },
      "source": [
        "import numpy as np"
      ],
      "execution_count": 44,
      "outputs": []
    },
    {
      "cell_type": "code",
      "metadata": {
        "id": "iYg7EIvXZ7Dr"
      },
      "source": [
        "def separa_dados(vetor,n_passos):\n",
        "  \"\"\"Entrada: vetor: número de passageiros\n",
        "               n_passos: número de passos no regressor\n",
        "     Saída:\n",
        "              X_novo: Array 2D \n",
        "              y_novo: Array 1D - Nosso alvo\n",
        "  \"\"\"\n",
        "  X_novo, y_novo = [], []\n",
        "  for i in range(n_passos,vetor.shape[0]):\n",
        "    X_novo.append(list(vetor.loc[i-n_passos:i-1]))\n",
        "    y_novo.append(vetor.loc[i])\n",
        "  X_novo, y_novo = np.array(X_novo), np.array(y_novo) \n",
        "  return X_novo, y_novo"
      ],
      "execution_count": 45,
      "outputs": []
    },
    {
      "cell_type": "code",
      "metadata": {
        "id": "ZBDThuBZjzPR"
      },
      "source": [
        "xtreino_novo, ytreino_novo = separa_dados(vetor,1)"
      ],
      "execution_count": 46,
      "outputs": []
    },
    {
      "cell_type": "code",
      "metadata": {
        "id": "Xv-Sdrq67wzU",
        "outputId": "5ce4cbcd-8df8-4f46-918a-31ddfc28c213",
        "colab": {
          "base_uri": "https://localhost:8080/",
          "height": 0
        }
      },
      "source": [
        "xtreino_novo[0:5] #X"
      ],
      "execution_count": 47,
      "outputs": [
        {
          "output_type": "execute_result",
          "data": {
            "text/plain": [
              "array([[-1.40777884],\n",
              "       [-1.35759023],\n",
              "       [-1.24048348],\n",
              "       [-1.26557778],\n",
              "       [-1.33249593]])"
            ]
          },
          "metadata": {
            "tags": []
          },
          "execution_count": 47
        }
      ]
    },
    {
      "cell_type": "code",
      "metadata": {
        "id": "VhQODPn18e3q",
        "outputId": "d8e04a3e-713e-4b7c-f297-46563fa7c10a",
        "colab": {
          "base_uri": "https://localhost:8080/",
          "height": 0
        }
      },
      "source": [
        "ytreino_novo[0:5] #y"
      ],
      "execution_count": 48,
      "outputs": [
        {
          "output_type": "execute_result",
          "data": {
            "text/plain": [
              "array([-1.35759023, -1.24048348, -1.26557778, -1.33249593, -1.21538918])"
            ]
          },
          "metadata": {
            "tags": []
          },
          "execution_count": 48
        }
      ]
    },
    {
      "cell_type": "markdown",
      "metadata": {
        "id": "oGvXVDsLAV8h"
      },
      "source": [
        "## Agora vamos separar o teste"
      ]
    },
    {
      "cell_type": "code",
      "metadata": {
        "id": "ImOSkCxQ83-s"
      },
      "source": [
        "vetor2 = pd.DataFrame(yteste)[0]"
      ],
      "execution_count": 49,
      "outputs": []
    },
    {
      "cell_type": "code",
      "metadata": {
        "id": "6cWeuNfyBysl"
      },
      "source": [
        "xteste_novo, yteste_novo = separa_dados(vetor2,1)"
      ],
      "execution_count": 50,
      "outputs": []
    },
    {
      "cell_type": "markdown",
      "metadata": {
        "id": "6VO3qXXZKqbz"
      },
      "source": [
        "## Voltando para as redes neurais"
      ]
    },
    {
      "cell_type": "code",
      "metadata": {
        "id": "JAac1H8tKBjN"
      },
      "source": [
        "regressor3 = Sequential()"
      ],
      "execution_count": 51,
      "outputs": []
    },
    {
      "cell_type": "code",
      "metadata": {
        "id": "P9wmv_9UM3Td",
        "outputId": "beeb4272-d3f1-4cb7-a321-a1387a8dd385",
        "colab": {
          "base_uri": "https://localhost:8080/",
          "height": 255
        }
      },
      "source": [
        "regressor3.add(Dense(8, input_dim=1, kernel_initializer='ones', activation='linear',use_bias=False))\n",
        "regressor3.add(Dense(64, kernel_initializer='random_uniform', activation='sigmoid',use_bias=False))\n",
        "regressor3.add(Dense(1, kernel_initializer='random_uniform', activation='linear',use_bias=False))\n",
        "regressor3.compile(loss='mean_squared_error',optimizer='adam')\n",
        "regressor3.summary()"
      ],
      "execution_count": 52,
      "outputs": [
        {
          "output_type": "stream",
          "text": [
            "Model: \"sequential_2\"\n",
            "_________________________________________________________________\n",
            "Layer (type)                 Output Shape              Param #   \n",
            "=================================================================\n",
            "dense_4 (Dense)              (None, 8)                 8         \n",
            "_________________________________________________________________\n",
            "dense_5 (Dense)              (None, 64)                512       \n",
            "_________________________________________________________________\n",
            "dense_6 (Dense)              (None, 1)                 64        \n",
            "=================================================================\n",
            "Total params: 584\n",
            "Trainable params: 584\n",
            "Non-trainable params: 0\n",
            "_________________________________________________________________\n"
          ],
          "name": "stdout"
        }
      ]
    },
    {
      "cell_type": "code",
      "metadata": {
        "id": "UNbo6HL2OAdY",
        "outputId": "4e83730e-8e5e-41de-c015-e711dbc6247c",
        "colab": {
          "base_uri": "https://localhost:8080/",
          "height": 1000
        }
      },
      "source": [
        "regressor3.fit(xtreino_novo,ytreino_novo,epochs =100)"
      ],
      "execution_count": 53,
      "outputs": [
        {
          "output_type": "stream",
          "text": [
            "Epoch 1/100\n",
            "4/4 [==============================] - 0s 2ms/step - loss: 0.7706\n",
            "Epoch 2/100\n",
            "4/4 [==============================] - 0s 2ms/step - loss: 0.7518\n",
            "Epoch 3/100\n",
            "4/4 [==============================] - 0s 1ms/step - loss: 0.7315\n",
            "Epoch 4/100\n",
            "4/4 [==============================] - 0s 1ms/step - loss: 0.7137\n",
            "Epoch 5/100\n",
            "4/4 [==============================] - 0s 2ms/step - loss: 0.6896\n",
            "Epoch 6/100\n",
            "4/4 [==============================] - 0s 1ms/step - loss: 0.6661\n",
            "Epoch 7/100\n",
            "4/4 [==============================] - 0s 2ms/step - loss: 0.6443\n",
            "Epoch 8/100\n",
            "4/4 [==============================] - 0s 2ms/step - loss: 0.6175\n",
            "Epoch 9/100\n",
            "4/4 [==============================] - 0s 2ms/step - loss: 0.5875\n",
            "Epoch 10/100\n",
            "4/4 [==============================] - 0s 1ms/step - loss: 0.5565\n",
            "Epoch 11/100\n",
            "4/4 [==============================] - 0s 1ms/step - loss: 0.5208\n",
            "Epoch 12/100\n",
            "4/4 [==============================] - 0s 2ms/step - loss: 0.4846\n",
            "Epoch 13/100\n",
            "4/4 [==============================] - 0s 1ms/step - loss: 0.4447\n",
            "Epoch 14/100\n",
            "4/4 [==============================] - 0s 2ms/step - loss: 0.4022\n",
            "Epoch 15/100\n",
            "4/4 [==============================] - 0s 1ms/step - loss: 0.3618\n",
            "Epoch 16/100\n",
            "4/4 [==============================] - 0s 1ms/step - loss: 0.3153\n",
            "Epoch 17/100\n",
            "4/4 [==============================] - 0s 1ms/step - loss: 0.2766\n",
            "Epoch 18/100\n",
            "4/4 [==============================] - 0s 1ms/step - loss: 0.2368\n",
            "Epoch 19/100\n",
            "4/4 [==============================] - 0s 2ms/step - loss: 0.2015\n",
            "Epoch 20/100\n",
            "4/4 [==============================] - 0s 1ms/step - loss: 0.1684\n",
            "Epoch 21/100\n",
            "4/4 [==============================] - 0s 1ms/step - loss: 0.1393\n",
            "Epoch 22/100\n",
            "4/4 [==============================] - 0s 1ms/step - loss: 0.1169\n",
            "Epoch 23/100\n",
            "4/4 [==============================] - 0s 2ms/step - loss: 0.0991\n",
            "Epoch 24/100\n",
            "4/4 [==============================] - 0s 2ms/step - loss: 0.0850\n",
            "Epoch 25/100\n",
            "4/4 [==============================] - 0s 2ms/step - loss: 0.0744\n",
            "Epoch 26/100\n",
            "4/4 [==============================] - 0s 2ms/step - loss: 0.0692\n",
            "Epoch 27/100\n",
            "4/4 [==============================] - 0s 1ms/step - loss: 0.0664\n",
            "Epoch 28/100\n",
            "4/4 [==============================] - 0s 2ms/step - loss: 0.0637\n",
            "Epoch 29/100\n",
            "4/4 [==============================] - 0s 1ms/step - loss: 0.0633\n",
            "Epoch 30/100\n",
            "4/4 [==============================] - 0s 2ms/step - loss: 0.0625\n",
            "Epoch 31/100\n",
            "4/4 [==============================] - 0s 1ms/step - loss: 0.0627\n",
            "Epoch 32/100\n",
            "4/4 [==============================] - 0s 1ms/step - loss: 0.0627\n",
            "Epoch 33/100\n",
            "4/4 [==============================] - 0s 2ms/step - loss: 0.0628\n",
            "Epoch 34/100\n",
            "4/4 [==============================] - 0s 2ms/step - loss: 0.0628\n",
            "Epoch 35/100\n",
            "4/4 [==============================] - 0s 1ms/step - loss: 0.0628\n",
            "Epoch 36/100\n",
            "4/4 [==============================] - 0s 2ms/step - loss: 0.0627\n",
            "Epoch 37/100\n",
            "4/4 [==============================] - 0s 2ms/step - loss: 0.0629\n",
            "Epoch 38/100\n",
            "4/4 [==============================] - 0s 1ms/step - loss: 0.0627\n",
            "Epoch 39/100\n",
            "4/4 [==============================] - 0s 1ms/step - loss: 0.0627\n",
            "Epoch 40/100\n",
            "4/4 [==============================] - 0s 2ms/step - loss: 0.0626\n",
            "Epoch 41/100\n",
            "4/4 [==============================] - 0s 2ms/step - loss: 0.0626\n",
            "Epoch 42/100\n",
            "4/4 [==============================] - 0s 2ms/step - loss: 0.0626\n",
            "Epoch 43/100\n",
            "4/4 [==============================] - 0s 2ms/step - loss: 0.0626\n",
            "Epoch 44/100\n",
            "4/4 [==============================] - 0s 2ms/step - loss: 0.0626\n",
            "Epoch 45/100\n",
            "4/4 [==============================] - 0s 1ms/step - loss: 0.0626\n",
            "Epoch 46/100\n",
            "4/4 [==============================] - 0s 1ms/step - loss: 0.0626\n",
            "Epoch 47/100\n",
            "4/4 [==============================] - 0s 1ms/step - loss: 0.0628\n",
            "Epoch 48/100\n",
            "4/4 [==============================] - 0s 1ms/step - loss: 0.0627\n",
            "Epoch 49/100\n",
            "4/4 [==============================] - 0s 2ms/step - loss: 0.0626\n",
            "Epoch 50/100\n",
            "4/4 [==============================] - 0s 2ms/step - loss: 0.0627\n",
            "Epoch 51/100\n",
            "4/4 [==============================] - 0s 2ms/step - loss: 0.0630\n",
            "Epoch 52/100\n",
            "4/4 [==============================] - 0s 2ms/step - loss: 0.0626\n",
            "Epoch 53/100\n",
            "4/4 [==============================] - 0s 2ms/step - loss: 0.0627\n",
            "Epoch 54/100\n",
            "4/4 [==============================] - 0s 2ms/step - loss: 0.0626\n",
            "Epoch 55/100\n",
            "4/4 [==============================] - 0s 1ms/step - loss: 0.0627\n",
            "Epoch 56/100\n",
            "4/4 [==============================] - 0s 2ms/step - loss: 0.0626\n",
            "Epoch 57/100\n",
            "4/4 [==============================] - 0s 1ms/step - loss: 0.0626\n",
            "Epoch 58/100\n",
            "4/4 [==============================] - 0s 2ms/step - loss: 0.0625\n",
            "Epoch 59/100\n",
            "4/4 [==============================] - 0s 1ms/step - loss: 0.0626\n",
            "Epoch 60/100\n",
            "4/4 [==============================] - 0s 2ms/step - loss: 0.0626\n",
            "Epoch 61/100\n",
            "4/4 [==============================] - 0s 1ms/step - loss: 0.0625\n",
            "Epoch 62/100\n",
            "4/4 [==============================] - 0s 2ms/step - loss: 0.0628\n",
            "Epoch 63/100\n",
            "4/4 [==============================] - 0s 2ms/step - loss: 0.0627\n",
            "Epoch 64/100\n",
            "4/4 [==============================] - 0s 2ms/step - loss: 0.0627\n",
            "Epoch 65/100\n",
            "4/4 [==============================] - 0s 2ms/step - loss: 0.0627\n",
            "Epoch 66/100\n",
            "4/4 [==============================] - 0s 2ms/step - loss: 0.0627\n",
            "Epoch 67/100\n",
            "4/4 [==============================] - 0s 2ms/step - loss: 0.0627\n",
            "Epoch 68/100\n",
            "4/4 [==============================] - 0s 1ms/step - loss: 0.0626\n",
            "Epoch 69/100\n",
            "4/4 [==============================] - 0s 2ms/step - loss: 0.0626\n",
            "Epoch 70/100\n",
            "4/4 [==============================] - 0s 2ms/step - loss: 0.0625\n",
            "Epoch 71/100\n",
            "4/4 [==============================] - 0s 2ms/step - loss: 0.0627\n",
            "Epoch 72/100\n",
            "4/4 [==============================] - 0s 2ms/step - loss: 0.0625\n",
            "Epoch 73/100\n",
            "4/4 [==============================] - 0s 2ms/step - loss: 0.0626\n",
            "Epoch 74/100\n",
            "4/4 [==============================] - 0s 2ms/step - loss: 0.0627\n",
            "Epoch 75/100\n",
            "4/4 [==============================] - 0s 2ms/step - loss: 0.0625\n",
            "Epoch 76/100\n",
            "4/4 [==============================] - 0s 2ms/step - loss: 0.0627\n",
            "Epoch 77/100\n",
            "4/4 [==============================] - 0s 2ms/step - loss: 0.0626\n",
            "Epoch 78/100\n",
            "4/4 [==============================] - 0s 2ms/step - loss: 0.0625\n",
            "Epoch 79/100\n",
            "4/4 [==============================] - 0s 2ms/step - loss: 0.0626\n",
            "Epoch 80/100\n",
            "4/4 [==============================] - 0s 2ms/step - loss: 0.0626\n",
            "Epoch 81/100\n",
            "4/4 [==============================] - 0s 2ms/step - loss: 0.0625\n",
            "Epoch 82/100\n",
            "4/4 [==============================] - 0s 2ms/step - loss: 0.0627\n",
            "Epoch 83/100\n",
            "4/4 [==============================] - 0s 2ms/step - loss: 0.0626\n",
            "Epoch 84/100\n",
            "4/4 [==============================] - 0s 2ms/step - loss: 0.0626\n",
            "Epoch 85/100\n",
            "4/4 [==============================] - 0s 2ms/step - loss: 0.0626\n",
            "Epoch 86/100\n",
            "4/4 [==============================] - 0s 1ms/step - loss: 0.0626\n",
            "Epoch 87/100\n",
            "4/4 [==============================] - 0s 2ms/step - loss: 0.0626\n",
            "Epoch 88/100\n",
            "4/4 [==============================] - 0s 3ms/step - loss: 0.0625\n",
            "Epoch 89/100\n",
            "4/4 [==============================] - 0s 1ms/step - loss: 0.0626\n",
            "Epoch 90/100\n",
            "4/4 [==============================] - 0s 1ms/step - loss: 0.0626\n",
            "Epoch 91/100\n",
            "4/4 [==============================] - 0s 2ms/step - loss: 0.0627\n",
            "Epoch 92/100\n",
            "4/4 [==============================] - 0s 2ms/step - loss: 0.0626\n",
            "Epoch 93/100\n",
            "4/4 [==============================] - 0s 2ms/step - loss: 0.0626\n",
            "Epoch 94/100\n",
            "4/4 [==============================] - 0s 1ms/step - loss: 0.0629\n",
            "Epoch 95/100\n",
            "4/4 [==============================] - 0s 2ms/step - loss: 0.0627\n",
            "Epoch 96/100\n",
            "4/4 [==============================] - 0s 2ms/step - loss: 0.0625\n",
            "Epoch 97/100\n",
            "4/4 [==============================] - 0s 2ms/step - loss: 0.0625\n",
            "Epoch 98/100\n",
            "4/4 [==============================] - 0s 1ms/step - loss: 0.0625\n",
            "Epoch 99/100\n",
            "4/4 [==============================] - 0s 2ms/step - loss: 0.0625\n",
            "Epoch 100/100\n",
            "4/4 [==============================] - 0s 1ms/step - loss: 0.0625\n"
          ],
          "name": "stdout"
        },
        {
          "output_type": "execute_result",
          "data": {
            "text/plain": [
              "<tensorflow.python.keras.callbacks.History at 0x7f96a4944ba8>"
            ]
          },
          "metadata": {
            "tags": []
          },
          "execution_count": 53
        }
      ]
    },
    {
      "cell_type": "code",
      "metadata": {
        "id": "iHPf2EeaQYgy"
      },
      "source": [
        "y_predict_novo = regressor3.predict(xtreino_novo)"
      ],
      "execution_count": 54,
      "outputs": []
    },
    {
      "cell_type": "code",
      "metadata": {
        "id": "8ULGBpxtUvh7",
        "outputId": "aa4e9ded-2336-4f28-a147-8a119ed03bb7",
        "colab": {
          "base_uri": "https://localhost:8080/",
          "height": 425
        }
      },
      "source": [
        "sns.lineplot(x='tempo',y=ytreino_novo,data=passageiros[1:129],label='treino')\n",
        "sns.lineplot(x='tempo',y=pd.DataFrame(y_predict_novo)[0],data=passageiros[1:129],label='ajuste_treino')"
      ],
      "execution_count": 55,
      "outputs": [
        {
          "output_type": "execute_result",
          "data": {
            "text/plain": [
              "<matplotlib.axes._subplots.AxesSubplot at 0x7f96a3fed588>"
            ]
          },
          "metadata": {
            "tags": []
          },
          "execution_count": 55
        },
        {
          "output_type": "display_data",
          "data": {
            "image/png": "[encoded data removed]",
            "text/plain": [
              "<Figure size 720x432 with 1 Axes>"
            ]
          },
          "metadata": {
            "tags": [],
            "needs_background": "light"
          }
        }
      ]
    },
    {
      "cell_type": "code",
      "metadata": {
        "id": "j_cSUf31U3Ag"
      },
      "source": [
        "y_predict_teste_novo = regressor3.predict(xteste_novo)"
      ],
      "execution_count": 56,
      "outputs": []
    },
    {
      "cell_type": "code",
      "metadata": {
        "id": "3qnFMQz5RHuE"
      },
      "source": [
        "resultado = pd.DataFrame(y_predict_teste_novo)[0]"
      ],
      "execution_count": 57,
      "outputs": []
    },
    {
      "cell_type": "code",
      "metadata": {
        "id": "PB7gGmIwKh-z",
        "outputId": "7f6c0d33-cbb6-47c3-a13a-a462ee987a7f",
        "colab": {
          "base_uri": "https://localhost:8080/",
          "height": 428
        }
      },
      "source": [
        "sns.lineplot(x='tempo',y=ytreino_novo,data=passageiros[1:129],label='treino')\n",
        "sns.lineplot(x='tempo',y=pd.DataFrame(y_predict_novo)[0],data=passageiros[1:129],label='ajuste_treino')\n",
        "\n",
        "sns.lineplot(x='tempo',y=yteste_novo,data=passageiros[130:144],label='teste')\n",
        "sns.lineplot(x='tempo',y=resultado.values,data=passageiros[130:144],label='previsão')"
      ],
      "execution_count": 58,
      "outputs": [
        {
          "output_type": "execute_result",
          "data": {
            "text/plain": [
              "<matplotlib.axes._subplots.AxesSubplot at 0x7f96a5f6dfd0>"
            ]
          },
          "metadata": {
            "tags": []
          },
          "execution_count": 58
        },
        {
          "output_type": "display_data",
          "data": {
            "image/png": "[encoded data removed]",
            "text/plain": [
              "<Figure size 720x432 with 1 Axes>"
            ]
          },
          "metadata": {
            "tags": [],
            "needs_background": "light"
          }
        }
      ]
    },
    {
      "cell_type": "markdown",
      "metadata": {
        "id": "PAJ2mH-jnym6"
      },
      "source": [
        "## Janelas"
      ]
    },
    {
      "cell_type": "code",
      "metadata": {
        "id": "4faZAXgwoHZ9"
      },
      "source": [
        "xtreino_novo, ytreino_novo = separa_dados(vetor,4)"
      ],
      "execution_count": 59,
      "outputs": []
    },
    {
      "cell_type": "code",
      "metadata": {
        "id": "x7GOldfmoHaO",
        "outputId": "c08b5ae8-d0f3-491e-fb27-1aae398bd1ae",
        "colab": {
          "base_uri": "https://localhost:8080/",
          "height": 102
        }
      },
      "source": [
        "xtreino_novo[0:5] #X"
      ],
      "execution_count": 60,
      "outputs": [
        {
          "output_type": "execute_result",
          "data": {
            "text/plain": [
              "array([[-1.40777884, -1.35759023, -1.24048348, -1.26557778],\n",
              "       [-1.35759023, -1.24048348, -1.26557778, -1.33249593],\n",
              "       [-1.24048348, -1.26557778, -1.33249593, -1.21538918],\n",
              "       [-1.26557778, -1.33249593, -1.21538918, -1.10664719],\n",
              "       [-1.33249593, -1.21538918, -1.10664719, -1.10664719]])"
            ]
          },
          "metadata": {
            "tags": []
          },
          "execution_count": 60
        }
      ]
    },
    {
      "cell_type": "code",
      "metadata": {
        "id": "5GAqSrqsoHaT",
        "outputId": "ceb38170-c814-4f31-cea2-11f33c08e277",
        "colab": {
          "base_uri": "https://localhost:8080/",
          "height": 34
        }
      },
      "source": [
        "ytreino_novo[0:5] #y"
      ],
      "execution_count": 61,
      "outputs": [
        {
          "output_type": "execute_result",
          "data": {
            "text/plain": [
              "array([-1.33249593, -1.21538918, -1.10664719, -1.10664719, -1.20702441])"
            ]
          },
          "metadata": {
            "tags": []
          },
          "execution_count": 61
        }
      ]
    },
    {
      "cell_type": "code",
      "metadata": {
        "id": "2-Ct1ZlPn-qn"
      },
      "source": [
        "xteste_novo, yteste_novo = separa_dados(vetor2,4)"
      ],
      "execution_count": 62,
      "outputs": []
    },
    {
      "cell_type": "code",
      "metadata": {
        "id": "p1xhKZhPt0Uf"
      },
      "source": [
        "regressor4 = Sequential()"
      ],
      "execution_count": 63,
      "outputs": []
    },
    {
      "cell_type": "code",
      "metadata": {
        "id": "Uua1dEGqt0Uw",
        "outputId": "216cc2cf-7041-42f2-df4d-21d79add58cb",
        "colab": {
          "base_uri": "https://localhost:8080/",
          "height": 255
        }
      },
      "source": [
        "regressor4.add(Dense(8, input_dim=4, kernel_initializer='random_uniform', activation='linear',use_bias=False)) #relu\n",
        "regressor4.add(Dense(64, kernel_initializer='random_uniform', activation='sigmoid',use_bias=False)) #relu\n",
        "regressor4.add(Dense(1, kernel_initializer='random_uniform', activation='linear',use_bias=False))\n",
        "regressor4.compile(loss='mean_squared_error',optimizer='adam')\n",
        "regressor4.summary()"
      ],
      "execution_count": 64,
      "outputs": [
        {
          "output_type": "stream",
          "text": [
            "Model: \"sequential_3\"\n",
            "_________________________________________________________________\n",
            "Layer (type)                 Output Shape              Param #   \n",
            "=================================================================\n",
            "dense_7 (Dense)              (None, 8)                 32        \n",
            "_________________________________________________________________\n",
            "dense_8 (Dense)              (None, 64)                512       \n",
            "_________________________________________________________________\n",
            "dense_9 (Dense)              (None, 1)                 64        \n",
            "=================================================================\n",
            "Total params: 608\n",
            "Trainable params: 608\n",
            "Non-trainable params: 0\n",
            "_________________________________________________________________\n"
          ],
          "name": "stdout"
        }
      ]
    },
    {
      "cell_type": "code",
      "metadata": {
        "id": "JpDXr9jMt0U3",
        "outputId": "d5279eb1-f699-4764-c4e2-0442fd844161",
        "colab": {
          "base_uri": "https://localhost:8080/",
          "height": 1000
        }
      },
      "source": [
        "regressor4.fit(xtreino_novo,ytreino_novo,epochs =300)"
      ],
      "execution_count": 65,
      "outputs": [
        {
          "output_type": "stream",
          "text": [
            "Epoch 1/300\n",
            "4/4 [==============================] - 0s 2ms/step - loss: 0.8124\n",
            "Epoch 2/300\n",
            "4/4 [==============================] - 0s 1ms/step - loss: 0.7806\n",
            "Epoch 3/300\n",
            "4/4 [==============================] - 0s 2ms/step - loss: 0.7613\n",
            "Epoch 4/300\n",
            "4/4 [==============================] - 0s 1ms/step - loss: 0.7568\n",
            "Epoch 5/300\n",
            "4/4 [==============================] - 0s 2ms/step - loss: 0.7591\n",
            "Epoch 6/300\n",
            "4/4 [==============================] - 0s 1ms/step - loss: 0.7599\n",
            "Epoch 7/300\n",
            "4/4 [==============================] - 0s 2ms/step - loss: 0.7578\n",
            "Epoch 8/300\n",
            "4/4 [==============================] - 0s 1ms/step - loss: 0.7533\n",
            "Epoch 9/300\n",
            "4/4 [==============================] - 0s 1ms/step - loss: 0.7456\n",
            "Epoch 10/300\n",
            "4/4 [==============================] - 0s 1ms/step - loss: 0.7397\n",
            "Epoch 11/300\n",
            "4/4 [==============================] - 0s 1ms/step - loss: 0.7337\n",
            "Epoch 12/300\n",
            "4/4 [==============================] - 0s 2ms/step - loss: 0.7251\n",
            "Epoch 13/300\n",
            "4/4 [==============================] - 0s 1ms/step - loss: 0.7155\n",
            "Epoch 14/300\n",
            "4/4 [==============================] - 0s 2ms/step - loss: 0.7042\n",
            "Epoch 15/300\n",
            "4/4 [==============================] - 0s 2ms/step - loss: 0.6915\n",
            "Epoch 16/300\n",
            "4/4 [==============================] - 0s 1ms/step - loss: 0.6763\n",
            "Epoch 17/300\n",
            "4/4 [==============================] - 0s 1ms/step - loss: 0.6589\n",
            "Epoch 18/300\n",
            "4/4 [==============================] - 0s 1ms/step - loss: 0.6380\n",
            "Epoch 19/300\n",
            "4/4 [==============================] - 0s 1ms/step - loss: 0.6161\n",
            "Epoch 20/300\n",
            "4/4 [==============================] - 0s 1ms/step - loss: 0.5885\n",
            "Epoch 21/300\n",
            "4/4 [==============================] - 0s 1ms/step - loss: 0.5594\n",
            "Epoch 22/300\n",
            "4/4 [==============================] - 0s 1ms/step - loss: 0.5275\n",
            "Epoch 23/300\n",
            "4/4 [==============================] - 0s 1ms/step - loss: 0.4887\n",
            "Epoch 24/300\n",
            "4/4 [==============================] - 0s 2ms/step - loss: 0.4491\n",
            "Epoch 25/300\n",
            "4/4 [==============================] - 0s 2ms/step - loss: 0.4092\n",
            "Epoch 26/300\n",
            "4/4 [==============================] - 0s 2ms/step - loss: 0.3659\n",
            "Epoch 27/300\n",
            "4/4 [==============================] - 0s 2ms/step - loss: 0.3228\n",
            "Epoch 28/300\n",
            "4/4 [==============================] - 0s 2ms/step - loss: 0.2806\n",
            "Epoch 29/300\n",
            "4/4 [==============================] - 0s 2ms/step - loss: 0.2447\n",
            "Epoch 30/300\n",
            "4/4 [==============================] - 0s 1ms/step - loss: 0.2105\n",
            "Epoch 31/300\n",
            "4/4 [==============================] - 0s 3ms/step - loss: 0.1876\n",
            "Epoch 32/300\n",
            "4/4 [==============================] - 0s 2ms/step - loss: 0.1658\n",
            "Epoch 33/300\n",
            "4/4 [==============================] - 0s 2ms/step - loss: 0.1536\n",
            "Epoch 34/300\n",
            "4/4 [==============================] - 0s 2ms/step - loss: 0.1460\n",
            "Epoch 35/300\n",
            "4/4 [==============================] - 0s 1ms/step - loss: 0.1423\n",
            "Epoch 36/300\n",
            "4/4 [==============================] - 0s 2ms/step - loss: 0.1423\n",
            "Epoch 37/300\n",
            "4/4 [==============================] - 0s 1ms/step - loss: 0.1399\n",
            "Epoch 38/300\n",
            "4/4 [==============================] - 0s 1ms/step - loss: 0.1396\n",
            "Epoch 39/300\n",
            "4/4 [==============================] - 0s 1ms/step - loss: 0.1394\n",
            "Epoch 40/300\n",
            "4/4 [==============================] - 0s 1ms/step - loss: 0.1385\n",
            "Epoch 41/300\n",
            "4/4 [==============================] - 0s 1ms/step - loss: 0.1377\n",
            "Epoch 42/300\n",
            "4/4 [==============================] - 0s 1ms/step - loss: 0.1369\n",
            "Epoch 43/300\n",
            "4/4 [==============================] - 0s 2ms/step - loss: 0.1361\n",
            "Epoch 44/300\n",
            "4/4 [==============================] - 0s 3ms/step - loss: 0.1354\n",
            "Epoch 45/300\n",
            "4/4 [==============================] - 0s 2ms/step - loss: 0.1347\n",
            "Epoch 46/300\n",
            "4/4 [==============================] - 0s 2ms/step - loss: 0.1342\n",
            "Epoch 47/300\n",
            "4/4 [==============================] - 0s 2ms/step - loss: 0.1333\n",
            "Epoch 48/300\n",
            "4/4 [==============================] - 0s 1ms/step - loss: 0.1328\n",
            "Epoch 49/300\n",
            "4/4 [==============================] - 0s 2ms/step - loss: 0.1323\n",
            "Epoch 50/300\n",
            "4/4 [==============================] - 0s 2ms/step - loss: 0.1316\n",
            "Epoch 51/300\n",
            "4/4 [==============================] - 0s 2ms/step - loss: 0.1308\n",
            "Epoch 52/300\n",
            "4/4 [==============================] - 0s 2ms/step - loss: 0.1302\n",
            "Epoch 53/300\n",
            "4/4 [==============================] - 0s 2ms/step - loss: 0.1298\n",
            "Epoch 54/300\n",
            "4/4 [==============================] - 0s 2ms/step - loss: 0.1291\n",
            "Epoch 55/300\n",
            "4/4 [==============================] - 0s 2ms/step - loss: 0.1285\n",
            "Epoch 56/300\n",
            "4/4 [==============================] - 0s 2ms/step - loss: 0.1275\n",
            "Epoch 57/300\n",
            "4/4 [==============================] - 0s 2ms/step - loss: 0.1270\n",
            "Epoch 58/300\n",
            "4/4 [==============================] - 0s 2ms/step - loss: 0.1264\n",
            "Epoch 59/300\n",
            "4/4 [==============================] - 0s 2ms/step - loss: 0.1257\n",
            "Epoch 60/300\n",
            "4/4 [==============================] - 0s 2ms/step - loss: 0.1250\n",
            "Epoch 61/300\n",
            "4/4 [==============================] - 0s 2ms/step - loss: 0.1242\n",
            "Epoch 62/300\n",
            "4/4 [==============================] - 0s 2ms/step - loss: 0.1236\n",
            "Epoch 63/300\n",
            "4/4 [==============================] - 0s 2ms/step - loss: 0.1230\n",
            "Epoch 64/300\n",
            "4/4 [==============================] - 0s 2ms/step - loss: 0.1224\n",
            "Epoch 65/300\n",
            "4/4 [==============================] - 0s 2ms/step - loss: 0.1220\n",
            "Epoch 66/300\n",
            "4/4 [==============================] - 0s 3ms/step - loss: 0.1212\n",
            "Epoch 67/300\n",
            "4/4 [==============================] - 0s 2ms/step - loss: 0.1205\n",
            "Epoch 68/300\n",
            "4/4 [==============================] - 0s 2ms/step - loss: 0.1203\n",
            "Epoch 69/300\n",
            "4/4 [==============================] - 0s 1ms/step - loss: 0.1190\n",
            "Epoch 70/300\n",
            "4/4 [==============================] - 0s 2ms/step - loss: 0.1184\n",
            "Epoch 71/300\n",
            "4/4 [==============================] - 0s 2ms/step - loss: 0.1177\n",
            "Epoch 72/300\n",
            "4/4 [==============================] - 0s 1ms/step - loss: 0.1170\n",
            "Epoch 73/300\n",
            "4/4 [==============================] - 0s 2ms/step - loss: 0.1164\n",
            "Epoch 74/300\n",
            "4/4 [==============================] - 0s 2ms/step - loss: 0.1159\n",
            "Epoch 75/300\n",
            "4/4 [==============================] - 0s 2ms/step - loss: 0.1154\n",
            "Epoch 76/300\n",
            "4/4 [==============================] - 0s 1ms/step - loss: 0.1144\n",
            "Epoch 77/300\n",
            "4/4 [==============================] - 0s 1ms/step - loss: 0.1140\n",
            "Epoch 78/300\n",
            "4/4 [==============================] - 0s 2ms/step - loss: 0.1130\n",
            "Epoch 79/300\n",
            "4/4 [==============================] - 0s 2ms/step - loss: 0.1122\n",
            "Epoch 80/300\n",
            "4/4 [==============================] - 0s 2ms/step - loss: 0.1119\n",
            "Epoch 81/300\n",
            "4/4 [==============================] - 0s 2ms/step - loss: 0.1110\n",
            "Epoch 82/300\n",
            "4/4 [==============================] - 0s 2ms/step - loss: 0.1105\n",
            "Epoch 83/300\n",
            "4/4 [==============================] - 0s 2ms/step - loss: 0.1096\n",
            "Epoch 84/300\n",
            "4/4 [==============================] - 0s 2ms/step - loss: 0.1089\n",
            "Epoch 85/300\n",
            "4/4 [==============================] - 0s 2ms/step - loss: 0.1083\n",
            "Epoch 86/300\n",
            "4/4 [==============================] - 0s 2ms/step - loss: 0.1076\n",
            "Epoch 87/300\n",
            "4/4 [==============================] - 0s 2ms/step - loss: 0.1070\n",
            "Epoch 88/300\n",
            "4/4 [==============================] - 0s 1ms/step - loss: 0.1065\n",
            "Epoch 89/300\n",
            "4/4 [==============================] - 0s 2ms/step - loss: 0.1062\n",
            "Epoch 90/300\n",
            "4/4 [==============================] - 0s 2ms/step - loss: 0.1048\n",
            "Epoch 91/300\n",
            "4/4 [==============================] - 0s 2ms/step - loss: 0.1045\n",
            "Epoch 92/300\n",
            "4/4 [==============================] - 0s 2ms/step - loss: 0.1037\n",
            "Epoch 93/300\n",
            "4/4 [==============================] - 0s 2ms/step - loss: 0.1030\n",
            "Epoch 94/300\n",
            "4/4 [==============================] - 0s 2ms/step - loss: 0.1029\n",
            "Epoch 95/300\n",
            "4/4 [==============================] - 0s 2ms/step - loss: 0.1016\n",
            "Epoch 96/300\n",
            "4/4 [==============================] - 0s 2ms/step - loss: 0.1009\n",
            "Epoch 97/300\n",
            "4/4 [==============================] - 0s 2ms/step - loss: 0.1005\n",
            "Epoch 98/300\n",
            "4/4 [==============================] - 0s 1ms/step - loss: 0.0998\n",
            "Epoch 99/300\n",
            "4/4 [==============================] - 0s 1ms/step - loss: 0.0993\n",
            "Epoch 100/300\n",
            "4/4 [==============================] - 0s 1ms/step - loss: 0.0988\n",
            "Epoch 101/300\n",
            "4/4 [==============================] - 0s 2ms/step - loss: 0.0979\n",
            "Epoch 102/300\n",
            "4/4 [==============================] - 0s 2ms/step - loss: 0.0970\n",
            "Epoch 103/300\n",
            "4/4 [==============================] - 0s 2ms/step - loss: 0.0965\n",
            "Epoch 104/300\n",
            "4/4 [==============================] - 0s 2ms/step - loss: 0.0958\n",
            "Epoch 105/300\n",
            "4/4 [==============================] - 0s 1ms/step - loss: 0.0952\n",
            "Epoch 106/300\n",
            "4/4 [==============================] - 0s 2ms/step - loss: 0.0945\n",
            "Epoch 107/300\n",
            "4/4 [==============================] - 0s 2ms/step - loss: 0.0939\n",
            "Epoch 108/300\n",
            "4/4 [==============================] - 0s 1ms/step - loss: 0.0934\n",
            "Epoch 109/300\n",
            "4/4 [==============================] - 0s 2ms/step - loss: 0.0927\n",
            "Epoch 110/300\n",
            "4/4 [==============================] - 0s 2ms/step - loss: 0.0921\n",
            "Epoch 111/300\n",
            "4/4 [==============================] - 0s 2ms/step - loss: 0.0914\n",
            "Epoch 112/300\n",
            "4/4 [==============================] - 0s 1ms/step - loss: 0.0909\n",
            "Epoch 113/300\n",
            "4/4 [==============================] - 0s 2ms/step - loss: 0.0903\n",
            "Epoch 114/300\n",
            "4/4 [==============================] - 0s 2ms/step - loss: 0.0895\n",
            "Epoch 115/300\n",
            "4/4 [==============================] - 0s 1ms/step - loss: 0.0890\n",
            "Epoch 116/300\n",
            "4/4 [==============================] - 0s 1ms/step - loss: 0.0886\n",
            "Epoch 117/300\n",
            "4/4 [==============================] - 0s 1ms/step - loss: 0.0882\n",
            "Epoch 118/300\n",
            "4/4 [==============================] - 0s 2ms/step - loss: 0.0874\n",
            "Epoch 119/300\n",
            "4/4 [==============================] - 0s 1ms/step - loss: 0.0868\n",
            "Epoch 120/300\n",
            "4/4 [==============================] - 0s 1ms/step - loss: 0.0863\n",
            "Epoch 121/300\n",
            "4/4 [==============================] - 0s 1ms/step - loss: 0.0858\n",
            "Epoch 122/300\n",
            "4/4 [==============================] - 0s 1ms/step - loss: 0.0851\n",
            "Epoch 123/300\n",
            "4/4 [==============================] - 0s 2ms/step - loss: 0.0846\n",
            "Epoch 124/300\n",
            "4/4 [==============================] - 0s 2ms/step - loss: 0.0841\n",
            "Epoch 125/300\n",
            "4/4 [==============================] - 0s 2ms/step - loss: 0.0836\n",
            "Epoch 126/300\n",
            "4/4 [==============================] - 0s 2ms/step - loss: 0.0832\n",
            "Epoch 127/300\n",
            "4/4 [==============================] - 0s 2ms/step - loss: 0.0827\n",
            "Epoch 128/300\n",
            "4/4 [==============================] - 0s 2ms/step - loss: 0.0820\n",
            "Epoch 129/300\n",
            "4/4 [==============================] - 0s 2ms/step - loss: 0.0819\n",
            "Epoch 130/300\n",
            "4/4 [==============================] - 0s 2ms/step - loss: 0.0813\n",
            "Epoch 131/300\n",
            "4/4 [==============================] - 0s 1ms/step - loss: 0.0813\n",
            "Epoch 132/300\n",
            "4/4 [==============================] - 0s 3ms/step - loss: 0.0802\n",
            "Epoch 133/300\n",
            "4/4 [==============================] - 0s 2ms/step - loss: 0.0801\n",
            "Epoch 134/300\n",
            "4/4 [==============================] - 0s 2ms/step - loss: 0.0797\n",
            "Epoch 135/300\n",
            "4/4 [==============================] - 0s 2ms/step - loss: 0.0790\n",
            "Epoch 136/300\n",
            "4/4 [==============================] - 0s 2ms/step - loss: 0.0790\n",
            "Epoch 137/300\n",
            "4/4 [==============================] - 0s 1ms/step - loss: 0.0784\n",
            "Epoch 138/300\n",
            "4/4 [==============================] - 0s 1ms/step - loss: 0.0782\n",
            "Epoch 139/300\n",
            "4/4 [==============================] - 0s 2ms/step - loss: 0.0773\n",
            "Epoch 140/300\n",
            "4/4 [==============================] - 0s 2ms/step - loss: 0.0775\n",
            "Epoch 141/300\n",
            "4/4 [==============================] - 0s 1ms/step - loss: 0.0770\n",
            "Epoch 142/300\n",
            "4/4 [==============================] - 0s 1ms/step - loss: 0.0766\n",
            "Epoch 143/300\n",
            "4/4 [==============================] - 0s 1ms/step - loss: 0.0761\n",
            "Epoch 144/300\n",
            "4/4 [==============================] - 0s 2ms/step - loss: 0.0758\n",
            "Epoch 145/300\n",
            "4/4 [==============================] - 0s 2ms/step - loss: 0.0755\n",
            "Epoch 146/300\n",
            "4/4 [==============================] - 0s 2ms/step - loss: 0.0750\n",
            "Epoch 147/300\n",
            "4/4 [==============================] - 0s 2ms/step - loss: 0.0749\n",
            "Epoch 148/300\n",
            "4/4 [==============================] - 0s 1ms/step - loss: 0.0745\n",
            "Epoch 149/300\n",
            "4/4 [==============================] - 0s 2ms/step - loss: 0.0743\n",
            "Epoch 150/300\n",
            "4/4 [==============================] - 0s 2ms/step - loss: 0.0739\n",
            "Epoch 151/300\n",
            "4/4 [==============================] - 0s 2ms/step - loss: 0.0736\n",
            "Epoch 152/300\n",
            "4/4 [==============================] - 0s 2ms/step - loss: 0.0733\n",
            "Epoch 153/300\n",
            "4/4 [==============================] - 0s 2ms/step - loss: 0.0732\n",
            "Epoch 154/300\n",
            "4/4 [==============================] - 0s 2ms/step - loss: 0.0728\n",
            "Epoch 155/300\n",
            "4/4 [==============================] - 0s 1ms/step - loss: 0.0726\n",
            "Epoch 156/300\n",
            "4/4 [==============================] - 0s 1ms/step - loss: 0.0723\n",
            "Epoch 157/300\n",
            "4/4 [==============================] - 0s 2ms/step - loss: 0.0721\n",
            "Epoch 158/300\n",
            "4/4 [==============================] - 0s 2ms/step - loss: 0.0719\n",
            "Epoch 159/300\n",
            "4/4 [==============================] - 0s 2ms/step - loss: 0.0722\n",
            "Epoch 160/300\n",
            "4/4 [==============================] - 0s 2ms/step - loss: 0.0717\n",
            "Epoch 161/300\n",
            "4/4 [==============================] - 0s 2ms/step - loss: 0.0720\n",
            "Epoch 162/300\n",
            "4/4 [==============================] - 0s 2ms/step - loss: 0.0713\n",
            "Epoch 163/300\n",
            "4/4 [==============================] - 0s 2ms/step - loss: 0.0708\n",
            "Epoch 164/300\n",
            "4/4 [==============================] - 0s 2ms/step - loss: 0.0707\n",
            "Epoch 165/300\n",
            "4/4 [==============================] - 0s 2ms/step - loss: 0.0705\n",
            "Epoch 166/300\n",
            "4/4 [==============================] - 0s 2ms/step - loss: 0.0701\n",
            "Epoch 167/300\n",
            "4/4 [==============================] - 0s 2ms/step - loss: 0.0701\n",
            "Epoch 168/300\n",
            "4/4 [==============================] - 0s 2ms/step - loss: 0.0699\n",
            "Epoch 169/300\n",
            "4/4 [==============================] - 0s 2ms/step - loss: 0.0697\n",
            "Epoch 170/300\n",
            "4/4 [==============================] - 0s 2ms/step - loss: 0.0696\n",
            "Epoch 171/300\n",
            "4/4 [==============================] - 0s 2ms/step - loss: 0.0695\n",
            "Epoch 172/300\n",
            "4/4 [==============================] - 0s 2ms/step - loss: 0.0693\n",
            "Epoch 173/300\n",
            "4/4 [==============================] - 0s 2ms/step - loss: 0.0689\n",
            "Epoch 174/300\n",
            "4/4 [==============================] - 0s 2ms/step - loss: 0.0688\n",
            "Epoch 175/300\n",
            "4/4 [==============================] - 0s 2ms/step - loss: 0.0687\n",
            "Epoch 176/300\n",
            "4/4 [==============================] - 0s 2ms/step - loss: 0.0688\n",
            "Epoch 177/300\n",
            "4/4 [==============================] - 0s 2ms/step - loss: 0.0685\n",
            "Epoch 178/300\n",
            "4/4 [==============================] - 0s 2ms/step - loss: 0.0687\n",
            "Epoch 179/300\n",
            "4/4 [==============================] - 0s 2ms/step - loss: 0.0681\n",
            "Epoch 180/300\n",
            "4/4 [==============================] - 0s 2ms/step - loss: 0.0682\n",
            "Epoch 181/300\n",
            "4/4 [==============================] - 0s 2ms/step - loss: 0.0677\n",
            "Epoch 182/300\n",
            "4/4 [==============================] - 0s 2ms/step - loss: 0.0676\n",
            "Epoch 183/300\n",
            "4/4 [==============================] - 0s 2ms/step - loss: 0.0674\n",
            "Epoch 184/300\n",
            "4/4 [==============================] - 0s 2ms/step - loss: 0.0672\n",
            "Epoch 185/300\n",
            "4/4 [==============================] - 0s 2ms/step - loss: 0.0673\n",
            "Epoch 186/300\n",
            "4/4 [==============================] - 0s 2ms/step - loss: 0.0670\n",
            "Epoch 187/300\n",
            "4/4 [==============================] - 0s 2ms/step - loss: 0.0669\n",
            "Epoch 188/300\n",
            "4/4 [==============================] - 0s 2ms/step - loss: 0.0669\n",
            "Epoch 189/300\n",
            "4/4 [==============================] - 0s 1ms/step - loss: 0.0665\n",
            "Epoch 190/300\n",
            "4/4 [==============================] - 0s 2ms/step - loss: 0.0663\n",
            "Epoch 191/300\n",
            "4/4 [==============================] - 0s 2ms/step - loss: 0.0662\n",
            "Epoch 192/300\n",
            "4/4 [==============================] - 0s 2ms/step - loss: 0.0662\n",
            "Epoch 193/300\n",
            "4/4 [==============================] - 0s 2ms/step - loss: 0.0660\n",
            "Epoch 194/300\n",
            "4/4 [==============================] - 0s 2ms/step - loss: 0.0659\n",
            "Epoch 195/300\n",
            "4/4 [==============================] - 0s 2ms/step - loss: 0.0658\n",
            "Epoch 196/300\n",
            "4/4 [==============================] - 0s 2ms/step - loss: 0.0656\n",
            "Epoch 197/300\n",
            "4/4 [==============================] - 0s 2ms/step - loss: 0.0657\n",
            "Epoch 198/300\n",
            "4/4 [==============================] - 0s 2ms/step - loss: 0.0654\n",
            "Epoch 199/300\n",
            "4/4 [==============================] - 0s 2ms/step - loss: 0.0658\n",
            "Epoch 200/300\n",
            "4/4 [==============================] - 0s 2ms/step - loss: 0.0653\n",
            "Epoch 201/300\n",
            "4/4 [==============================] - 0s 1ms/step - loss: 0.0650\n",
            "Epoch 202/300\n",
            "4/4 [==============================] - 0s 1ms/step - loss: 0.0649\n",
            "Epoch 203/300\n",
            "4/4 [==============================] - 0s 1ms/step - loss: 0.0648\n",
            "Epoch 204/300\n",
            "4/4 [==============================] - 0s 2ms/step - loss: 0.0646\n",
            "Epoch 205/300\n",
            "4/4 [==============================] - 0s 1ms/step - loss: 0.0646\n",
            "Epoch 206/300\n",
            "4/4 [==============================] - 0s 1ms/step - loss: 0.0643\n",
            "Epoch 207/300\n",
            "4/4 [==============================] - 0s 1ms/step - loss: 0.0643\n",
            "Epoch 208/300\n",
            "4/4 [==============================] - 0s 1ms/step - loss: 0.0644\n",
            "Epoch 209/300\n",
            "4/4 [==============================] - 0s 1ms/step - loss: 0.0641\n",
            "Epoch 210/300\n",
            "4/4 [==============================] - 0s 1ms/step - loss: 0.0639\n",
            "Epoch 211/300\n",
            "4/4 [==============================] - 0s 2ms/step - loss: 0.0638\n",
            "Epoch 212/300\n",
            "4/4 [==============================] - 0s 2ms/step - loss: 0.0639\n",
            "Epoch 213/300\n",
            "4/4 [==============================] - 0s 1ms/step - loss: 0.0637\n",
            "Epoch 214/300\n",
            "4/4 [==============================] - 0s 2ms/step - loss: 0.0636\n",
            "Epoch 215/300\n",
            "4/4 [==============================] - 0s 1ms/step - loss: 0.0637\n",
            "Epoch 216/300\n",
            "4/4 [==============================] - 0s 2ms/step - loss: 0.0634\n",
            "Epoch 217/300\n",
            "4/4 [==============================] - 0s 2ms/step - loss: 0.0632\n",
            "Epoch 218/300\n",
            "4/4 [==============================] - 0s 1ms/step - loss: 0.0631\n",
            "Epoch 219/300\n",
            "4/4 [==============================] - 0s 1ms/step - loss: 0.0632\n",
            "Epoch 220/300\n",
            "4/4 [==============================] - 0s 1ms/step - loss: 0.0629\n",
            "Epoch 221/300\n",
            "4/4 [==============================] - 0s 2ms/step - loss: 0.0629\n",
            "Epoch 222/300\n",
            "4/4 [==============================] - 0s 2ms/step - loss: 0.0627\n",
            "Epoch 223/300\n",
            "4/4 [==============================] - 0s 1ms/step - loss: 0.0626\n",
            "Epoch 224/300\n",
            "4/4 [==============================] - 0s 1ms/step - loss: 0.0627\n",
            "Epoch 225/300\n",
            "4/4 [==============================] - 0s 2ms/step - loss: 0.0625\n",
            "Epoch 226/300\n",
            "4/4 [==============================] - 0s 2ms/step - loss: 0.0623\n",
            "Epoch 227/300\n",
            "4/4 [==============================] - 0s 2ms/step - loss: 0.0621\n",
            "Epoch 228/300\n",
            "4/4 [==============================] - 0s 2ms/step - loss: 0.0622\n",
            "Epoch 229/300\n",
            "4/4 [==============================] - 0s 2ms/step - loss: 0.0623\n",
            "Epoch 230/300\n",
            "4/4 [==============================] - 0s 2ms/step - loss: 0.0620\n",
            "Epoch 231/300\n",
            "4/4 [==============================] - 0s 2ms/step - loss: 0.0622\n",
            "Epoch 232/300\n",
            "4/4 [==============================] - 0s 2ms/step - loss: 0.0619\n",
            "Epoch 233/300\n",
            "4/4 [==============================] - 0s 2ms/step - loss: 0.0619\n",
            "Epoch 234/300\n",
            "4/4 [==============================] - 0s 2ms/step - loss: 0.0617\n",
            "Epoch 235/300\n",
            "4/4 [==============================] - 0s 2ms/step - loss: 0.0616\n",
            "Epoch 236/300\n",
            "4/4 [==============================] - 0s 1ms/step - loss: 0.0615\n",
            "Epoch 237/300\n",
            "4/4 [==============================] - 0s 2ms/step - loss: 0.0618\n",
            "Epoch 238/300\n",
            "4/4 [==============================] - 0s 2ms/step - loss: 0.0615\n",
            "Epoch 239/300\n",
            "4/4 [==============================] - 0s 1ms/step - loss: 0.0613\n",
            "Epoch 240/300\n",
            "4/4 [==============================] - 0s 1ms/step - loss: 0.0612\n",
            "Epoch 241/300\n",
            "4/4 [==============================] - 0s 1ms/step - loss: 0.0611\n",
            "Epoch 242/300\n",
            "4/4 [==============================] - 0s 1ms/step - loss: 0.0610\n",
            "Epoch 243/300\n",
            "4/4 [==============================] - 0s 1ms/step - loss: 0.0610\n",
            "Epoch 244/300\n",
            "4/4 [==============================] - 0s 1ms/step - loss: 0.0609\n",
            "Epoch 245/300\n",
            "4/4 [==============================] - 0s 1ms/step - loss: 0.0609\n",
            "Epoch 246/300\n",
            "4/4 [==============================] - 0s 2ms/step - loss: 0.0610\n",
            "Epoch 247/300\n",
            "4/4 [==============================] - 0s 2ms/step - loss: 0.0606\n",
            "Epoch 248/300\n",
            "4/4 [==============================] - 0s 2ms/step - loss: 0.0608\n",
            "Epoch 249/300\n",
            "4/4 [==============================] - 0s 2ms/step - loss: 0.0611\n",
            "Epoch 250/300\n",
            "4/4 [==============================] - 0s 2ms/step - loss: 0.0606\n",
            "Epoch 251/300\n",
            "4/4 [==============================] - 0s 2ms/step - loss: 0.0605\n",
            "Epoch 252/300\n",
            "4/4 [==============================] - 0s 2ms/step - loss: 0.0606\n",
            "Epoch 253/300\n",
            "4/4 [==============================] - 0s 2ms/step - loss: 0.0608\n",
            "Epoch 254/300\n",
            "4/4 [==============================] - 0s 2ms/step - loss: 0.0604\n",
            "Epoch 255/300\n",
            "4/4 [==============================] - 0s 1ms/step - loss: 0.0605\n",
            "Epoch 256/300\n",
            "4/4 [==============================] - 0s 2ms/step - loss: 0.0604\n",
            "Epoch 257/300\n",
            "4/4 [==============================] - 0s 1ms/step - loss: 0.0600\n",
            "Epoch 258/300\n",
            "4/4 [==============================] - 0s 2ms/step - loss: 0.0601\n",
            "Epoch 259/300\n",
            "4/4 [==============================] - 0s 1ms/step - loss: 0.0600\n",
            "Epoch 260/300\n",
            "4/4 [==============================] - 0s 1ms/step - loss: 0.0608\n",
            "Epoch 261/300\n",
            "4/4 [==============================] - 0s 1ms/step - loss: 0.0599\n",
            "Epoch 262/300\n",
            "4/4 [==============================] - 0s 2ms/step - loss: 0.0598\n",
            "Epoch 263/300\n",
            "4/4 [==============================] - 0s 1ms/step - loss: 0.0598\n",
            "Epoch 264/300\n",
            "4/4 [==============================] - 0s 2ms/step - loss: 0.0599\n",
            "Epoch 265/300\n",
            "4/4 [==============================] - 0s 2ms/step - loss: 0.0597\n",
            "Epoch 266/300\n",
            "4/4 [==============================] - 0s 1ms/step - loss: 0.0597\n",
            "Epoch 267/300\n",
            "4/4 [==============================] - 0s 2ms/step - loss: 0.0596\n",
            "Epoch 268/300\n",
            "4/4 [==============================] - 0s 2ms/step - loss: 0.0596\n",
            "Epoch 269/300\n",
            "4/4 [==============================] - 0s 2ms/step - loss: 0.0594\n",
            "Epoch 270/300\n",
            "4/4 [==============================] - 0s 2ms/step - loss: 0.0594\n",
            "Epoch 271/300\n",
            "4/4 [==============================] - 0s 2ms/step - loss: 0.0597\n",
            "Epoch 272/300\n",
            "4/4 [==============================] - 0s 2ms/step - loss: 0.0595\n",
            "Epoch 273/300\n",
            "4/4 [==============================] - 0s 2ms/step - loss: 0.0597\n",
            "Epoch 274/300\n",
            "4/4 [==============================] - 0s 2ms/step - loss: 0.0595\n",
            "Epoch 275/300\n",
            "4/4 [==============================] - 0s 2ms/step - loss: 0.0593\n",
            "Epoch 276/300\n",
            "4/4 [==============================] - 0s 2ms/step - loss: 0.0591\n",
            "Epoch 277/300\n",
            "4/4 [==============================] - 0s 2ms/step - loss: 0.0591\n",
            "Epoch 278/300\n",
            "4/4 [==============================] - 0s 2ms/step - loss: 0.0591\n",
            "Epoch 279/300\n",
            "4/4 [==============================] - 0s 2ms/step - loss: 0.0595\n",
            "Epoch 280/300\n",
            "4/4 [==============================] - 0s 2ms/step - loss: 0.0592\n",
            "Epoch 281/300\n",
            "4/4 [==============================] - 0s 2ms/step - loss: 0.0591\n",
            "Epoch 282/300\n",
            "4/4 [==============================] - 0s 2ms/step - loss: 0.0588\n",
            "Epoch 283/300\n",
            "4/4 [==============================] - 0s 2ms/step - loss: 0.0588\n",
            "Epoch 284/300\n",
            "4/4 [==============================] - 0s 2ms/step - loss: 0.0589\n",
            "Epoch 285/300\n",
            "4/4 [==============================] - 0s 2ms/step - loss: 0.0588\n",
            "Epoch 286/300\n",
            "4/4 [==============================] - 0s 2ms/step - loss: 0.0588\n",
            "Epoch 287/300\n",
            "4/4 [==============================] - 0s 2ms/step - loss: 0.0588\n",
            "Epoch 288/300\n",
            "4/4 [==============================] - 0s 2ms/step - loss: 0.0587\n",
            "Epoch 289/300\n",
            "4/4 [==============================] - 0s 1ms/step - loss: 0.0586\n",
            "Epoch 290/300\n",
            "4/4 [==============================] - 0s 1ms/step - loss: 0.0586\n",
            "Epoch 291/300\n",
            "4/4 [==============================] - 0s 1ms/step - loss: 0.0586\n",
            "Epoch 292/300\n",
            "4/4 [==============================] - 0s 2ms/step - loss: 0.0589\n",
            "Epoch 293/300\n",
            "4/4 [==============================] - 0s 2ms/step - loss: 0.0586\n",
            "Epoch 294/300\n",
            "4/4 [==============================] - 0s 1ms/step - loss: 0.0586\n",
            "Epoch 295/300\n",
            "4/4 [==============================] - 0s 1ms/step - loss: 0.0585\n",
            "Epoch 296/300\n",
            "4/4 [==============================] - 0s 1ms/step - loss: 0.0585\n",
            "Epoch 297/300\n",
            "4/4 [==============================] - 0s 1ms/step - loss: 0.0586\n",
            "Epoch 298/300\n",
            "4/4 [==============================] - 0s 2ms/step - loss: 0.0584\n",
            "Epoch 299/300\n",
            "4/4 [==============================] - 0s 2ms/step - loss: 0.0586\n",
            "Epoch 300/300\n",
            "4/4 [==============================] - 0s 1ms/step - loss: 0.0584\n"
          ],
          "name": "stdout"
        },
        {
          "output_type": "execute_result",
          "data": {
            "text/plain": [
              "<tensorflow.python.keras.callbacks.History at 0x7f96a602d470>"
            ]
          },
          "metadata": {
            "tags": []
          },
          "execution_count": 65
        }
      ]
    },
    {
      "cell_type": "code",
      "metadata": {
        "id": "DrpwZVUo4hj7"
      },
      "source": [
        "y_predict_teste_novo = regressor4.predict(xteste_novo)"
      ],
      "execution_count": 66,
      "outputs": []
    },
    {
      "cell_type": "code",
      "metadata": {
        "id": "FCf5PTAV4hkE"
      },
      "source": [
        "resultado = pd.DataFrame(y_predict_teste_novo)[0]"
      ],
      "execution_count": 67,
      "outputs": []
    },
    {
      "cell_type": "code",
      "metadata": {
        "id": "UFW2I2cWn-y6",
        "outputId": "f30f8fb0-da2c-43c1-905e-24d8320b916d",
        "colab": {
          "base_uri": "https://localhost:8080/",
          "height": 428
        }
      },
      "source": [
        "sns.lineplot(x='tempo',y=ytreino_novo,data=passageiros[4:129],label='treino')\n",
        "sns.lineplot(x='tempo',y=pd.DataFrame(y_predict_novo)[0],data=passageiros[4:129],label='ajuste_treino')\n",
        "\n",
        "sns.lineplot(x='tempo',y=yteste_novo,data=passageiros[133:144],label='teste')\n",
        "sns.lineplot(x='tempo',y=resultado.values,data=passageiros[133:144],label='previsão')"
      ],
      "execution_count": 68,
      "outputs": [
        {
          "output_type": "execute_result",
          "data": {
            "text/plain": [
              "<matplotlib.axes._subplots.AxesSubplot at 0x7f96a26cbd68>"
            ]
          },
          "metadata": {
            "tags": []
          },
          "execution_count": 68
        },
        {
          "output_type": "display_data",
          "data": {
            "image/png": "[encoded data removed]",
            "text/plain": [
              "<Figure size 720x432 with 1 Axes>"
            ]
          },
          "metadata": {
            "tags": [],
            "needs_background": "light"
          }
        }
      ]
    }
  ]
}