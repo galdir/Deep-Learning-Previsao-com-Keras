{
  "nbformat": 4,
  "nbformat_minor": 0,
  "metadata": {
    "colab": {
      "name": "Previsao de aluguel de bicicletas.ipynb",
      "provenance": [],
      "toc_visible": true,
      "authorship_tag": "ABX9TyPJo+l69H8oLvCxf0QdelyE",
      "include_colab_link": true
    },
    "kernelspec": {
      "name": "python3",
      "display_name": "Python 3"
    }
  },
  "cells": [
    {
      "cell_type": "markdown",
      "metadata": {
        "id": "view-in-github",
        "colab_type": "text"
      },
      "source": [
        "<a href=\"https://colab.research.google.com/github/galdir/Deep-Learning-Previsao-com-Keras/blob/master/Previsao_de_aluguel_de_bicicletas.ipynb\" target=\"_parent\"><img src=\"https://colab.research.google.com/assets/colab-badge.svg\" alt=\"Open In Colab\"/></a>"
      ]
    },
    {
      "cell_type": "markdown",
      "metadata": {
        "id": "5spKZsgumgk-"
      },
      "source": [
        "#carregamento da base de dados\n"
      ]
    },
    {
      "cell_type": "code",
      "metadata": {
        "id": "K-a7MBIlmGeN"
      },
      "source": [
        "import pandas as pd \n",
        "import seaborn as sns\n",
        "import matplotlib.pyplot as plt\n",
        "\n",
        "from sklearn.preprocessing import StandardScaler\n",
        "\n",
        "import numpy as np\n",
        "\n",
        "from tensorflow.keras.layers import LSTM\n",
        "\n",
        "from tensorflow.keras.models import Sequential\n",
        "from tensorflow.keras.layers import Dense\n",
        "\n",
        "from tensorflow.keras.layers import GRU\n",
        "\n",
        "import matplotlib as mpl\n",
        "\n",
        "\n"
      ],
      "execution_count": 67,
      "outputs": []
    },
    {
      "cell_type": "code",
      "metadata": {
        "id": "CK72CXHlmp11"
      },
      "source": [
        "bike = pd.read_csv('bicicletas.csv')"
      ],
      "execution_count": 2,
      "outputs": []
    },
    {
      "cell_type": "code",
      "metadata": {
        "id": "6WOoUBxvmrWk",
        "outputId": "b71f1459-86e2-4ecc-8933-04aab06255ed",
        "colab": {
          "base_uri": "https://localhost:8080/",
          "height": 204
        }
      },
      "source": [
        "bike.head()"
      ],
      "execution_count": 3,
      "outputs": [
        {
          "output_type": "execute_result",
          "data": {
            "text/html": [
              "<div>\n",
              "<style scoped>\n",
              "    .dataframe tbody tr th:only-of-type {\n",
              "        vertical-align: middle;\n",
              "    }\n",
              "\n",
              "    .dataframe tbody tr th {\n",
              "        vertical-align: top;\n",
              "    }\n",
              "\n",
              "    .dataframe thead th {\n",
              "        text-align: right;\n",
              "    }\n",
              "</style>\n",
              "<table border=\"1\" class=\"dataframe\">\n",
              "  <thead>\n",
              "    <tr style=\"text-align: right;\">\n",
              "      <th></th>\n",
              "      <th>datas</th>\n",
              "      <th>contagem</th>\n",
              "      <th>temperatura</th>\n",
              "      <th>sensacao</th>\n",
              "      <th>umidade</th>\n",
              "      <th>vel_vento</th>\n",
              "      <th>clima</th>\n",
              "      <th>feriado</th>\n",
              "      <th>final_ds</th>\n",
              "      <th>estacao</th>\n",
              "    </tr>\n",
              "  </thead>\n",
              "  <tbody>\n",
              "    <tr>\n",
              "      <th>0</th>\n",
              "      <td>2015-01-04 00:00:00</td>\n",
              "      <td>182</td>\n",
              "      <td>3.0</td>\n",
              "      <td>2.0</td>\n",
              "      <td>93.0</td>\n",
              "      <td>6.0</td>\n",
              "      <td>3.0</td>\n",
              "      <td>0.0</td>\n",
              "      <td>1.0</td>\n",
              "      <td>3.0</td>\n",
              "    </tr>\n",
              "    <tr>\n",
              "      <th>1</th>\n",
              "      <td>2015-01-04 01:00:00</td>\n",
              "      <td>138</td>\n",
              "      <td>3.0</td>\n",
              "      <td>2.5</td>\n",
              "      <td>93.0</td>\n",
              "      <td>5.0</td>\n",
              "      <td>1.0</td>\n",
              "      <td>0.0</td>\n",
              "      <td>1.0</td>\n",
              "      <td>3.0</td>\n",
              "    </tr>\n",
              "    <tr>\n",
              "      <th>2</th>\n",
              "      <td>2015-01-04 02:00:00</td>\n",
              "      <td>134</td>\n",
              "      <td>2.5</td>\n",
              "      <td>2.5</td>\n",
              "      <td>96.5</td>\n",
              "      <td>0.0</td>\n",
              "      <td>1.0</td>\n",
              "      <td>0.0</td>\n",
              "      <td>1.0</td>\n",
              "      <td>3.0</td>\n",
              "    </tr>\n",
              "    <tr>\n",
              "      <th>3</th>\n",
              "      <td>2015-01-04 03:00:00</td>\n",
              "      <td>72</td>\n",
              "      <td>2.0</td>\n",
              "      <td>2.0</td>\n",
              "      <td>100.0</td>\n",
              "      <td>0.0</td>\n",
              "      <td>1.0</td>\n",
              "      <td>0.0</td>\n",
              "      <td>1.0</td>\n",
              "      <td>3.0</td>\n",
              "    </tr>\n",
              "    <tr>\n",
              "      <th>4</th>\n",
              "      <td>2015-01-04 04:00:00</td>\n",
              "      <td>47</td>\n",
              "      <td>2.0</td>\n",
              "      <td>0.0</td>\n",
              "      <td>93.0</td>\n",
              "      <td>6.5</td>\n",
              "      <td>1.0</td>\n",
              "      <td>0.0</td>\n",
              "      <td>1.0</td>\n",
              "      <td>3.0</td>\n",
              "    </tr>\n",
              "  </tbody>\n",
              "</table>\n",
              "</div>"
            ],
            "text/plain": [
              "                 datas  contagem  temperatura  ...  feriado  final_ds  estacao\n",
              "0  2015-01-04 00:00:00       182          3.0  ...      0.0       1.0      3.0\n",
              "1  2015-01-04 01:00:00       138          3.0  ...      0.0       1.0      3.0\n",
              "2  2015-01-04 02:00:00       134          2.5  ...      0.0       1.0      3.0\n",
              "3  2015-01-04 03:00:00        72          2.0  ...      0.0       1.0      3.0\n",
              "4  2015-01-04 04:00:00        47          2.0  ...      0.0       1.0      3.0\n",
              "\n",
              "[5 rows x 10 columns]"
            ]
          },
          "metadata": {
            "tags": []
          },
          "execution_count": 3
        }
      ]
    },
    {
      "cell_type": "code",
      "metadata": {
        "id": "2vh_jQGAmzr0"
      },
      "source": [
        "bike['datas'] = pd.to_datetime(bike['datas'])"
      ],
      "execution_count": 4,
      "outputs": []
    },
    {
      "cell_type": "code",
      "metadata": {
        "id": "yEW7lBWum0HE",
        "outputId": "2eb84bc8-72fa-4ed6-8670-1f8c9460c894",
        "colab": {
          "base_uri": "https://localhost:8080/",
          "height": 204
        }
      },
      "source": [
        "bike.head()"
      ],
      "execution_count": 5,
      "outputs": [
        {
          "output_type": "execute_result",
          "data": {
            "text/html": [
              "<div>\n",
              "<style scoped>\n",
              "    .dataframe tbody tr th:only-of-type {\n",
              "        vertical-align: middle;\n",
              "    }\n",
              "\n",
              "    .dataframe tbody tr th {\n",
              "        vertical-align: top;\n",
              "    }\n",
              "\n",
              "    .dataframe thead th {\n",
              "        text-align: right;\n",
              "    }\n",
              "</style>\n",
              "<table border=\"1\" class=\"dataframe\">\n",
              "  <thead>\n",
              "    <tr style=\"text-align: right;\">\n",
              "      <th></th>\n",
              "      <th>datas</th>\n",
              "      <th>contagem</th>\n",
              "      <th>temperatura</th>\n",
              "      <th>sensacao</th>\n",
              "      <th>umidade</th>\n",
              "      <th>vel_vento</th>\n",
              "      <th>clima</th>\n",
              "      <th>feriado</th>\n",
              "      <th>final_ds</th>\n",
              "      <th>estacao</th>\n",
              "    </tr>\n",
              "  </thead>\n",
              "  <tbody>\n",
              "    <tr>\n",
              "      <th>0</th>\n",
              "      <td>2015-01-04 00:00:00</td>\n",
              "      <td>182</td>\n",
              "      <td>3.0</td>\n",
              "      <td>2.0</td>\n",
              "      <td>93.0</td>\n",
              "      <td>6.0</td>\n",
              "      <td>3.0</td>\n",
              "      <td>0.0</td>\n",
              "      <td>1.0</td>\n",
              "      <td>3.0</td>\n",
              "    </tr>\n",
              "    <tr>\n",
              "      <th>1</th>\n",
              "      <td>2015-01-04 01:00:00</td>\n",
              "      <td>138</td>\n",
              "      <td>3.0</td>\n",
              "      <td>2.5</td>\n",
              "      <td>93.0</td>\n",
              "      <td>5.0</td>\n",
              "      <td>1.0</td>\n",
              "      <td>0.0</td>\n",
              "      <td>1.0</td>\n",
              "      <td>3.0</td>\n",
              "    </tr>\n",
              "    <tr>\n",
              "      <th>2</th>\n",
              "      <td>2015-01-04 02:00:00</td>\n",
              "      <td>134</td>\n",
              "      <td>2.5</td>\n",
              "      <td>2.5</td>\n",
              "      <td>96.5</td>\n",
              "      <td>0.0</td>\n",
              "      <td>1.0</td>\n",
              "      <td>0.0</td>\n",
              "      <td>1.0</td>\n",
              "      <td>3.0</td>\n",
              "    </tr>\n",
              "    <tr>\n",
              "      <th>3</th>\n",
              "      <td>2015-01-04 03:00:00</td>\n",
              "      <td>72</td>\n",
              "      <td>2.0</td>\n",
              "      <td>2.0</td>\n",
              "      <td>100.0</td>\n",
              "      <td>0.0</td>\n",
              "      <td>1.0</td>\n",
              "      <td>0.0</td>\n",
              "      <td>1.0</td>\n",
              "      <td>3.0</td>\n",
              "    </tr>\n",
              "    <tr>\n",
              "      <th>4</th>\n",
              "      <td>2015-01-04 04:00:00</td>\n",
              "      <td>47</td>\n",
              "      <td>2.0</td>\n",
              "      <td>0.0</td>\n",
              "      <td>93.0</td>\n",
              "      <td>6.5</td>\n",
              "      <td>1.0</td>\n",
              "      <td>0.0</td>\n",
              "      <td>1.0</td>\n",
              "      <td>3.0</td>\n",
              "    </tr>\n",
              "  </tbody>\n",
              "</table>\n",
              "</div>"
            ],
            "text/plain": [
              "                datas  contagem  temperatura  ...  feriado  final_ds  estacao\n",
              "0 2015-01-04 00:00:00       182          3.0  ...      0.0       1.0      3.0\n",
              "1 2015-01-04 01:00:00       138          3.0  ...      0.0       1.0      3.0\n",
              "2 2015-01-04 02:00:00       134          2.5  ...      0.0       1.0      3.0\n",
              "3 2015-01-04 03:00:00        72          2.0  ...      0.0       1.0      3.0\n",
              "4 2015-01-04 04:00:00        47          2.0  ...      0.0       1.0      3.0\n",
              "\n",
              "[5 rows x 10 columns]"
            ]
          },
          "metadata": {
            "tags": []
          },
          "execution_count": 5
        }
      ]
    },
    {
      "cell_type": "code",
      "metadata": {
        "id": "47oNlF9lm2G0",
        "outputId": "258d7235-12eb-4daa-fc8e-4b08a686f595",
        "colab": {
          "base_uri": "https://localhost:8080/",
          "height": 346
        }
      },
      "source": [
        "sns.lineplot(x='datas',y='contagem', data=bike)\n",
        "plt.xticks(rotation=70)"
      ],
      "execution_count": 6,
      "outputs": [
        {
          "output_type": "execute_result",
          "data": {
            "text/plain": [
              "(array([735599., 735689., 735780., 735872., 735964., 736055., 736146.,\n",
              "        736238., 736330.]), <a list of 9 Text major ticklabel objects>)"
            ]
          },
          "metadata": {
            "tags": []
          },
          "execution_count": 6
        },
        {
          "output_type": "display_data",
          "data": {
            "image/png": "[encoded data removed]",
            "text/plain": [
              "<Figure size 432x288 with 1 Axes>"
            ]
          },
          "metadata": {
            "tags": [],
            "needs_background": "light"
          }
        }
      ]
    },
    {
      "cell_type": "markdown",
      "metadata": {
        "id": "GMdbxoP6nI-H"
      },
      "source": [
        "# normalizando os dados"
      ]
    },
    {
      "cell_type": "code",
      "metadata": {
        "id": "9V7Kg5lNm7YT"
      },
      "source": [
        "sc2 = StandardScaler()"
      ],
      "execution_count": 7,
      "outputs": []
    },
    {
      "cell_type": "code",
      "metadata": {
        "id": "rfEiI7R4nNmT",
        "outputId": "ece9db48-8de5-43ce-8fde-8fdb6280d4dd",
        "colab": {
          "base_uri": "https://localhost:8080/",
          "height": 34
        }
      },
      "source": [
        "sc2.fit(bike['contagem'].values.reshape(-1,1))"
      ],
      "execution_count": 8,
      "outputs": [
        {
          "output_type": "execute_result",
          "data": {
            "text/plain": [
              "StandardScaler(copy=True, with_mean=True, with_std=True)"
            ]
          },
          "metadata": {
            "tags": []
          },
          "execution_count": 8
        }
      ]
    },
    {
      "cell_type": "code",
      "metadata": {
        "id": "i9rw1yqQnPAL"
      },
      "source": [
        "y = sc2.transform(bike['contagem'].values.reshape(-1,1))"
      ],
      "execution_count": 9,
      "outputs": []
    },
    {
      "cell_type": "markdown",
      "metadata": {
        "id": "4jvW6Ccxndq4"
      },
      "source": [
        "# separando entre treino e teste"
      ]
    },
    {
      "cell_type": "code",
      "metadata": {
        "id": "yyjpaWLlna3k"
      },
      "source": [
        "tamanho_treino = int(len(bike)*0.9) #Pegando 90% dos dados para treino\n",
        "tamanho_teste = len(bike)-tamanho_treino #O resto vamos reservar para teste"
      ],
      "execution_count": 10,
      "outputs": []
    },
    {
      "cell_type": "code",
      "metadata": {
        "id": "fzbni2JGngok"
      },
      "source": [
        "ytreino = y[0:tamanho_treino]\n",
        "yteste = y[tamanho_treino:len(bike)]"
      ],
      "execution_count": 11,
      "outputs": []
    },
    {
      "cell_type": "code",
      "metadata": {
        "id": "q8tFnoiUnjpM",
        "outputId": "c4a13520-f66c-4c2c-ac5c-125d72f3308d",
        "colab": {
          "base_uri": "https://localhost:8080/",
          "height": 346
        }
      },
      "source": [
        "sns.lineplot(x='datas',y=ytreino[:,0],data=bike[0:tamanho_treino],label='treino') \n",
        "sns.lineplot(x='datas',y=yteste[:,0], data=bike[tamanho_treino:len(bike)],label='teste')\n",
        "plt.xticks(rotation=70) "
      ],
      "execution_count": 12,
      "outputs": [
        {
          "output_type": "execute_result",
          "data": {
            "text/plain": [
              "(array([735599., 735689., 735780., 735872., 735964., 736055., 736146.,\n",
              "        736238., 736330.]), <a list of 9 Text major ticklabel objects>)"
            ]
          },
          "metadata": {
            "tags": []
          },
          "execution_count": 12
        },
        {
          "output_type": "display_data",
          "data": {
            "image/png": "[encoded data removed]",
            "text/plain": [
              "<Figure size 432x288 with 1 Axes>"
            ]
          },
          "metadata": {
            "tags": [],
            "needs_background": "light"
          }
        }
      ]
    },
    {
      "cell_type": "code",
      "metadata": {
        "id": "KVcbdbuynlDr"
      },
      "source": [
        "vetor = pd.DataFrame(ytreino)[0]"
      ],
      "execution_count": 13,
      "outputs": []
    },
    {
      "cell_type": "code",
      "metadata": {
        "id": "judojA8Hn1Eh"
      },
      "source": [
        "def separa_dados(vetor,n_passos):\n",
        "  \"\"\"Entrada: vetor: número de passageiros\n",
        "               n_passos: número de passos no regressor\n",
        "     Saída:\n",
        "              X_novo: Array 2D \n",
        "              y_novo: Array 1D - Nosso alvo\n",
        "  \"\"\"\n",
        "  X_novo, y_novo = [], []\n",
        "  for i in range(n_passos,vetor.shape[0]):\n",
        "    X_novo.append(list(vetor.loc[i-n_passos:i-1]))\n",
        "    y_novo.append(vetor.loc[i])\n",
        "  X_novo, y_novo = np.array(X_novo), np.array(y_novo) \n",
        "  return X_novo, y_novo"
      ],
      "execution_count": 14,
      "outputs": []
    },
    {
      "cell_type": "code",
      "metadata": {
        "id": "MRaZKqb2notr"
      },
      "source": [
        "xtreino_novo, ytreino_novo = separa_dados(vetor,10)\n"
      ],
      "execution_count": 15,
      "outputs": []
    },
    {
      "cell_type": "code",
      "metadata": {
        "id": "vUXRDua3nptT",
        "outputId": "10cbf693-98a1-42ce-d31e-11d41079aa9d",
        "colab": {
          "base_uri": "https://localhost:8080/",
          "height": 187
        }
      },
      "source": [
        "xtreino_novo[0:5]\n"
      ],
      "execution_count": 16,
      "outputs": [
        {
          "output_type": "execute_result",
          "data": {
            "text/plain": [
              "array([[-0.88574518, -0.9262953 , -0.92998167, -0.98712048, -1.01016032,\n",
              "        -1.01108192, -1.00647395, -0.9843557 , -0.93274645, -0.77607553],\n",
              "       [-0.9262953 , -0.92998167, -0.98712048, -1.01016032, -1.01108192,\n",
              "        -1.00647395, -0.9843557 , -0.93274645, -0.77607553, -0.56687377],\n",
              "       [-0.92998167, -0.98712048, -1.01016032, -1.01108192, -1.00647395,\n",
              "        -0.9843557 , -0.93274645, -0.77607553, -0.56687377, -0.38347663],\n",
              "       [-0.98712048, -1.01016032, -1.01108192, -1.00647395, -0.9843557 ,\n",
              "        -0.93274645, -0.77607553, -0.56687377, -0.38347663, -0.25906149],\n",
              "       [-1.01016032, -1.01108192, -1.00647395, -0.9843557 , -0.93274645,\n",
              "        -0.77607553, -0.56687377, -0.38347663, -0.25906149, -0.20929543]])"
            ]
          },
          "metadata": {
            "tags": []
          },
          "execution_count": 16
        }
      ]
    },
    {
      "cell_type": "code",
      "metadata": {
        "id": "KOoKCEMhnrLr",
        "outputId": "537d79a6-fc64-44c6-c9b8-39d061230a49",
        "colab": {
          "base_uri": "https://localhost:8080/",
          "height": 34
        }
      },
      "source": [
        "ytreino_novo[0:5]\n"
      ],
      "execution_count": 17,
      "outputs": [
        {
          "output_type": "execute_result",
          "data": {
            "text/plain": [
              "array([-0.56687377, -0.38347663, -0.25906149, -0.20929543, -0.09593941])"
            ]
          },
          "metadata": {
            "tags": []
          },
          "execution_count": 17
        }
      ]
    },
    {
      "cell_type": "code",
      "metadata": {
        "id": "FtJA0MXzn8QD"
      },
      "source": [
        "vetor2 = pd.DataFrame(yteste)[0]\n"
      ],
      "execution_count": 18,
      "outputs": []
    },
    {
      "cell_type": "code",
      "metadata": {
        "id": "FLi8XaHFn9ac"
      },
      "source": [
        "xteste_novo, yteste_novo = separa_dados(vetor2,10)\n"
      ],
      "execution_count": 19,
      "outputs": []
    },
    {
      "cell_type": "markdown",
      "metadata": {
        "id": "QAwYmNeDpSG8"
      },
      "source": [
        "## experimentando perceptron tradicional"
      ]
    },
    {
      "cell_type": "code",
      "metadata": {
        "id": "x6jcydlSpcRd"
      },
      "source": [
        "regressor = Sequential()"
      ],
      "execution_count": 20,
      "outputs": []
    },
    {
      "cell_type": "code",
      "metadata": {
        "id": "yvUrt9nIqCSO",
        "outputId": "606a6554-efb5-4786-de6a-385efa223b2b",
        "colab": {
          "base_uri": "https://localhost:8080/",
          "height": 255
        }
      },
      "source": [
        "regressor.add(Dense(8, input_dim=10, kernel_initializer='ones', activation='linear',use_bias=False))\n",
        "regressor.add(Dense(64, kernel_initializer='random_uniform', activation='sigmoid',use_bias=False))\n",
        "regressor.add(Dense(1, kernel_initializer='random_uniform', activation='linear',use_bias=False))\n",
        "regressor.compile(loss='mean_squared_error',optimizer='adam',metrics=['accuracy'])\n",
        "regressor.summary()"
      ],
      "execution_count": 21,
      "outputs": [
        {
          "output_type": "stream",
          "text": [
            "Model: \"sequential\"\n",
            "_________________________________________________________________\n",
            "Layer (type)                 Output Shape              Param #   \n",
            "=================================================================\n",
            "dense (Dense)                (None, 8)                 80        \n",
            "_________________________________________________________________\n",
            "dense_1 (Dense)              (None, 64)                512       \n",
            "_________________________________________________________________\n",
            "dense_2 (Dense)              (None, 1)                 64        \n",
            "=================================================================\n",
            "Total params: 656\n",
            "Trainable params: 656\n",
            "Non-trainable params: 0\n",
            "_________________________________________________________________\n"
          ],
          "name": "stdout"
        }
      ]
    },
    {
      "cell_type": "code",
      "metadata": {
        "id": "03ugIJK0qSy0",
        "outputId": "2d0d24ed-1b3e-4bf0-ed6f-7044b9bb6bce",
        "colab": {
          "base_uri": "https://localhost:8080/",
          "height": 1000
        }
      },
      "source": [
        "historico = regressor.fit(xtreino_novo,ytreino_novo,\n",
        "                          validation_data=(xteste_novo,yteste_novo),\n",
        "                          epochs =100)"
      ],
      "execution_count": 22,
      "outputs": [
        {
          "output_type": "stream",
          "text": [
            "Epoch 1/100\n",
            "490/490 [==============================] - 1s 1ms/step - loss: 0.9091 - accuracy: 0.0000e+00 - val_loss: 0.4718 - val_accuracy: 0.0000e+00\n",
            "Epoch 2/100\n",
            "490/490 [==============================] - 1s 1ms/step - loss: 0.3827 - accuracy: 0.0000e+00 - val_loss: 0.2194 - val_accuracy: 0.0000e+00\n",
            "Epoch 3/100\n",
            "490/490 [==============================] - 1s 1ms/step - loss: 0.2334 - accuracy: 0.0000e+00 - val_loss: 0.1699 - val_accuracy: 0.0000e+00\n",
            "Epoch 4/100\n",
            "490/490 [==============================] - 1s 1ms/step - loss: 0.1992 - accuracy: 0.0000e+00 - val_loss: 0.1489 - val_accuracy: 0.0000e+00\n",
            "Epoch 5/100\n",
            "490/490 [==============================] - 1s 1ms/step - loss: 0.1821 - accuracy: 0.0000e+00 - val_loss: 0.1401 - val_accuracy: 0.0000e+00\n",
            "Epoch 6/100\n",
            "490/490 [==============================] - 1s 1ms/step - loss: 0.1724 - accuracy: 0.0000e+00 - val_loss: 0.1374 - val_accuracy: 0.0000e+00\n",
            "Epoch 7/100\n",
            "490/490 [==============================] - 1s 1ms/step - loss: 0.1647 - accuracy: 0.0000e+00 - val_loss: 0.1264 - val_accuracy: 0.0000e+00\n",
            "Epoch 8/100\n",
            "490/490 [==============================] - 1s 1ms/step - loss: 0.1566 - accuracy: 0.0000e+00 - val_loss: 0.1278 - val_accuracy: 0.0000e+00\n",
            "Epoch 9/100\n",
            "490/490 [==============================] - 1s 1ms/step - loss: 0.1500 - accuracy: 0.0000e+00 - val_loss: 0.1245 - val_accuracy: 0.0000e+00\n",
            "Epoch 10/100\n",
            "490/490 [==============================] - 1s 1ms/step - loss: 0.1405 - accuracy: 0.0000e+00 - val_loss: 0.1041 - val_accuracy: 0.0000e+00\n",
            "Epoch 11/100\n",
            "490/490 [==============================] - 1s 1ms/step - loss: 0.1299 - accuracy: 0.0000e+00 - val_loss: 0.1080 - val_accuracy: 0.0000e+00\n",
            "Epoch 12/100\n",
            "490/490 [==============================] - 1s 1ms/step - loss: 0.1202 - accuracy: 0.0000e+00 - val_loss: 0.0907 - val_accuracy: 0.0000e+00\n",
            "Epoch 13/100\n",
            "490/490 [==============================] - 1s 1ms/step - loss: 0.1116 - accuracy: 0.0000e+00 - val_loss: 0.0848 - val_accuracy: 0.0000e+00\n",
            "Epoch 14/100\n",
            "490/490 [==============================] - 1s 1ms/step - loss: 0.1047 - accuracy: 0.0000e+00 - val_loss: 0.0775 - val_accuracy: 0.0000e+00\n",
            "Epoch 15/100\n",
            "490/490 [==============================] - 1s 1ms/step - loss: 0.1004 - accuracy: 0.0000e+00 - val_loss: 0.0870 - val_accuracy: 0.0000e+00\n",
            "Epoch 16/100\n",
            "490/490 [==============================] - 1s 1ms/step - loss: 0.0964 - accuracy: 0.0000e+00 - val_loss: 0.0794 - val_accuracy: 0.0000e+00\n",
            "Epoch 17/100\n",
            "490/490 [==============================] - 1s 1ms/step - loss: 0.0928 - accuracy: 0.0000e+00 - val_loss: 0.0800 - val_accuracy: 0.0000e+00\n",
            "Epoch 18/100\n",
            "490/490 [==============================] - 1s 1ms/step - loss: 0.0908 - accuracy: 0.0000e+00 - val_loss: 0.0765 - val_accuracy: 0.0000e+00\n",
            "Epoch 19/100\n",
            "490/490 [==============================] - 1s 1ms/step - loss: 0.0904 - accuracy: 0.0000e+00 - val_loss: 0.0668 - val_accuracy: 0.0000e+00\n",
            "Epoch 20/100\n",
            "490/490 [==============================] - 1s 1ms/step - loss: 0.0877 - accuracy: 0.0000e+00 - val_loss: 0.0684 - val_accuracy: 0.0000e+00\n",
            "Epoch 21/100\n",
            "490/490 [==============================] - 1s 1ms/step - loss: 0.0856 - accuracy: 0.0000e+00 - val_loss: 0.0742 - val_accuracy: 0.0000e+00\n",
            "Epoch 22/100\n",
            "490/490 [==============================] - 1s 1ms/step - loss: 0.0844 - accuracy: 0.0000e+00 - val_loss: 0.0765 - val_accuracy: 0.0000e+00\n",
            "Epoch 23/100\n",
            "490/490 [==============================] - 1s 1ms/step - loss: 0.0827 - accuracy: 0.0000e+00 - val_loss: 0.0665 - val_accuracy: 0.0000e+00\n",
            "Epoch 24/100\n",
            "490/490 [==============================] - 1s 1ms/step - loss: 0.0810 - accuracy: 0.0000e+00 - val_loss: 0.0687 - val_accuracy: 0.0000e+00\n",
            "Epoch 25/100\n",
            "490/490 [==============================] - 1s 1ms/step - loss: 0.0794 - accuracy: 0.0000e+00 - val_loss: 0.0596 - val_accuracy: 0.0000e+00\n",
            "Epoch 26/100\n",
            "490/490 [==============================] - 1s 1ms/step - loss: 0.0775 - accuracy: 0.0000e+00 - val_loss: 0.0617 - val_accuracy: 0.0000e+00\n",
            "Epoch 27/100\n",
            "490/490 [==============================] - 1s 1ms/step - loss: 0.0758 - accuracy: 0.0000e+00 - val_loss: 0.0610 - val_accuracy: 0.0000e+00\n",
            "Epoch 28/100\n",
            "490/490 [==============================] - 1s 1ms/step - loss: 0.0754 - accuracy: 0.0000e+00 - val_loss: 0.0601 - val_accuracy: 0.0000e+00\n",
            "Epoch 29/100\n",
            "490/490 [==============================] - 1s 1ms/step - loss: 0.0745 - accuracy: 0.0000e+00 - val_loss: 0.0603 - val_accuracy: 0.0000e+00\n",
            "Epoch 30/100\n",
            "490/490 [==============================] - 1s 1ms/step - loss: 0.0728 - accuracy: 0.0000e+00 - val_loss: 0.0671 - val_accuracy: 0.0000e+00\n",
            "Epoch 31/100\n",
            "490/490 [==============================] - 1s 1ms/step - loss: 0.0725 - accuracy: 0.0000e+00 - val_loss: 0.0557 - val_accuracy: 0.0000e+00\n",
            "Epoch 32/100\n",
            "490/490 [==============================] - 1s 1ms/step - loss: 0.0716 - accuracy: 0.0000e+00 - val_loss: 0.0580 - val_accuracy: 0.0000e+00\n",
            "Epoch 33/100\n",
            "490/490 [==============================] - 1s 1ms/step - loss: 0.0714 - accuracy: 0.0000e+00 - val_loss: 0.0570 - val_accuracy: 0.0000e+00\n",
            "Epoch 34/100\n",
            "490/490 [==============================] - 1s 1ms/step - loss: 0.0708 - accuracy: 0.0000e+00 - val_loss: 0.0530 - val_accuracy: 0.0000e+00\n",
            "Epoch 35/100\n",
            "490/490 [==============================] - 1s 1ms/step - loss: 0.0697 - accuracy: 0.0000e+00 - val_loss: 0.0569 - val_accuracy: 0.0000e+00\n",
            "Epoch 36/100\n",
            "490/490 [==============================] - 1s 1ms/step - loss: 0.0694 - accuracy: 0.0000e+00 - val_loss: 0.0603 - val_accuracy: 0.0000e+00\n",
            "Epoch 37/100\n",
            "490/490 [==============================] - 1s 1ms/step - loss: 0.0690 - accuracy: 0.0000e+00 - val_loss: 0.0518 - val_accuracy: 0.0000e+00\n",
            "Epoch 38/100\n",
            "490/490 [==============================] - 1s 1ms/step - loss: 0.0685 - accuracy: 0.0000e+00 - val_loss: 0.0503 - val_accuracy: 0.0000e+00\n",
            "Epoch 39/100\n",
            "490/490 [==============================] - 1s 1ms/step - loss: 0.0676 - accuracy: 0.0000e+00 - val_loss: 0.0507 - val_accuracy: 0.0000e+00\n",
            "Epoch 40/100\n",
            "490/490 [==============================] - 1s 1ms/step - loss: 0.0671 - accuracy: 0.0000e+00 - val_loss: 0.0510 - val_accuracy: 0.0000e+00\n",
            "Epoch 41/100\n",
            "490/490 [==============================] - 1s 1ms/step - loss: 0.0660 - accuracy: 0.0000e+00 - val_loss: 0.0481 - val_accuracy: 0.0000e+00\n",
            "Epoch 42/100\n",
            "490/490 [==============================] - 1s 1ms/step - loss: 0.0659 - accuracy: 0.0000e+00 - val_loss: 0.0457 - val_accuracy: 0.0000e+00\n",
            "Epoch 43/100\n",
            "490/490 [==============================] - 1s 1ms/step - loss: 0.0654 - accuracy: 0.0000e+00 - val_loss: 0.0548 - val_accuracy: 0.0000e+00\n",
            "Epoch 44/100\n",
            "490/490 [==============================] - 1s 1ms/step - loss: 0.0647 - accuracy: 0.0000e+00 - val_loss: 0.0463 - val_accuracy: 0.0000e+00\n",
            "Epoch 45/100\n",
            "490/490 [==============================] - 1s 1ms/step - loss: 0.0634 - accuracy: 0.0000e+00 - val_loss: 0.0476 - val_accuracy: 0.0000e+00\n",
            "Epoch 46/100\n",
            "490/490 [==============================] - 1s 1ms/step - loss: 0.0626 - accuracy: 0.0000e+00 - val_loss: 0.0454 - val_accuracy: 0.0000e+00\n",
            "Epoch 47/100\n",
            "490/490 [==============================] - 1s 1ms/step - loss: 0.0623 - accuracy: 0.0000e+00 - val_loss: 0.0449 - val_accuracy: 0.0000e+00\n",
            "Epoch 48/100\n",
            "490/490 [==============================] - 1s 1ms/step - loss: 0.0617 - accuracy: 0.0000e+00 - val_loss: 0.0432 - val_accuracy: 0.0000e+00\n",
            "Epoch 49/100\n",
            "490/490 [==============================] - 1s 1ms/step - loss: 0.0607 - accuracy: 0.0000e+00 - val_loss: 0.0444 - val_accuracy: 0.0000e+00\n",
            "Epoch 50/100\n",
            "490/490 [==============================] - 1s 1ms/step - loss: 0.0601 - accuracy: 0.0000e+00 - val_loss: 0.0443 - val_accuracy: 0.0000e+00\n",
            "Epoch 51/100\n",
            "490/490 [==============================] - 1s 1ms/step - loss: 0.0597 - accuracy: 0.0000e+00 - val_loss: 0.0419 - val_accuracy: 0.0000e+00\n",
            "Epoch 52/100\n",
            "490/490 [==============================] - 1s 1ms/step - loss: 0.0594 - accuracy: 0.0000e+00 - val_loss: 0.0435 - val_accuracy: 0.0000e+00\n",
            "Epoch 53/100\n",
            "490/490 [==============================] - 1s 1ms/step - loss: 0.0584 - accuracy: 0.0000e+00 - val_loss: 0.0451 - val_accuracy: 0.0000e+00\n",
            "Epoch 54/100\n",
            "490/490 [==============================] - 1s 1ms/step - loss: 0.0584 - accuracy: 0.0000e+00 - val_loss: 0.0429 - val_accuracy: 0.0000e+00\n",
            "Epoch 55/100\n",
            "490/490 [==============================] - 1s 1ms/step - loss: 0.0579 - accuracy: 0.0000e+00 - val_loss: 0.0496 - val_accuracy: 0.0000e+00\n",
            "Epoch 56/100\n",
            "490/490 [==============================] - 1s 1ms/step - loss: 0.0580 - accuracy: 0.0000e+00 - val_loss: 0.0439 - val_accuracy: 0.0000e+00\n",
            "Epoch 57/100\n",
            "490/490 [==============================] - 1s 1ms/step - loss: 0.0571 - accuracy: 0.0000e+00 - val_loss: 0.0407 - val_accuracy: 0.0000e+00\n",
            "Epoch 58/100\n",
            "490/490 [==============================] - 1s 1ms/step - loss: 0.0570 - accuracy: 0.0000e+00 - val_loss: 0.0409 - val_accuracy: 0.0000e+00\n",
            "Epoch 59/100\n",
            "490/490 [==============================] - 1s 1ms/step - loss: 0.0568 - accuracy: 0.0000e+00 - val_loss: 0.0427 - val_accuracy: 0.0000e+00\n",
            "Epoch 60/100\n",
            "490/490 [==============================] - 1s 1ms/step - loss: 0.0567 - accuracy: 0.0000e+00 - val_loss: 0.0512 - val_accuracy: 0.0000e+00\n",
            "Epoch 61/100\n",
            "490/490 [==============================] - 1s 1ms/step - loss: 0.0559 - accuracy: 0.0000e+00 - val_loss: 0.0413 - val_accuracy: 0.0000e+00\n",
            "Epoch 62/100\n",
            "490/490 [==============================] - 1s 1ms/step - loss: 0.0563 - accuracy: 0.0000e+00 - val_loss: 0.0398 - val_accuracy: 0.0000e+00\n",
            "Epoch 63/100\n",
            "490/490 [==============================] - 1s 1ms/step - loss: 0.0558 - accuracy: 0.0000e+00 - val_loss: 0.0390 - val_accuracy: 0.0000e+00\n",
            "Epoch 64/100\n",
            "490/490 [==============================] - 1s 1ms/step - loss: 0.0551 - accuracy: 0.0000e+00 - val_loss: 0.0459 - val_accuracy: 0.0000e+00\n",
            "Epoch 65/100\n",
            "490/490 [==============================] - 1s 1ms/step - loss: 0.0553 - accuracy: 0.0000e+00 - val_loss: 0.0405 - val_accuracy: 0.0000e+00\n",
            "Epoch 66/100\n",
            "490/490 [==============================] - 1s 1ms/step - loss: 0.0547 - accuracy: 0.0000e+00 - val_loss: 0.0390 - val_accuracy: 0.0000e+00\n",
            "Epoch 67/100\n",
            "490/490 [==============================] - 1s 1ms/step - loss: 0.0554 - accuracy: 0.0000e+00 - val_loss: 0.0474 - val_accuracy: 0.0000e+00\n",
            "Epoch 68/100\n",
            "490/490 [==============================] - 1s 1ms/step - loss: 0.0541 - accuracy: 0.0000e+00 - val_loss: 0.0387 - val_accuracy: 0.0000e+00\n",
            "Epoch 69/100\n",
            "490/490 [==============================] - 1s 1ms/step - loss: 0.0540 - accuracy: 0.0000e+00 - val_loss: 0.0394 - val_accuracy: 0.0000e+00\n",
            "Epoch 70/100\n",
            "490/490 [==============================] - 1s 1ms/step - loss: 0.0541 - accuracy: 0.0000e+00 - val_loss: 0.0398 - val_accuracy: 0.0000e+00\n",
            "Epoch 71/100\n",
            "490/490 [==============================] - 1s 1ms/step - loss: 0.0542 - accuracy: 0.0000e+00 - val_loss: 0.0424 - val_accuracy: 0.0000e+00\n",
            "Epoch 72/100\n",
            "490/490 [==============================] - 1s 1ms/step - loss: 0.0537 - accuracy: 0.0000e+00 - val_loss: 0.0388 - val_accuracy: 0.0000e+00\n",
            "Epoch 73/100\n",
            "490/490 [==============================] - 1s 1ms/step - loss: 0.0537 - accuracy: 0.0000e+00 - val_loss: 0.0403 - val_accuracy: 0.0000e+00\n",
            "Epoch 74/100\n",
            "490/490 [==============================] - 1s 1ms/step - loss: 0.0535 - accuracy: 0.0000e+00 - val_loss: 0.0403 - val_accuracy: 0.0000e+00\n",
            "Epoch 75/100\n",
            "490/490 [==============================] - 1s 1ms/step - loss: 0.0540 - accuracy: 0.0000e+00 - val_loss: 0.0381 - val_accuracy: 0.0000e+00\n",
            "Epoch 76/100\n",
            "490/490 [==============================] - 1s 1ms/step - loss: 0.0536 - accuracy: 0.0000e+00 - val_loss: 0.0378 - val_accuracy: 0.0000e+00\n",
            "Epoch 77/100\n",
            "490/490 [==============================] - 1s 1ms/step - loss: 0.0532 - accuracy: 0.0000e+00 - val_loss: 0.0371 - val_accuracy: 0.0000e+00\n",
            "Epoch 78/100\n",
            "490/490 [==============================] - 1s 1ms/step - loss: 0.0524 - accuracy: 0.0000e+00 - val_loss: 0.0382 - val_accuracy: 0.0000e+00\n",
            "Epoch 79/100\n",
            "490/490 [==============================] - 1s 1ms/step - loss: 0.0530 - accuracy: 0.0000e+00 - val_loss: 0.0357 - val_accuracy: 0.0000e+00\n",
            "Epoch 80/100\n",
            "490/490 [==============================] - 1s 1ms/step - loss: 0.0526 - accuracy: 0.0000e+00 - val_loss: 0.0387 - val_accuracy: 0.0000e+00\n",
            "Epoch 81/100\n",
            "490/490 [==============================] - 1s 1ms/step - loss: 0.0529 - accuracy: 0.0000e+00 - val_loss: 0.0395 - val_accuracy: 0.0000e+00\n",
            "Epoch 82/100\n",
            "490/490 [==============================] - 1s 1ms/step - loss: 0.0522 - accuracy: 0.0000e+00 - val_loss: 0.0373 - val_accuracy: 0.0000e+00\n",
            "Epoch 83/100\n",
            "490/490 [==============================] - 1s 1ms/step - loss: 0.0534 - accuracy: 0.0000e+00 - val_loss: 0.0352 - val_accuracy: 0.0000e+00\n",
            "Epoch 84/100\n",
            "490/490 [==============================] - 1s 1ms/step - loss: 0.0519 - accuracy: 0.0000e+00 - val_loss: 0.0385 - val_accuracy: 0.0000e+00\n",
            "Epoch 85/100\n",
            "490/490 [==============================] - 1s 1ms/step - loss: 0.0523 - accuracy: 0.0000e+00 - val_loss: 0.0354 - val_accuracy: 0.0000e+00\n",
            "Epoch 86/100\n",
            "490/490 [==============================] - 1s 1ms/step - loss: 0.0518 - accuracy: 0.0000e+00 - val_loss: 0.0365 - val_accuracy: 0.0000e+00\n",
            "Epoch 87/100\n",
            "490/490 [==============================] - 1s 1ms/step - loss: 0.0515 - accuracy: 0.0000e+00 - val_loss: 0.0357 - val_accuracy: 0.0000e+00\n",
            "Epoch 88/100\n",
            "490/490 [==============================] - 1s 1ms/step - loss: 0.0520 - accuracy: 0.0000e+00 - val_loss: 0.0347 - val_accuracy: 0.0000e+00\n",
            "Epoch 89/100\n",
            "490/490 [==============================] - 1s 1ms/step - loss: 0.0522 - accuracy: 0.0000e+00 - val_loss: 0.0579 - val_accuracy: 0.0000e+00\n",
            "Epoch 90/100\n",
            "490/490 [==============================] - 1s 1ms/step - loss: 0.0517 - accuracy: 0.0000e+00 - val_loss: 0.0380 - val_accuracy: 0.0000e+00\n",
            "Epoch 91/100\n",
            "490/490 [==============================] - 1s 1ms/step - loss: 0.0516 - accuracy: 0.0000e+00 - val_loss: 0.0373 - val_accuracy: 0.0000e+00\n",
            "Epoch 92/100\n",
            "490/490 [==============================] - 1s 1ms/step - loss: 0.0517 - accuracy: 0.0000e+00 - val_loss: 0.0348 - val_accuracy: 0.0000e+00\n",
            "Epoch 93/100\n",
            "490/490 [==============================] - 1s 1ms/step - loss: 0.0511 - accuracy: 0.0000e+00 - val_loss: 0.0397 - val_accuracy: 0.0000e+00\n",
            "Epoch 94/100\n",
            "490/490 [==============================] - 1s 1ms/step - loss: 0.0516 - accuracy: 0.0000e+00 - val_loss: 0.0370 - val_accuracy: 0.0000e+00\n",
            "Epoch 95/100\n",
            "490/490 [==============================] - 1s 1ms/step - loss: 0.0509 - accuracy: 0.0000e+00 - val_loss: 0.0359 - val_accuracy: 0.0000e+00\n",
            "Epoch 96/100\n",
            "490/490 [==============================] - 1s 1ms/step - loss: 0.0516 - accuracy: 0.0000e+00 - val_loss: 0.0358 - val_accuracy: 0.0000e+00\n",
            "Epoch 97/100\n",
            "490/490 [==============================] - 1s 1ms/step - loss: 0.0511 - accuracy: 0.0000e+00 - val_loss: 0.0340 - val_accuracy: 0.0000e+00\n",
            "Epoch 98/100\n",
            "490/490 [==============================] - 1s 1ms/step - loss: 0.0513 - accuracy: 0.0000e+00 - val_loss: 0.0351 - val_accuracy: 0.0000e+00\n",
            "Epoch 99/100\n",
            "490/490 [==============================] - 1s 1ms/step - loss: 0.0512 - accuracy: 0.0000e+00 - val_loss: 0.0366 - val_accuracy: 0.0000e+00\n",
            "Epoch 100/100\n",
            "490/490 [==============================] - 1s 1ms/step - loss: 0.0504 - accuracy: 0.0000e+00 - val_loss: 0.0399 - val_accuracy: 0.0000e+00\n"
          ],
          "name": "stdout"
        }
      ]
    },
    {
      "cell_type": "code",
      "metadata": {
        "id": "iT_2oarVvMhF"
      },
      "source": [
        "y_predict_ajuste = regressor.predict(xtreino_novo)"
      ],
      "execution_count": 23,
      "outputs": []
    },
    {
      "cell_type": "code",
      "metadata": {
        "id": "7EGR4HqXqcF9"
      },
      "source": [
        "y_predict_teste = regressor.predict(xteste_novo)\n"
      ],
      "execution_count": 24,
      "outputs": []
    },
    {
      "cell_type": "code",
      "metadata": {
        "id": "oA6wknojqcvU"
      },
      "source": [
        "resultado = pd.DataFrame(y_predict_teste)[0]\n"
      ],
      "execution_count": 25,
      "outputs": []
    },
    {
      "cell_type": "code",
      "metadata": {
        "id": "EmWh6Rtctdl2",
        "outputId": "ff13dba9-eafa-41df-cc38-ca1638fba750",
        "colab": {
          "base_uri": "https://localhost:8080/",
          "height": 34
        }
      },
      "source": [
        "ytreino_novo.shape"
      ],
      "execution_count": 26,
      "outputs": [
        {
          "output_type": "execute_result",
          "data": {
            "text/plain": [
              "(15662,)"
            ]
          },
          "metadata": {
            "tags": []
          },
          "execution_count": 26
        }
      ]
    },
    {
      "cell_type": "code",
      "metadata": {
        "id": "0xyMJkp4tiT8",
        "outputId": "c98a6242-0999-4883-804d-9d2cb9cffe45",
        "colab": {
          "base_uri": "https://localhost:8080/",
          "height": 34
        }
      },
      "source": [
        "bike.shape"
      ],
      "execution_count": 27,
      "outputs": [
        {
          "output_type": "execute_result",
          "data": {
            "text/plain": [
              "(17414, 10)"
            ]
          },
          "metadata": {
            "tags": []
          },
          "execution_count": 27
        }
      ]
    },
    {
      "cell_type": "code",
      "metadata": {
        "id": "SzVwJpeitrKs",
        "outputId": "540f9d94-1349-455f-e339-c8027bee839c",
        "colab": {
          "base_uri": "https://localhost:8080/",
          "height": 34
        }
      },
      "source": [
        "tamanho_treino"
      ],
      "execution_count": 28,
      "outputs": [
        {
          "output_type": "execute_result",
          "data": {
            "text/plain": [
              "15672"
            ]
          },
          "metadata": {
            "tags": []
          },
          "execution_count": 28
        }
      ]
    },
    {
      "cell_type": "code",
      "metadata": {
        "id": "Y2C2XWBtt0Kf",
        "outputId": "4982a21c-4217-459e-f914-31c02e07032c",
        "colab": {
          "base_uri": "https://localhost:8080/",
          "height": 34
        }
      },
      "source": [
        "bike[9:tamanho_treino-1].shape"
      ],
      "execution_count": 29,
      "outputs": [
        {
          "output_type": "execute_result",
          "data": {
            "text/plain": [
              "(15662, 10)"
            ]
          },
          "metadata": {
            "tags": []
          },
          "execution_count": 29
        }
      ]
    },
    {
      "cell_type": "code",
      "metadata": {
        "id": "Yf44u9VQvm6s",
        "outputId": "b3d0d8bf-27ec-4795-80a2-e9514ee5067d",
        "colab": {
          "base_uri": "https://localhost:8080/",
          "height": 34
        }
      },
      "source": [
        "yteste_novo.shape"
      ],
      "execution_count": 30,
      "outputs": [
        {
          "output_type": "execute_result",
          "data": {
            "text/plain": [
              "(1732,)"
            ]
          },
          "metadata": {
            "tags": []
          },
          "execution_count": 30
        }
      ]
    },
    {
      "cell_type": "code",
      "metadata": {
        "id": "vvPdksMwvzcO",
        "outputId": "0ea4ebb1-984e-43ac-a405-7728a597df08",
        "colab": {
          "base_uri": "https://localhost:8080/",
          "height": 34
        }
      },
      "source": [
        "tamanho_teste"
      ],
      "execution_count": 31,
      "outputs": [
        {
          "output_type": "execute_result",
          "data": {
            "text/plain": [
              "1742"
            ]
          },
          "metadata": {
            "tags": []
          },
          "execution_count": 31
        }
      ]
    },
    {
      "cell_type": "code",
      "metadata": {
        "id": "khLnje7qwGlq",
        "outputId": "9459e30b-5ead-4c98-ca3e-4d8e8dcb5631",
        "colab": {
          "base_uri": "https://localhost:8080/",
          "height": 34
        }
      },
      "source": [
        "bike[tamanho_treino:-1].shape"
      ],
      "execution_count": 32,
      "outputs": [
        {
          "output_type": "execute_result",
          "data": {
            "text/plain": [
              "(1741, 10)"
            ]
          },
          "metadata": {
            "tags": []
          },
          "execution_count": 32
        }
      ]
    },
    {
      "cell_type": "code",
      "metadata": {
        "id": "Xk54vIgxqeY5",
        "outputId": "7d54f041-5ef2-4c4b-d17f-42725890e026",
        "colab": {
          "base_uri": "https://localhost:8080/",
          "height": 296
        }
      },
      "source": [
        "sns.lineplot(x='datas',y=ytreino_novo,data=bike[9:tamanho_treino-1],label='treino')\n",
        "sns.lineplot(x='datas',y=pd.DataFrame(y_predict_ajuste)[0],data=bike[9:tamanho_treino-1],label='ajuste_treino')\n",
        "\n",
        "sns.lineplot(x='datas',y=yteste_novo,data=bike[tamanho_treino:-10],label='teste')\n",
        "sns.lineplot(x='datas',y=resultado.values,data=bike[tamanho_treino:-10],label='previsão')"
      ],
      "execution_count": 33,
      "outputs": [
        {
          "output_type": "execute_result",
          "data": {
            "text/plain": [
              "<matplotlib.axes._subplots.AxesSubplot at 0x7f26bbf45da0>"
            ]
          },
          "metadata": {
            "tags": []
          },
          "execution_count": 33
        },
        {
          "output_type": "display_data",
          "data": {
            "image/png": "[encoded data removed]",
            "text/plain": [
              "<Figure size 432x288 with 1 Axes>"
            ]
          },
          "metadata": {
            "tags": [],
            "needs_background": "light"
          }
        }
      ]
    },
    {
      "cell_type": "code",
      "metadata": {
        "id": "ZYdCkhGcySGy",
        "outputId": "282e4ee9-3c75-424e-ce34-613fd5802b95",
        "colab": {
          "base_uri": "https://localhost:8080/",
          "height": 34
        }
      },
      "source": [
        "historico.history.keys()"
      ],
      "execution_count": 34,
      "outputs": [
        {
          "output_type": "execute_result",
          "data": {
            "text/plain": [
              "dict_keys(['loss', 'accuracy', 'val_loss', 'val_accuracy'])"
            ]
          },
          "metadata": {
            "tags": []
          },
          "execution_count": 34
        }
      ]
    },
    {
      "cell_type": "code",
      "metadata": {
        "id": "78AQY7Dwx0aX",
        "outputId": "ff58c6cb-0230-4ed0-b33d-6cff386392a7",
        "colab": {
          "base_uri": "https://localhost:8080/",
          "height": 282
        }
      },
      "source": [
        "plt.plot(historico.history['loss'])\n",
        "plt.plot(historico.history['val_loss'])\n",
        "plt.legend(['treino','validacao'])"
      ],
      "execution_count": 44,
      "outputs": [
        {
          "output_type": "execute_result",
          "data": {
            "text/plain": [
              "<matplotlib.legend.Legend at 0x7f26b0409780>"
            ]
          },
          "metadata": {
            "tags": []
          },
          "execution_count": 44
        },
        {
          "output_type": "display_data",
          "data": {
            "image/png": "[encoded data removed]",
            "text/plain": [
              "<Figure size 432x288 with 1 Axes>"
            ]
          },
          "metadata": {
            "tags": [],
            "needs_background": "light"
          }
        }
      ]
    },
    {
      "cell_type": "markdown",
      "metadata": {
        "id": "VZzXeYH9oAMV"
      },
      "source": [
        "# A rede neural recorrente LSTM \n",
        "\n",
        "A entrada de rede recorrente LSTM deve possuir a seguinte forma para a entrada (número de amostras, número de passos no tempo, e número de atributos por passo no tempo)."
      ]
    },
    {
      "cell_type": "code",
      "metadata": {
        "id": "MdiBP_AHn-ob"
      },
      "source": [
        "xtreino_novo = xtreino_novo.reshape((xtreino_novo.shape[0],xtreino_novo.shape[1],1))"
      ],
      "execution_count": 36,
      "outputs": []
    },
    {
      "cell_type": "code",
      "metadata": {
        "id": "66XRfFXNoJvL",
        "outputId": "60c0401c-6965-4b83-ede8-5628e00ec436",
        "colab": {
          "base_uri": "https://localhost:8080/",
          "height": 34
        }
      },
      "source": [
        "xtreino_novo.shape"
      ],
      "execution_count": 37,
      "outputs": [
        {
          "output_type": "execute_result",
          "data": {
            "text/plain": [
              "(15662, 10, 1)"
            ]
          },
          "metadata": {
            "tags": []
          },
          "execution_count": 37
        }
      ]
    },
    {
      "cell_type": "code",
      "metadata": {
        "id": "NEPYAYveoLHj",
        "outputId": "0650ffbe-662a-4509-ac06-10eb2cabd29a",
        "colab": {
          "base_uri": "https://localhost:8080/",
          "height": 187
        }
      },
      "source": [
        "xtreino_novo[0]"
      ],
      "execution_count": 38,
      "outputs": [
        {
          "output_type": "execute_result",
          "data": {
            "text/plain": [
              "array([[-0.88574518],\n",
              "       [-0.9262953 ],\n",
              "       [-0.92998167],\n",
              "       [-0.98712048],\n",
              "       [-1.01016032],\n",
              "       [-1.01108192],\n",
              "       [-1.00647395],\n",
              "       [-0.9843557 ],\n",
              "       [-0.93274645],\n",
              "       [-0.77607553]])"
            ]
          },
          "metadata": {
            "tags": []
          },
          "execution_count": 38
        }
      ]
    },
    {
      "cell_type": "code",
      "metadata": {
        "id": "VywcOS6VoQdC"
      },
      "source": [
        "xteste_novo = xteste_novo.reshape((xteste_novo.shape[0],xteste_novo.shape[1],1))"
      ],
      "execution_count": 39,
      "outputs": []
    },
    {
      "cell_type": "markdown",
      "metadata": {
        "id": "xN6oIZXnoowJ"
      },
      "source": [
        "## Usando a LSTM"
      ]
    },
    {
      "cell_type": "code",
      "metadata": {
        "id": "Ur8YPvZDoZGL"
      },
      "source": [
        "recorrente = Sequential()\n"
      ],
      "execution_count": 40,
      "outputs": []
    },
    {
      "cell_type": "code",
      "metadata": {
        "id": "VSZ-er-pouIz"
      },
      "source": [
        "recorrente.add(LSTM(128, input_shape=(xtreino_novo.shape[1],xtreino_novo.shape[2])\n",
        "                    ))\n",
        "recorrente.add(Dense(units=1))"
      ],
      "execution_count": 41,
      "outputs": []
    },
    {
      "cell_type": "code",
      "metadata": {
        "id": "AdGyu0zfo3Fj",
        "outputId": "de2afa2e-d415-4a51-c7d8-74df47cbf10c",
        "colab": {
          "base_uri": "https://localhost:8080/",
          "height": 221
        }
      },
      "source": [
        "recorrente.compile(loss='mean_squared_error',optimizer='RMSProp')\n",
        "recorrente.summary()"
      ],
      "execution_count": 42,
      "outputs": [
        {
          "output_type": "stream",
          "text": [
            "Model: \"sequential_1\"\n",
            "_________________________________________________________________\n",
            "Layer (type)                 Output Shape              Param #   \n",
            "=================================================================\n",
            "lstm (LSTM)                  (None, 128)               66560     \n",
            "_________________________________________________________________\n",
            "dense_3 (Dense)              (None, 1)                 129       \n",
            "=================================================================\n",
            "Total params: 66,689\n",
            "Trainable params: 66,689\n",
            "Non-trainable params: 0\n",
            "_________________________________________________________________\n"
          ],
          "name": "stdout"
        }
      ]
    },
    {
      "cell_type": "code",
      "metadata": {
        "id": "bgq7sUPWo8K7",
        "outputId": "2f0317aa-4e48-4bb8-e4c7-9385572460e9",
        "colab": {
          "base_uri": "https://localhost:8080/",
          "height": 1000
        }
      },
      "source": [
        "resultado = recorrente.fit(xtreino_novo,ytreino_novo,validation_data=(xteste_novo,yteste_novo),epochs=100)\n"
      ],
      "execution_count": 43,
      "outputs": [
        {
          "output_type": "stream",
          "text": [
            "Epoch 1/100\n",
            "490/490 [==============================] - 6s 12ms/step - loss: 0.2406 - val_loss: 0.0717\n",
            "Epoch 2/100\n",
            "490/490 [==============================] - 6s 12ms/step - loss: 0.0793 - val_loss: 0.0506\n",
            "Epoch 3/100\n",
            "490/490 [==============================] - 6s 12ms/step - loss: 0.0556 - val_loss: 0.0301\n",
            "Epoch 4/100\n",
            "490/490 [==============================] - 6s 12ms/step - loss: 0.0464 - val_loss: 0.0326\n",
            "Epoch 5/100\n",
            "490/490 [==============================] - 6s 12ms/step - loss: 0.0427 - val_loss: 0.0274\n",
            "Epoch 6/100\n",
            "490/490 [==============================] - 6s 12ms/step - loss: 0.0396 - val_loss: 0.0236\n",
            "Epoch 7/100\n",
            "490/490 [==============================] - 6s 12ms/step - loss: 0.0375 - val_loss: 0.0254\n",
            "Epoch 8/100\n",
            "490/490 [==============================] - 6s 12ms/step - loss: 0.0356 - val_loss: 0.0269\n",
            "Epoch 9/100\n",
            "490/490 [==============================] - 6s 12ms/step - loss: 0.0348 - val_loss: 0.0195\n",
            "Epoch 10/100\n",
            "490/490 [==============================] - 6s 12ms/step - loss: 0.0334 - val_loss: 0.0243\n",
            "Epoch 11/100\n",
            "490/490 [==============================] - 6s 12ms/step - loss: 0.0325 - val_loss: 0.0223\n",
            "Epoch 12/100\n",
            "490/490 [==============================] - 6s 12ms/step - loss: 0.0315 - val_loss: 0.0205\n",
            "Epoch 13/100\n",
            "490/490 [==============================] - 6s 12ms/step - loss: 0.0306 - val_loss: 0.0256\n",
            "Epoch 14/100\n",
            "490/490 [==============================] - 6s 12ms/step - loss: 0.0303 - val_loss: 0.0196\n",
            "Epoch 15/100\n",
            "490/490 [==============================] - 6s 12ms/step - loss: 0.0294 - val_loss: 0.0215\n",
            "Epoch 16/100\n",
            "490/490 [==============================] - 6s 12ms/step - loss: 0.0290 - val_loss: 0.0183\n",
            "Epoch 17/100\n",
            "490/490 [==============================] - 6s 12ms/step - loss: 0.0284 - val_loss: 0.0200\n",
            "Epoch 18/100\n",
            "490/490 [==============================] - 6s 12ms/step - loss: 0.0280 - val_loss: 0.0201\n",
            "Epoch 19/100\n",
            "490/490 [==============================] - 6s 12ms/step - loss: 0.0273 - val_loss: 0.0162\n",
            "Epoch 20/100\n",
            "490/490 [==============================] - 6s 12ms/step - loss: 0.0272 - val_loss: 0.0185\n",
            "Epoch 21/100\n",
            "490/490 [==============================] - 6s 12ms/step - loss: 0.0268 - val_loss: 0.0176\n",
            "Epoch 22/100\n",
            "490/490 [==============================] - 6s 12ms/step - loss: 0.0265 - val_loss: 0.0281\n",
            "Epoch 23/100\n",
            "490/490 [==============================] - 6s 12ms/step - loss: 0.0261 - val_loss: 0.0181\n",
            "Epoch 24/100\n",
            "490/490 [==============================] - 6s 12ms/step - loss: 0.0258 - val_loss: 0.0196\n",
            "Epoch 25/100\n",
            "490/490 [==============================] - 6s 11ms/step - loss: 0.0258 - val_loss: 0.0158\n",
            "Epoch 26/100\n",
            "490/490 [==============================] - 6s 12ms/step - loss: 0.0254 - val_loss: 0.0171\n",
            "Epoch 27/100\n",
            "490/490 [==============================] - 6s 12ms/step - loss: 0.0252 - val_loss: 0.0157\n",
            "Epoch 28/100\n",
            "490/490 [==============================] - 6s 12ms/step - loss: 0.0249 - val_loss: 0.0167\n",
            "Epoch 29/100\n",
            "490/490 [==============================] - 6s 12ms/step - loss: 0.0244 - val_loss: 0.0165\n",
            "Epoch 30/100\n",
            "490/490 [==============================] - 6s 12ms/step - loss: 0.0244 - val_loss: 0.0151\n",
            "Epoch 31/100\n",
            "490/490 [==============================] - 6s 12ms/step - loss: 0.0238 - val_loss: 0.0167\n",
            "Epoch 32/100\n",
            "490/490 [==============================] - 6s 12ms/step - loss: 0.0239 - val_loss: 0.0157\n",
            "Epoch 33/100\n",
            "490/490 [==============================] - 6s 12ms/step - loss: 0.0236 - val_loss: 0.0162\n",
            "Epoch 34/100\n",
            "490/490 [==============================] - 6s 12ms/step - loss: 0.0233 - val_loss: 0.0176\n",
            "Epoch 35/100\n",
            "490/490 [==============================] - 6s 12ms/step - loss: 0.0234 - val_loss: 0.0159\n",
            "Epoch 36/100\n",
            "490/490 [==============================] - 6s 12ms/step - loss: 0.0232 - val_loss: 0.0156\n",
            "Epoch 37/100\n",
            "490/490 [==============================] - 6s 12ms/step - loss: 0.0228 - val_loss: 0.0154\n",
            "Epoch 38/100\n",
            "490/490 [==============================] - 6s 12ms/step - loss: 0.0228 - val_loss: 0.0185\n",
            "Epoch 39/100\n",
            "490/490 [==============================] - 6s 11ms/step - loss: 0.0227 - val_loss: 0.0166\n",
            "Epoch 40/100\n",
            "490/490 [==============================] - 6s 11ms/step - loss: 0.0225 - val_loss: 0.0174\n",
            "Epoch 41/100\n",
            "490/490 [==============================] - 6s 11ms/step - loss: 0.0224 - val_loss: 0.0162\n",
            "Epoch 42/100\n",
            "490/490 [==============================] - 6s 11ms/step - loss: 0.0225 - val_loss: 0.0153\n",
            "Epoch 43/100\n",
            "490/490 [==============================] - 6s 11ms/step - loss: 0.0221 - val_loss: 0.0151\n",
            "Epoch 44/100\n",
            "490/490 [==============================] - 6s 11ms/step - loss: 0.0218 - val_loss: 0.0167\n",
            "Epoch 45/100\n",
            "490/490 [==============================] - 6s 11ms/step - loss: 0.0216 - val_loss: 0.0163\n",
            "Epoch 46/100\n",
            "490/490 [==============================] - 6s 11ms/step - loss: 0.0217 - val_loss: 0.0170\n",
            "Epoch 47/100\n",
            "490/490 [==============================] - 6s 11ms/step - loss: 0.0217 - val_loss: 0.0158\n",
            "Epoch 48/100\n",
            "490/490 [==============================] - 6s 11ms/step - loss: 0.0214 - val_loss: 0.0144\n",
            "Epoch 49/100\n",
            "490/490 [==============================] - 5s 11ms/step - loss: 0.0208 - val_loss: 0.0151\n",
            "Epoch 50/100\n",
            "490/490 [==============================] - 6s 11ms/step - loss: 0.0213 - val_loss: 0.0137\n",
            "Epoch 51/100\n",
            "490/490 [==============================] - 5s 11ms/step - loss: 0.0210 - val_loss: 0.0157\n",
            "Epoch 52/100\n",
            "490/490 [==============================] - 6s 11ms/step - loss: 0.0211 - val_loss: 0.0154\n",
            "Epoch 53/100\n",
            "490/490 [==============================] - 6s 11ms/step - loss: 0.0209 - val_loss: 0.0145\n",
            "Epoch 54/100\n",
            "490/490 [==============================] - 6s 11ms/step - loss: 0.0205 - val_loss: 0.0140\n",
            "Epoch 55/100\n",
            "490/490 [==============================] - 6s 11ms/step - loss: 0.0203 - val_loss: 0.0162\n",
            "Epoch 56/100\n",
            "490/490 [==============================] - 5s 11ms/step - loss: 0.0204 - val_loss: 0.0159\n",
            "Epoch 57/100\n",
            "490/490 [==============================] - 5s 11ms/step - loss: 0.0203 - val_loss: 0.0154\n",
            "Epoch 58/100\n",
            "490/490 [==============================] - 5s 11ms/step - loss: 0.0200 - val_loss: 0.0193\n",
            "Epoch 59/100\n",
            "490/490 [==============================] - 6s 11ms/step - loss: 0.0201 - val_loss: 0.0160\n",
            "Epoch 60/100\n",
            "490/490 [==============================] - 5s 11ms/step - loss: 0.0201 - val_loss: 0.0149\n",
            "Epoch 61/100\n",
            "490/490 [==============================] - 6s 11ms/step - loss: 0.0198 - val_loss: 0.0160\n",
            "Epoch 62/100\n",
            "490/490 [==============================] - 5s 11ms/step - loss: 0.0195 - val_loss: 0.0164\n",
            "Epoch 63/100\n",
            "490/490 [==============================] - 6s 11ms/step - loss: 0.0198 - val_loss: 0.0159\n",
            "Epoch 64/100\n",
            "490/490 [==============================] - 5s 11ms/step - loss: 0.0197 - val_loss: 0.0149\n",
            "Epoch 65/100\n",
            "490/490 [==============================] - 6s 11ms/step - loss: 0.0194 - val_loss: 0.0136\n",
            "Epoch 66/100\n",
            "490/490 [==============================] - 6s 11ms/step - loss: 0.0194 - val_loss: 0.0165\n",
            "Epoch 67/100\n",
            "490/490 [==============================] - 6s 11ms/step - loss: 0.0193 - val_loss: 0.0141\n",
            "Epoch 68/100\n",
            "490/490 [==============================] - 5s 11ms/step - loss: 0.0190 - val_loss: 0.0170\n",
            "Epoch 69/100\n",
            "490/490 [==============================] - 6s 11ms/step - loss: 0.0190 - val_loss: 0.0153\n",
            "Epoch 70/100\n",
            "490/490 [==============================] - 5s 11ms/step - loss: 0.0187 - val_loss: 0.0134\n",
            "Epoch 71/100\n",
            "490/490 [==============================] - 5s 11ms/step - loss: 0.0188 - val_loss: 0.0143\n",
            "Epoch 72/100\n",
            "490/490 [==============================] - 5s 11ms/step - loss: 0.0186 - val_loss: 0.0137\n",
            "Epoch 73/100\n",
            "490/490 [==============================] - 6s 11ms/step - loss: 0.0184 - val_loss: 0.0132\n",
            "Epoch 74/100\n",
            "490/490 [==============================] - 5s 11ms/step - loss: 0.0185 - val_loss: 0.0156\n",
            "Epoch 75/100\n",
            "490/490 [==============================] - 5s 11ms/step - loss: 0.0184 - val_loss: 0.0136\n",
            "Epoch 76/100\n",
            "490/490 [==============================] - 6s 11ms/step - loss: 0.0184 - val_loss: 0.0139\n",
            "Epoch 77/100\n",
            "490/490 [==============================] - 6s 11ms/step - loss: 0.0184 - val_loss: 0.0141\n",
            "Epoch 78/100\n",
            "490/490 [==============================] - 6s 12ms/step - loss: 0.0182 - val_loss: 0.0131\n",
            "Epoch 79/100\n",
            "490/490 [==============================] - 6s 12ms/step - loss: 0.0182 - val_loss: 0.0144\n",
            "Epoch 80/100\n",
            "490/490 [==============================] - 6s 11ms/step - loss: 0.0179 - val_loss: 0.0152\n",
            "Epoch 81/100\n",
            "490/490 [==============================] - 6s 11ms/step - loss: 0.0180 - val_loss: 0.0175\n",
            "Epoch 82/100\n",
            "490/490 [==============================] - 6s 12ms/step - loss: 0.0176 - val_loss: 0.0160\n",
            "Epoch 83/100\n",
            "490/490 [==============================] - 5s 11ms/step - loss: 0.0177 - val_loss: 0.0138\n",
            "Epoch 84/100\n",
            "490/490 [==============================] - 5s 11ms/step - loss: 0.0177 - val_loss: 0.0145\n",
            "Epoch 85/100\n",
            "490/490 [==============================] - 5s 11ms/step - loss: 0.0175 - val_loss: 0.0132\n",
            "Epoch 86/100\n",
            "490/490 [==============================] - 6s 11ms/step - loss: 0.0175 - val_loss: 0.0152\n",
            "Epoch 87/100\n",
            "490/490 [==============================] - 5s 11ms/step - loss: 0.0174 - val_loss: 0.0145\n",
            "Epoch 88/100\n",
            "490/490 [==============================] - 6s 11ms/step - loss: 0.0174 - val_loss: 0.0151\n",
            "Epoch 89/100\n",
            "490/490 [==============================] - 6s 11ms/step - loss: 0.0172 - val_loss: 0.0152\n",
            "Epoch 90/100\n",
            "490/490 [==============================] - 6s 11ms/step - loss: 0.0171 - val_loss: 0.0139\n",
            "Epoch 91/100\n",
            "490/490 [==============================] - 6s 11ms/step - loss: 0.0170 - val_loss: 0.0163\n",
            "Epoch 92/100\n",
            "490/490 [==============================] - 5s 11ms/step - loss: 0.0171 - val_loss: 0.0144\n",
            "Epoch 93/100\n",
            "490/490 [==============================] - 6s 11ms/step - loss: 0.0169 - val_loss: 0.0137\n",
            "Epoch 94/100\n",
            "490/490 [==============================] - 5s 11ms/step - loss: 0.0169 - val_loss: 0.0152\n",
            "Epoch 95/100\n",
            "490/490 [==============================] - 6s 11ms/step - loss: 0.0167 - val_loss: 0.0142\n",
            "Epoch 96/100\n",
            "490/490 [==============================] - 5s 11ms/step - loss: 0.0166 - val_loss: 0.0139\n",
            "Epoch 97/100\n",
            "490/490 [==============================] - 5s 11ms/step - loss: 0.0167 - val_loss: 0.0140\n",
            "Epoch 98/100\n",
            "490/490 [==============================] - 6s 11ms/step - loss: 0.0164 - val_loss: 0.0152\n",
            "Epoch 99/100\n",
            "490/490 [==============================] - 6s 11ms/step - loss: 0.0164 - val_loss: 0.0148\n",
            "Epoch 100/100\n",
            "490/490 [==============================] - 6s 11ms/step - loss: 0.0163 - val_loss: 0.0148\n"
          ],
          "name": "stdout"
        }
      ]
    },
    {
      "cell_type": "code",
      "metadata": {
        "id": "dI91flVEo9a1"
      },
      "source": [
        "y_ajustado = recorrente.predict(xtreino_novo)\n"
      ],
      "execution_count": 45,
      "outputs": []
    },
    {
      "cell_type": "code",
      "metadata": {
        "id": "GLbMPHGs5sie",
        "outputId": "e439468d-30ff-4ff7-9695-bd10629d283a",
        "colab": {
          "base_uri": "https://localhost:8080/",
          "height": 346
        }
      },
      "source": [
        "sns.lineplot(x='datas',y=ytreino[:,0],data=bike[0:tamanho_treino],label='treino')\n",
        "sns.lineplot(x='datas',y=y_ajustado[:,0],data=bike[0:15662],label='ajuste_treino')\n",
        "sns.lineplot(x='datas',y=yteste[:,0], data=bike[tamanho_treino:len(bike)],label='teste')\n",
        "sns.lineplot(x='datas',y=y_predito[:,0], data=bike[tamanho_treino+10:len(bike)],label='previsão')\n",
        "plt.xticks(rotation=70) "
      ],
      "execution_count": 54,
      "outputs": [
        {
          "output_type": "execute_result",
          "data": {
            "text/plain": [
              "(array([735599., 735689., 735780., 735872., 735964., 736055., 736146.,\n",
              "        736238., 736330.]), <a list of 9 Text major ticklabel objects>)"
            ]
          },
          "metadata": {
            "tags": []
          },
          "execution_count": 54
        },
        {
          "output_type": "display_data",
          "data": {
            "image/png": "[encoded data removed]",
            "text/plain": [
              "<Figure size 432x288 with 1 Axes>"
            ]
          },
          "metadata": {
            "tags": [],
            "needs_background": "light"
          }
        }
      ]
    },
    {
      "cell_type": "code",
      "metadata": {
        "id": "aek6Cp50pA8T",
        "outputId": "5c684d30-ffda-4173-9a7a-561429e3aab0",
        "colab": {
          "base_uri": "https://localhost:8080/",
          "height": 346
        }
      },
      "source": [
        "sns.lineplot(x='datas',y=ytreino[:,0],data=bike[0:tamanho_treino],label='treino')\n",
        "sns.lineplot(x='datas',y=y_ajustado[:,0],data=bike[0:15662],label='ajuste_treino')\n",
        "\n",
        "plt.xticks(rotation=70) "
      ],
      "execution_count": 53,
      "outputs": [
        {
          "output_type": "execute_result",
          "data": {
            "text/plain": [
              "(array([735599., 735689., 735780., 735872., 735964., 736055., 736146.,\n",
              "        736238.]), <a list of 8 Text major ticklabel objects>)"
            ]
          },
          "metadata": {
            "tags": []
          },
          "execution_count": 53
        },
        {
          "output_type": "display_data",
          "data": {
            "image/png": "[encoded data removed]",
            "text/plain": [
              "<Figure size 432x288 with 1 Axes>"
            ]
          },
          "metadata": {
            "tags": [],
            "needs_background": "light"
          }
        }
      ]
    },
    {
      "cell_type": "code",
      "metadata": {
        "id": "qzo-SsxFpCld"
      },
      "source": [
        ""
      ],
      "execution_count": 47,
      "outputs": []
    },
    {
      "cell_type": "code",
      "metadata": {
        "id": "4Pj5vEYJpESj",
        "outputId": "b9aab657-eff0-44ef-ed5d-948c06b1d4c6",
        "colab": {
          "base_uri": "https://localhost:8080/",
          "height": 361
        }
      },
      "source": [
        "sns.lineplot(x='datas',y=yteste[:,0], data=bike[tamanho_treino:len(bike)],label='teste')\n",
        "sns.lineplot(x='datas',y=y_predito[:,0], data=bike[tamanho_treino+10:len(bike)],marker='.',label='previsão')\n",
        "plt.xticks(rotation=70) "
      ],
      "execution_count": 48,
      "outputs": [
        {
          "output_type": "execute_result",
          "data": {
            "text/plain": [
              "(array([736269., 736283., 736299., 736313., 736330.]),\n",
              " <a list of 5 Text major ticklabel objects>)"
            ]
          },
          "metadata": {
            "tags": []
          },
          "execution_count": 48
        },
        {
          "output_type": "display_data",
          "data": {
            "image/png": "[encoded data removed]",
            "text/plain": [
              "<Figure size 432x288 with 1 Axes>"
            ]
          },
          "metadata": {
            "tags": [],
            "needs_background": "light"
          }
        }
      ]
    },
    {
      "cell_type": "code",
      "metadata": {
        "id": "ImVvMVIQpFfV",
        "outputId": "e4343b0a-5d59-4013-b2b1-f3fe3aa51aa0",
        "colab": {
          "base_uri": "https://localhost:8080/",
          "height": 285
        }
      },
      "source": [
        "plt.plot(resultado.history['loss'])\n",
        "plt.plot(resultado.history['val_loss'])\n",
        "plt.legend(['treino','teste'])"
      ],
      "execution_count": 49,
      "outputs": [
        {
          "output_type": "execute_result",
          "data": {
            "text/plain": [
              "<matplotlib.legend.Legend at 0x7f26b02b2a20>"
            ]
          },
          "metadata": {
            "tags": []
          },
          "execution_count": 49
        },
        {
          "output_type": "display_data",
          "data": {
            "image/png": "[encoded data removed]",
            "text/plain": [
              "<Figure size 432x288 with 1 Axes>"
            ]
          },
          "metadata": {
            "tags": [],
            "needs_background": "light"
          }
        }
      ]
    },
    {
      "cell_type": "markdown",
      "metadata": {
        "id": "GEYIyJuqpJH7"
      },
      "source": [
        "## experimentando GRU"
      ]
    },
    {
      "cell_type": "code",
      "metadata": {
        "id": "c5Y0UzqZpNQn"
      },
      "source": [
        "recorrente_g = Sequential()\n"
      ],
      "execution_count": 56,
      "outputs": []
    },
    {
      "cell_type": "code",
      "metadata": {
        "id": "TWKqBK8o6FvG"
      },
      "source": [
        "recorrente_g.add(GRU(128, input_shape=(xtreino_novo.shape[1],xtreino_novo.shape[2])\n",
        "                    ))\n",
        "recorrente_g.add(Dense(units=1))"
      ],
      "execution_count": 57,
      "outputs": []
    },
    {
      "cell_type": "code",
      "metadata": {
        "id": "gm1Zmoil6GA-",
        "outputId": "94460e9f-7554-4ba0-8300-dfde3b48fb3d",
        "colab": {
          "base_uri": "https://localhost:8080/",
          "height": 221
        }
      },
      "source": [
        "recorrente_g.compile(loss='mean_squared_error',optimizer='RMSProp')\n",
        "recorrente_g.summary()"
      ],
      "execution_count": 58,
      "outputs": [
        {
          "output_type": "stream",
          "text": [
            "Model: \"sequential_2\"\n",
            "_________________________________________________________________\n",
            "Layer (type)                 Output Shape              Param #   \n",
            "=================================================================\n",
            "gru (GRU)                    (None, 128)               50304     \n",
            "_________________________________________________________________\n",
            "dense_4 (Dense)              (None, 1)                 129       \n",
            "=================================================================\n",
            "Total params: 50,433\n",
            "Trainable params: 50,433\n",
            "Non-trainable params: 0\n",
            "_________________________________________________________________\n"
          ],
          "name": "stdout"
        }
      ]
    },
    {
      "cell_type": "code",
      "metadata": {
        "id": "7xXmHfYi6HQm",
        "outputId": "512750c5-4a64-4ee8-bed9-1e1c2c18a502",
        "colab": {
          "base_uri": "https://localhost:8080/",
          "height": 1000
        }
      },
      "source": [
        "resultado2 = recorrente_g.fit(xtreino_novo,ytreino_novo,\n",
        "                              validation_data=(xteste_novo,yteste_novo),epochs=100)"
      ],
      "execution_count": 59,
      "outputs": [
        {
          "output_type": "stream",
          "text": [
            "Epoch 1/100\n",
            "490/490 [==============================] - 5s 10ms/step - loss: 0.2062 - val_loss: 0.0438\n",
            "Epoch 2/100\n",
            "490/490 [==============================] - 4s 9ms/step - loss: 0.0657 - val_loss: 0.0347\n",
            "Epoch 3/100\n",
            "490/490 [==============================] - 4s 9ms/step - loss: 0.0515 - val_loss: 0.0326\n",
            "Epoch 4/100\n",
            "490/490 [==============================] - 4s 9ms/step - loss: 0.0429 - val_loss: 0.0269\n",
            "Epoch 5/100\n",
            "490/490 [==============================] - 4s 9ms/step - loss: 0.0391 - val_loss: 0.0313\n",
            "Epoch 6/100\n",
            "490/490 [==============================] - 4s 9ms/step - loss: 0.0363 - val_loss: 0.0220\n",
            "Epoch 7/100\n",
            "490/490 [==============================] - 4s 9ms/step - loss: 0.0347 - val_loss: 0.0247\n",
            "Epoch 8/100\n",
            "490/490 [==============================] - 4s 9ms/step - loss: 0.0334 - val_loss: 0.0217\n",
            "Epoch 9/100\n",
            "490/490 [==============================] - 4s 9ms/step - loss: 0.0318 - val_loss: 0.0241\n",
            "Epoch 10/100\n",
            "490/490 [==============================] - 4s 9ms/step - loss: 0.0310 - val_loss: 0.0188\n",
            "Epoch 11/100\n",
            "490/490 [==============================] - 4s 9ms/step - loss: 0.0303 - val_loss: 0.0201\n",
            "Epoch 12/100\n",
            "490/490 [==============================] - 4s 9ms/step - loss: 0.0297 - val_loss: 0.0182\n",
            "Epoch 13/100\n",
            "490/490 [==============================] - 4s 9ms/step - loss: 0.0292 - val_loss: 0.0180\n",
            "Epoch 14/100\n",
            "490/490 [==============================] - 4s 9ms/step - loss: 0.0290 - val_loss: 0.0189\n",
            "Epoch 15/100\n",
            "490/490 [==============================] - 4s 9ms/step - loss: 0.0281 - val_loss: 0.0221\n",
            "Epoch 16/100\n",
            "490/490 [==============================] - 4s 9ms/step - loss: 0.0282 - val_loss: 0.0188\n",
            "Epoch 17/100\n",
            "490/490 [==============================] - 5s 9ms/step - loss: 0.0275 - val_loss: 0.0179\n",
            "Epoch 18/100\n",
            "490/490 [==============================] - 5s 9ms/step - loss: 0.0275 - val_loss: 0.0179\n",
            "Epoch 19/100\n",
            "490/490 [==============================] - 5s 10ms/step - loss: 0.0269 - val_loss: 0.0172\n",
            "Epoch 20/100\n",
            "490/490 [==============================] - 5s 10ms/step - loss: 0.0265 - val_loss: 0.0200\n",
            "Epoch 21/100\n",
            "490/490 [==============================] - 4s 9ms/step - loss: 0.0261 - val_loss: 0.0173\n",
            "Epoch 22/100\n",
            "490/490 [==============================] - 4s 9ms/step - loss: 0.0259 - val_loss: 0.0163\n",
            "Epoch 23/100\n",
            "490/490 [==============================] - 4s 9ms/step - loss: 0.0254 - val_loss: 0.0159\n",
            "Epoch 24/100\n",
            "490/490 [==============================] - 4s 9ms/step - loss: 0.0252 - val_loss: 0.0156\n",
            "Epoch 25/100\n",
            "490/490 [==============================] - 4s 9ms/step - loss: 0.0249 - val_loss: 0.0159\n",
            "Epoch 26/100\n",
            "490/490 [==============================] - 4s 9ms/step - loss: 0.0247 - val_loss: 0.0154\n",
            "Epoch 27/100\n",
            "490/490 [==============================] - 5s 9ms/step - loss: 0.0244 - val_loss: 0.0151\n",
            "Epoch 28/100\n",
            "490/490 [==============================] - 4s 9ms/step - loss: 0.0240 - val_loss: 0.0152\n",
            "Epoch 29/100\n",
            "490/490 [==============================] - 5s 9ms/step - loss: 0.0238 - val_loss: 0.0160\n",
            "Epoch 30/100\n",
            "490/490 [==============================] - 4s 9ms/step - loss: 0.0236 - val_loss: 0.0148\n",
            "Epoch 31/100\n",
            "490/490 [==============================] - 5s 9ms/step - loss: 0.0234 - val_loss: 0.0147\n",
            "Epoch 32/100\n",
            "490/490 [==============================] - 5s 9ms/step - loss: 0.0233 - val_loss: 0.0159\n",
            "Epoch 33/100\n",
            "490/490 [==============================] - 5s 9ms/step - loss: 0.0232 - val_loss: 0.0153\n",
            "Epoch 34/100\n",
            "490/490 [==============================] - 4s 9ms/step - loss: 0.0227 - val_loss: 0.0164\n",
            "Epoch 35/100\n",
            "490/490 [==============================] - 4s 9ms/step - loss: 0.0228 - val_loss: 0.0155\n",
            "Epoch 36/100\n",
            "490/490 [==============================] - 4s 9ms/step - loss: 0.0223 - val_loss: 0.0161\n",
            "Epoch 37/100\n",
            "490/490 [==============================] - 4s 9ms/step - loss: 0.0222 - val_loss: 0.0158\n",
            "Epoch 38/100\n",
            "490/490 [==============================] - 4s 9ms/step - loss: 0.0220 - val_loss: 0.0170\n",
            "Epoch 39/100\n",
            "490/490 [==============================] - 4s 9ms/step - loss: 0.0220 - val_loss: 0.0149\n",
            "Epoch 40/100\n",
            "490/490 [==============================] - 4s 9ms/step - loss: 0.0219 - val_loss: 0.0157\n",
            "Epoch 41/100\n",
            "490/490 [==============================] - 4s 9ms/step - loss: 0.0215 - val_loss: 0.0152\n",
            "Epoch 42/100\n",
            "490/490 [==============================] - 4s 9ms/step - loss: 0.0215 - val_loss: 0.0166\n",
            "Epoch 43/100\n",
            "490/490 [==============================] - 4s 9ms/step - loss: 0.0215 - val_loss: 0.0152\n",
            "Epoch 44/100\n",
            "490/490 [==============================] - 4s 9ms/step - loss: 0.0212 - val_loss: 0.0181\n",
            "Epoch 45/100\n",
            "490/490 [==============================] - 4s 9ms/step - loss: 0.0210 - val_loss: 0.0154\n",
            "Epoch 46/100\n",
            "490/490 [==============================] - 4s 9ms/step - loss: 0.0209 - val_loss: 0.0146\n",
            "Epoch 47/100\n",
            "490/490 [==============================] - 4s 9ms/step - loss: 0.0208 - val_loss: 0.0152\n",
            "Epoch 48/100\n",
            "490/490 [==============================] - 4s 9ms/step - loss: 0.0206 - val_loss: 0.0155\n",
            "Epoch 49/100\n",
            "490/490 [==============================] - 4s 9ms/step - loss: 0.0205 - val_loss: 0.0180\n",
            "Epoch 50/100\n",
            "490/490 [==============================] - 4s 9ms/step - loss: 0.0202 - val_loss: 0.0164\n",
            "Epoch 51/100\n",
            "490/490 [==============================] - 4s 9ms/step - loss: 0.0201 - val_loss: 0.0154\n",
            "Epoch 52/100\n",
            "490/490 [==============================] - 4s 9ms/step - loss: 0.0199 - val_loss: 0.0174\n",
            "Epoch 53/100\n",
            "490/490 [==============================] - 4s 9ms/step - loss: 0.0198 - val_loss: 0.0137\n",
            "Epoch 54/100\n",
            "490/490 [==============================] - 4s 9ms/step - loss: 0.0198 - val_loss: 0.0147\n",
            "Epoch 55/100\n",
            "490/490 [==============================] - 4s 9ms/step - loss: 0.0194 - val_loss: 0.0150\n",
            "Epoch 56/100\n",
            "490/490 [==============================] - 4s 9ms/step - loss: 0.0195 - val_loss: 0.0148\n",
            "Epoch 57/100\n",
            "490/490 [==============================] - 4s 9ms/step - loss: 0.0192 - val_loss: 0.0188\n",
            "Epoch 58/100\n",
            "490/490 [==============================] - 4s 9ms/step - loss: 0.0194 - val_loss: 0.0159\n",
            "Epoch 59/100\n",
            "490/490 [==============================] - 4s 9ms/step - loss: 0.0192 - val_loss: 0.0152\n",
            "Epoch 60/100\n",
            "490/490 [==============================] - 4s 9ms/step - loss: 0.0191 - val_loss: 0.0152\n",
            "Epoch 61/100\n",
            "490/490 [==============================] - 4s 9ms/step - loss: 0.0189 - val_loss: 0.0155\n",
            "Epoch 62/100\n",
            "490/490 [==============================] - 4s 9ms/step - loss: 0.0187 - val_loss: 0.0167\n",
            "Epoch 63/100\n",
            "490/490 [==============================] - 4s 9ms/step - loss: 0.0188 - val_loss: 0.0151\n",
            "Epoch 64/100\n",
            "490/490 [==============================] - 4s 9ms/step - loss: 0.0187 - val_loss: 0.0166\n",
            "Epoch 65/100\n",
            "490/490 [==============================] - 4s 9ms/step - loss: 0.0184 - val_loss: 0.0152\n",
            "Epoch 66/100\n",
            "490/490 [==============================] - 4s 9ms/step - loss: 0.0184 - val_loss: 0.0157\n",
            "Epoch 67/100\n",
            "490/490 [==============================] - 4s 9ms/step - loss: 0.0181 - val_loss: 0.0160\n",
            "Epoch 68/100\n",
            "490/490 [==============================] - 4s 9ms/step - loss: 0.0184 - val_loss: 0.0155\n",
            "Epoch 69/100\n",
            "490/490 [==============================] - 4s 9ms/step - loss: 0.0181 - val_loss: 0.0159\n",
            "Epoch 70/100\n",
            "490/490 [==============================] - 4s 9ms/step - loss: 0.0180 - val_loss: 0.0163\n",
            "Epoch 71/100\n",
            "490/490 [==============================] - 4s 9ms/step - loss: 0.0179 - val_loss: 0.0137\n",
            "Epoch 72/100\n",
            "490/490 [==============================] - 4s 9ms/step - loss: 0.0178 - val_loss: 0.0154\n",
            "Epoch 73/100\n",
            "490/490 [==============================] - 4s 9ms/step - loss: 0.0177 - val_loss: 0.0144\n",
            "Epoch 74/100\n",
            "490/490 [==============================] - 4s 9ms/step - loss: 0.0175 - val_loss: 0.0134\n",
            "Epoch 75/100\n",
            "490/490 [==============================] - 4s 9ms/step - loss: 0.0174 - val_loss: 0.0153\n",
            "Epoch 76/100\n",
            "490/490 [==============================] - 4s 9ms/step - loss: 0.0174 - val_loss: 0.0175\n",
            "Epoch 77/100\n",
            "490/490 [==============================] - 4s 9ms/step - loss: 0.0169 - val_loss: 0.0143\n",
            "Epoch 78/100\n",
            "490/490 [==============================] - 4s 9ms/step - loss: 0.0171 - val_loss: 0.0147\n",
            "Epoch 79/100\n",
            "490/490 [==============================] - 4s 9ms/step - loss: 0.0168 - val_loss: 0.0140\n",
            "Epoch 80/100\n",
            "490/490 [==============================] - 4s 9ms/step - loss: 0.0169 - val_loss: 0.0165\n",
            "Epoch 81/100\n",
            "490/490 [==============================] - 4s 9ms/step - loss: 0.0167 - val_loss: 0.0140\n",
            "Epoch 82/100\n",
            "490/490 [==============================] - 4s 9ms/step - loss: 0.0166 - val_loss: 0.0203\n",
            "Epoch 83/100\n",
            "490/490 [==============================] - 4s 9ms/step - loss: 0.0167 - val_loss: 0.0149\n",
            "Epoch 84/100\n",
            "490/490 [==============================] - 4s 9ms/step - loss: 0.0165 - val_loss: 0.0190\n",
            "Epoch 85/100\n",
            "490/490 [==============================] - 4s 9ms/step - loss: 0.0164 - val_loss: 0.0151\n",
            "Epoch 86/100\n",
            "490/490 [==============================] - 4s 9ms/step - loss: 0.0163 - val_loss: 0.0154\n",
            "Epoch 87/100\n",
            "490/490 [==============================] - 5s 9ms/step - loss: 0.0162 - val_loss: 0.0150\n",
            "Epoch 88/100\n",
            "490/490 [==============================] - 5s 10ms/step - loss: 0.0162 - val_loss: 0.0164\n",
            "Epoch 89/100\n",
            "490/490 [==============================] - 5s 10ms/step - loss: 0.0160 - val_loss: 0.0144\n",
            "Epoch 90/100\n",
            "490/490 [==============================] - 5s 9ms/step - loss: 0.0159 - val_loss: 0.0147\n",
            "Epoch 91/100\n",
            "490/490 [==============================] - 5s 9ms/step - loss: 0.0159 - val_loss: 0.0148\n",
            "Epoch 92/100\n",
            "490/490 [==============================] - 5s 9ms/step - loss: 0.0160 - val_loss: 0.0153\n",
            "Epoch 93/100\n",
            "490/490 [==============================] - 5s 9ms/step - loss: 0.0157 - val_loss: 0.0155\n",
            "Epoch 94/100\n",
            "490/490 [==============================] - 5s 9ms/step - loss: 0.0162 - val_loss: 0.0150\n",
            "Epoch 95/100\n",
            "490/490 [==============================] - 5s 9ms/step - loss: 0.0154 - val_loss: 0.0149\n",
            "Epoch 96/100\n",
            "490/490 [==============================] - 5s 9ms/step - loss: 0.0156 - val_loss: 0.0160\n",
            "Epoch 97/100\n",
            "490/490 [==============================] - 5s 9ms/step - loss: 0.0154 - val_loss: 0.0167\n",
            "Epoch 98/100\n",
            "490/490 [==============================] - 4s 9ms/step - loss: 0.0154 - val_loss: 0.0175\n",
            "Epoch 99/100\n",
            "490/490 [==============================] - 4s 9ms/step - loss: 0.0151 - val_loss: 0.0157\n",
            "Epoch 100/100\n",
            "490/490 [==============================] - 4s 9ms/step - loss: 0.0152 - val_loss: 0.0147\n"
          ],
          "name": "stdout"
        }
      ]
    },
    {
      "cell_type": "code",
      "metadata": {
        "id": "ptrVK_4b79dT"
      },
      "source": [
        "y_predito2 = recorrente_g.predict(xteste_novo)\n"
      ],
      "execution_count": 61,
      "outputs": []
    },
    {
      "cell_type": "code",
      "metadata": {
        "id": "6jiQNQAu6I7f",
        "outputId": "396dbe09-0546-4e9c-b65f-f16780e567d2",
        "colab": {
          "base_uri": "https://localhost:8080/",
          "height": 361
        }
      },
      "source": [
        "sns.lineplot(x='datas',y=yteste[:,0], data=bike[tamanho_treino:len(bike)])\n",
        "sns.lineplot(x='datas',y=y_predito2[:,0], data=bike[tamanho_treino+10:len(bike)],marker='.')\n",
        "plt.legend(['conhecido','estimado'])\n",
        "plt.xticks(rotation=70) "
      ],
      "execution_count": 62,
      "outputs": [
        {
          "output_type": "execute_result",
          "data": {
            "text/plain": [
              "(array([736269., 736283., 736299., 736313., 736330.]),\n",
              " <a list of 5 Text major ticklabel objects>)"
            ]
          },
          "metadata": {
            "tags": []
          },
          "execution_count": 62
        },
        {
          "output_type": "display_data",
          "data": {
            "image/png": "[encoded data removed]",
            "text/plain": [
              "<Figure size 432x288 with 1 Axes>"
            ]
          },
          "metadata": {
            "tags": [],
            "needs_background": "light"
          }
        }
      ]
    },
    {
      "cell_type": "code",
      "metadata": {
        "id": "NCK78hDZ6Ls9",
        "outputId": "e6165fba-8bde-4f91-a5d2-78c06e2a8b0c",
        "colab": {
          "base_uri": "https://localhost:8080/",
          "height": 34
        }
      },
      "source": [
        "print(resultado2.history.keys())"
      ],
      "execution_count": 63,
      "outputs": [
        {
          "output_type": "stream",
          "text": [
            "dict_keys(['loss', 'val_loss'])\n"
          ],
          "name": "stdout"
        }
      ]
    },
    {
      "cell_type": "code",
      "metadata": {
        "id": "RMQRdA2y6bP9"
      },
      "source": [
        "mpl.rcParams['figure.figsize'] = (10, 6)\n",
        "mpl.rcParams['font.size'] = 22"
      ],
      "execution_count": 68,
      "outputs": []
    },
    {
      "cell_type": "code",
      "metadata": {
        "id": "oL7UZEsM6PbW",
        "outputId": "7a82b564-71eb-44e4-a657-27869eecab6d",
        "colab": {
          "base_uri": "https://localhost:8080/",
          "height": 406
        }
      },
      "source": [
        "plt.plot(resultado.history['loss'])\n",
        "plt.plot(resultado.history['val_loss'])\n",
        "plt.legend(['treino','teste'])"
      ],
      "execution_count": 69,
      "outputs": [
        {
          "output_type": "execute_result",
          "data": {
            "text/plain": [
              "<matplotlib.legend.Legend at 0x7f26b0149080>"
            ]
          },
          "metadata": {
            "tags": []
          },
          "execution_count": 69
        },
        {
          "output_type": "display_data",
          "data": {
            "image/png": "[encoded data removed]",
            "text/plain": [
              "<Figure size 720x432 with 1 Axes>"
            ]
          },
          "metadata": {
            "tags": [],
            "needs_background": "light"
          }
        }
      ]
    },
    {
      "cell_type": "code",
      "metadata": {
        "id": "N7ZZfwV_6Q0W",
        "outputId": "92309ade-579d-44b7-a4f7-c60da1f7ee85",
        "colab": {
          "base_uri": "https://localhost:8080/",
          "height": 401
        }
      },
      "source": [
        "plt.plot(resultado2.history['loss'])\n",
        "plt.plot(resultado2.history['val_loss'])\n",
        "plt.legend(['treino','teste'])\n"
      ],
      "execution_count": 70,
      "outputs": [
        {
          "output_type": "execute_result",
          "data": {
            "text/plain": [
              "<matplotlib.legend.Legend at 0x7f26af9e5ef0>"
            ]
          },
          "metadata": {
            "tags": []
          },
          "execution_count": 70
        },
        {
          "output_type": "display_data",
          "data": {
            "image/png": "[encoded data removed]",
            "text/plain": [
              "<Figure size 720x432 with 1 Axes>"
            ]
          },
          "metadata": {
            "tags": [],
            "needs_background": "light"
          }
        }
      ]
    },
    {
      "cell_type": "code",
      "metadata": {
        "id": "pQkFQrNo6SQu"
      },
      "source": [
        ""
      ],
      "execution_count": null,
      "outputs": []
    }
  ]
}